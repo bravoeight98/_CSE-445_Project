{
  "nbformat": 4,
  "nbformat_minor": 0,
  "metadata": {
    "colab": {
      "name": "BFND_SVMClassifiers2.ipynb",
      "provenance": [],
      "authorship_tag": "ABX9TyNsojIEwJ87qiPvyexCBnkn",
      "include_colab_link": true
    },
    "kernelspec": {
      "name": "python3",
      "display_name": "Python 3"
    },
    "language_info": {
      "name": "python"
    }
  },
  "cells": [
    {
      "cell_type": "markdown",
      "metadata": {
        "id": "view-in-github",
        "colab_type": "text"
      },
      "source": [
        "<a href=\"https://colab.research.google.com/github/bravoeight98/_CSE-445_Project/blob/main/BFND_SVMClassifiers2.ipynb\" target=\"_parent\"><img src=\"https://colab.research.google.com/assets/colab-badge.svg\" alt=\"Open In Colab\"/></a>"
      ]
    },
    {
      "cell_type": "markdown",
      "metadata": {
        "id": "o1yt6LTmyvK6"
      },
      "source": [
        "# Imporing Packages and Libraries"
      ]
    },
    {
      "cell_type": "markdown",
      "metadata": {
        "id": "rjrHm517yz7H"
      },
      "source": [
        "Importing all necessary packages"
      ]
    },
    {
      "cell_type": "code",
      "metadata": {
        "colab": {
          "base_uri": "https://localhost:8080/"
        },
        "id": "LTEovemFu0I6",
        "outputId": "5e356575-a82a-4dc1-cae3-f2a878ebc4f6"
      },
      "source": [
        "#import package\n",
        "\n",
        "!pip install ipython-autotime\n",
        "%load_ext autotime\n",
        "\n",
        "import numpy as np\n",
        "import pandas as pd\n",
        "import seaborn as sns\n",
        "import matplotlib.pyplot as plt\n",
        "\n",
        "import nltk\n",
        "nltk.download('stopwords')\n",
        "from nltk.corpus import stopwords\n",
        "from nltk.stem.porter import PorterStemmer\n",
        "\n",
        "from sklearn.feature_extraction.text import CountVectorizer, TfidfVectorizer, HashingVectorizer\n",
        "import re\n",
        "import string\n",
        "\n",
        "from sklearn.model_selection import train_test_split\n",
        "from sklearn.feature_extraction.text import CountVectorizer\n",
        "\n",
        "from sklearn import metrics\n",
        "from sklearn.feature_extraction.text import TfidfVectorizer"
      ],
      "execution_count": 12,
      "outputs": [
        {
          "output_type": "stream",
          "name": "stdout",
          "text": [
            "Requirement already satisfied: ipython-autotime in /usr/local/lib/python3.7/dist-packages (0.3.1)\n",
            "Requirement already satisfied: ipython in /usr/local/lib/python3.7/dist-packages (from ipython-autotime) (5.5.0)\n",
            "Requirement already satisfied: prompt-toolkit<2.0.0,>=1.0.4 in /usr/local/lib/python3.7/dist-packages (from ipython->ipython-autotime) (1.0.18)\n",
            "Requirement already satisfied: decorator in /usr/local/lib/python3.7/dist-packages (from ipython->ipython-autotime) (4.4.2)\n",
            "Requirement already satisfied: pexpect in /usr/local/lib/python3.7/dist-packages (from ipython->ipython-autotime) (4.8.0)\n",
            "Requirement already satisfied: simplegeneric>0.8 in /usr/local/lib/python3.7/dist-packages (from ipython->ipython-autotime) (0.8.1)\n",
            "Requirement already satisfied: pickleshare in /usr/local/lib/python3.7/dist-packages (from ipython->ipython-autotime) (0.7.5)\n",
            "Requirement already satisfied: setuptools>=18.5 in /usr/local/lib/python3.7/dist-packages (from ipython->ipython-autotime) (57.4.0)\n",
            "Requirement already satisfied: traitlets>=4.2 in /usr/local/lib/python3.7/dist-packages (from ipython->ipython-autotime) (5.0.5)\n",
            "Requirement already satisfied: pygments in /usr/local/lib/python3.7/dist-packages (from ipython->ipython-autotime) (2.6.1)\n",
            "Requirement already satisfied: wcwidth in /usr/local/lib/python3.7/dist-packages (from prompt-toolkit<2.0.0,>=1.0.4->ipython->ipython-autotime) (0.2.5)\n",
            "Requirement already satisfied: six>=1.9.0 in /usr/local/lib/python3.7/dist-packages (from prompt-toolkit<2.0.0,>=1.0.4->ipython->ipython-autotime) (1.15.0)\n",
            "Requirement already satisfied: ipython-genutils in /usr/local/lib/python3.7/dist-packages (from traitlets>=4.2->ipython->ipython-autotime) (0.2.0)\n",
            "Requirement already satisfied: ptyprocess>=0.5 in /usr/local/lib/python3.7/dist-packages (from pexpect->ipython->ipython-autotime) (0.7.0)\n",
            "The autotime extension is already loaded. To reload it, use:\n",
            "  %reload_ext autotime\n",
            "[nltk_data] Downloading package stopwords to /root/nltk_data...\n",
            "[nltk_data]   Package stopwords is already up-to-date!\n",
            "time: 3.12 s (started: 2021-09-06 18:24:10 +00:00)\n"
          ]
        }
      ]
    },
    {
      "cell_type": "markdown",
      "metadata": {
        "id": "wEsIoybTlpY3"
      },
      "source": [
        "# Getting and preparing Datasets"
      ]
    },
    {
      "cell_type": "markdown",
      "metadata": {
        "id": "ZZRQJMvLiMAe"
      },
      "source": [
        "Mount from Google Drive"
      ]
    },
    {
      "cell_type": "code",
      "metadata": {
        "colab": {
          "base_uri": "https://localhost:8080/"
        },
        "id": "pQeqbh5gsebD",
        "outputId": "f6352765-0c57-479b-9b0f-4d65e2d54fa1"
      },
      "source": [
        "from google.colab import drive\n",
        "drive.mount('/content/drive')"
      ],
      "execution_count": 13,
      "outputs": [
        {
          "output_type": "stream",
          "name": "stdout",
          "text": [
            "Drive already mounted at /content/drive; to attempt to forcibly remount, call drive.mount(\"/content/drive\", force_remount=True).\n",
            "time: 5.78 ms (started: 2021-09-06 18:24:17 +00:00)\n"
          ]
        }
      ]
    },
    {
      "cell_type": "code",
      "metadata": {
        "id": "3nyf38uQh7GZ",
        "colab": {
          "base_uri": "https://localhost:8080/"
        },
        "outputId": "4e35d8dd-196c-4fea-8d8e-edafc767afca"
      },
      "source": [
        "# Reading from file \n",
        "fake = pd.read_csv('/content/drive/MyDrive/BanFakeNewsDataset/Fake-1K.csv')\n",
        "true = pd.read_csv('/content/drive/MyDrive/BanFakeNewsDataset/LabeledAuthentic-7K.csv')"
      ],
      "execution_count": 16,
      "outputs": [
        {
          "output_type": "stream",
          "name": "stdout",
          "text": [
            "time: 2.52 s (started: 2021-09-06 18:27:59 +00:00)\n"
          ]
        }
      ]
    },
    {
      "cell_type": "markdown",
      "metadata": {
        "id": "MBop7t4flK_3"
      },
      "source": [
        "Show Info"
      ]
    },
    {
      "cell_type": "code",
      "metadata": {
        "colab": {
          "base_uri": "https://localhost:8080/",
          "height": 637
        },
        "id": "Yjgvr_DSlM0s",
        "outputId": "c7d57f8f-85ab-48cc-9f7a-75dac723c23d"
      },
      "source": [
        "print(true.shape)\n",
        "print(true.info())\n",
        "true.head()"
      ],
      "execution_count": 17,
      "outputs": [
        {
          "output_type": "stream",
          "name": "stdout",
          "text": [
            "(7202, 9)\n",
            "<class 'pandas.core.frame.DataFrame'>\n",
            "RangeIndex: 7202 entries, 0 to 7201\n",
            "Data columns (total 9 columns):\n",
            " #   Column     Non-Null Count  Dtype  \n",
            "---  ------     --------------  -----  \n",
            " 0   articleID  7202 non-null   int64  \n",
            " 1   domain     7202 non-null   object \n",
            " 2   date       7202 non-null   object \n",
            " 3   category   7202 non-null   object \n",
            " 4   source     7202 non-null   object \n",
            " 5   relation   7202 non-null   object \n",
            " 6   headline   7202 non-null   object \n",
            " 7   content    7202 non-null   object \n",
            " 8   label      7202 non-null   float64\n",
            "dtypes: float64(1), int64(1), object(7)\n",
            "memory usage: 506.5+ KB\n",
            "None\n"
          ]
        },
        {
          "output_type": "execute_result",
          "data": {
            "text/html": [
              "<div>\n",
              "<style scoped>\n",
              "    .dataframe tbody tr th:only-of-type {\n",
              "        vertical-align: middle;\n",
              "    }\n",
              "\n",
              "    .dataframe tbody tr th {\n",
              "        vertical-align: top;\n",
              "    }\n",
              "\n",
              "    .dataframe thead th {\n",
              "        text-align: right;\n",
              "    }\n",
              "</style>\n",
              "<table border=\"1\" class=\"dataframe\">\n",
              "  <thead>\n",
              "    <tr style=\"text-align: right;\">\n",
              "      <th></th>\n",
              "      <th>articleID</th>\n",
              "      <th>domain</th>\n",
              "      <th>date</th>\n",
              "      <th>category</th>\n",
              "      <th>source</th>\n",
              "      <th>relation</th>\n",
              "      <th>headline</th>\n",
              "      <th>content</th>\n",
              "      <th>label</th>\n",
              "    </tr>\n",
              "  </thead>\n",
              "  <tbody>\n",
              "    <tr>\n",
              "      <th>0</th>\n",
              "      <td>1</td>\n",
              "      <td>bd-pratidin.com</td>\n",
              "      <td>2018-09-20 08:16:43</td>\n",
              "      <td>Sports</td>\n",
              "      <td>আফগান ক্রিকেট বোর্ড (এসিবি) প্রধান</td>\n",
              "      <td>Related</td>\n",
              "      <td>হঠাৎ আফগান ক্রিকেট বোর্ড প্রধানের পদত্যাগ</td>\n",
              "      <td>ক্রিকেট বিশ্বের নতুন চমকের নাম আফগানিস্তান। কয়...</td>\n",
              "      <td>1.0</td>\n",
              "    </tr>\n",
              "    <tr>\n",
              "      <th>1</th>\n",
              "      <td>2</td>\n",
              "      <td>jugantor.com</td>\n",
              "      <td>2018-09-20 20:20:20</td>\n",
              "      <td>Sports</td>\n",
              "      <td>Reporter</td>\n",
              "      <td>Related</td>\n",
              "      <td>টস হেরে বোলিংয়ে বাংলাদেশ</td>\n",
              "      <td>এশিয়া কাপের ষষ্ঠ ম্যাচে বাংলাদেশ দলের বিপক্ষে ...</td>\n",
              "      <td>1.0</td>\n",
              "    </tr>\n",
              "    <tr>\n",
              "      <th>2</th>\n",
              "      <td>3</td>\n",
              "      <td>bd24live.com</td>\n",
              "      <td>2018-09-20 16:39:40</td>\n",
              "      <td>National</td>\n",
              "      <td>Reporter</td>\n",
              "      <td>Related</td>\n",
              "      <td>রাজধানীতে বিশেষ অভিযানে আটক ৪৩</td>\n",
              "      <td>রাজধানীতে মাদক বিরোধী বিশেষ অভিযান পরিচালনা কর...</td>\n",
              "      <td>1.0</td>\n",
              "    </tr>\n",
              "    <tr>\n",
              "      <th>3</th>\n",
              "      <td>4</td>\n",
              "      <td>bd24live.com</td>\n",
              "      <td>2018-09-19 18:27:56</td>\n",
              "      <td>National</td>\n",
              "      <td>জননিরাপত্তা বিভাগের সচিব</td>\n",
              "      <td>Related</td>\n",
              "      <td>উস্কানি রোধে নজরদারি থাকবে সামাজিক যোগাযোগ মাধ...</td>\n",
              "      <td>সনাতন ধর্মাবলম্বীদের সবচেয়ে বড় ধর্মীয় উৎসব দুর...</td>\n",
              "      <td>1.0</td>\n",
              "    </tr>\n",
              "    <tr>\n",
              "      <th>4</th>\n",
              "      <td>5</td>\n",
              "      <td>somoynews.tv</td>\n",
              "      <td>2018-09-20 10:15:28</td>\n",
              "      <td>Finance</td>\n",
              "      <td>পেট্রোল পাম্প মালিক সমিতি সভাপতি</td>\n",
              "      <td>Related</td>\n",
              "      <td>'যেখানে তেল আসত ৭ দিনে, এখন তা আসবে অতি দ্রুত'</td>\n",
              "      <td>ভারত থেকে পাইপ লাইনের মাধ্যমে সরাসরি দেশে জ্বা...</td>\n",
              "      <td>1.0</td>\n",
              "    </tr>\n",
              "  </tbody>\n",
              "</table>\n",
              "</div>"
            ],
            "text/plain": [
              "   articleID  ... label\n",
              "0          1  ...   1.0\n",
              "1          2  ...   1.0\n",
              "2          3  ...   1.0\n",
              "3          4  ...   1.0\n",
              "4          5  ...   1.0\n",
              "\n",
              "[5 rows x 9 columns]"
            ]
          },
          "metadata": {},
          "execution_count": 17
        },
        {
          "output_type": "stream",
          "name": "stdout",
          "text": [
            "time: 46.4 ms (started: 2021-09-06 18:28:06 +00:00)\n"
          ]
        }
      ]
    },
    {
      "cell_type": "markdown",
      "metadata": {
        "id": "rL_AuHkzlvdk"
      },
      "source": [
        "# Preprocessing Data"
      ]
    },
    {
      "cell_type": "code",
      "metadata": {
        "id": "EQR_Ubvjl0TH",
        "colab": {
          "base_uri": "https://localhost:8080/"
        },
        "outputId": "a2907ffa-ebef-49ca-e84f-cef488e6eeb3"
      },
      "source": [
        "fake['Label'] = 1\n",
        "true['Label'] = 0"
      ],
      "execution_count": 18,
      "outputs": [
        {
          "output_type": "stream",
          "name": "stdout",
          "text": [
            "time: 6.07 ms (started: 2021-09-06 18:28:11 +00:00)\n"
          ]
        }
      ]
    },
    {
      "cell_type": "code",
      "metadata": {
        "colab": {
          "base_uri": "https://localhost:8080/",
          "height": 363
        },
        "id": "5q6ArBHZl5jn",
        "outputId": "c1637725-2995-4a79-d799-5d0190dd723a"
      },
      "source": [
        "data = pd.concat([true,fake],axis=0,ignore_index=True)\n",
        "print(data.shape)\n",
        "data.head()"
      ],
      "execution_count": 19,
      "outputs": [
        {
          "output_type": "stream",
          "name": "stdout",
          "text": [
            "(8501, 10)\n"
          ]
        },
        {
          "output_type": "execute_result",
          "data": {
            "text/html": [
              "<div>\n",
              "<style scoped>\n",
              "    .dataframe tbody tr th:only-of-type {\n",
              "        vertical-align: middle;\n",
              "    }\n",
              "\n",
              "    .dataframe tbody tr th {\n",
              "        vertical-align: top;\n",
              "    }\n",
              "\n",
              "    .dataframe thead th {\n",
              "        text-align: right;\n",
              "    }\n",
              "</style>\n",
              "<table border=\"1\" class=\"dataframe\">\n",
              "  <thead>\n",
              "    <tr style=\"text-align: right;\">\n",
              "      <th></th>\n",
              "      <th>articleID</th>\n",
              "      <th>domain</th>\n",
              "      <th>date</th>\n",
              "      <th>category</th>\n",
              "      <th>source</th>\n",
              "      <th>relation</th>\n",
              "      <th>headline</th>\n",
              "      <th>content</th>\n",
              "      <th>label</th>\n",
              "      <th>Label</th>\n",
              "    </tr>\n",
              "  </thead>\n",
              "  <tbody>\n",
              "    <tr>\n",
              "      <th>0</th>\n",
              "      <td>1</td>\n",
              "      <td>bd-pratidin.com</td>\n",
              "      <td>2018-09-20 08:16:43</td>\n",
              "      <td>Sports</td>\n",
              "      <td>আফগান ক্রিকেট বোর্ড (এসিবি) প্রধান</td>\n",
              "      <td>Related</td>\n",
              "      <td>হঠাৎ আফগান ক্রিকেট বোর্ড প্রধানের পদত্যাগ</td>\n",
              "      <td>ক্রিকেট বিশ্বের নতুন চমকের নাম আফগানিস্তান। কয়...</td>\n",
              "      <td>1.0</td>\n",
              "      <td>0</td>\n",
              "    </tr>\n",
              "    <tr>\n",
              "      <th>1</th>\n",
              "      <td>2</td>\n",
              "      <td>jugantor.com</td>\n",
              "      <td>2018-09-20 20:20:20</td>\n",
              "      <td>Sports</td>\n",
              "      <td>Reporter</td>\n",
              "      <td>Related</td>\n",
              "      <td>টস হেরে বোলিংয়ে বাংলাদেশ</td>\n",
              "      <td>এশিয়া কাপের ষষ্ঠ ম্যাচে বাংলাদেশ দলের বিপক্ষে ...</td>\n",
              "      <td>1.0</td>\n",
              "      <td>0</td>\n",
              "    </tr>\n",
              "    <tr>\n",
              "      <th>2</th>\n",
              "      <td>3</td>\n",
              "      <td>bd24live.com</td>\n",
              "      <td>2018-09-20 16:39:40</td>\n",
              "      <td>National</td>\n",
              "      <td>Reporter</td>\n",
              "      <td>Related</td>\n",
              "      <td>রাজধানীতে বিশেষ অভিযানে আটক ৪৩</td>\n",
              "      <td>রাজধানীতে মাদক বিরোধী বিশেষ অভিযান পরিচালনা কর...</td>\n",
              "      <td>1.0</td>\n",
              "      <td>0</td>\n",
              "    </tr>\n",
              "    <tr>\n",
              "      <th>3</th>\n",
              "      <td>4</td>\n",
              "      <td>bd24live.com</td>\n",
              "      <td>2018-09-19 18:27:56</td>\n",
              "      <td>National</td>\n",
              "      <td>জননিরাপত্তা বিভাগের সচিব</td>\n",
              "      <td>Related</td>\n",
              "      <td>উস্কানি রোধে নজরদারি থাকবে সামাজিক যোগাযোগ মাধ...</td>\n",
              "      <td>সনাতন ধর্মাবলম্বীদের সবচেয়ে বড় ধর্মীয় উৎসব দুর...</td>\n",
              "      <td>1.0</td>\n",
              "      <td>0</td>\n",
              "    </tr>\n",
              "    <tr>\n",
              "      <th>4</th>\n",
              "      <td>5</td>\n",
              "      <td>somoynews.tv</td>\n",
              "      <td>2018-09-20 10:15:28</td>\n",
              "      <td>Finance</td>\n",
              "      <td>পেট্রোল পাম্প মালিক সমিতি সভাপতি</td>\n",
              "      <td>Related</td>\n",
              "      <td>'যেখানে তেল আসত ৭ দিনে, এখন তা আসবে অতি দ্রুত'</td>\n",
              "      <td>ভারত থেকে পাইপ লাইনের মাধ্যমে সরাসরি দেশে জ্বা...</td>\n",
              "      <td>1.0</td>\n",
              "      <td>0</td>\n",
              "    </tr>\n",
              "  </tbody>\n",
              "</table>\n",
              "</div>"
            ],
            "text/plain": [
              "   articleID           domain  ... label Label\n",
              "0          1  bd-pratidin.com  ...   1.0     0\n",
              "1          2     jugantor.com  ...   1.0     0\n",
              "2          3     bd24live.com  ...   1.0     0\n",
              "3          4     bd24live.com  ...   1.0     0\n",
              "4          5     somoynews.tv  ...   1.0     0\n",
              "\n",
              "[5 rows x 10 columns]"
            ]
          },
          "metadata": {},
          "execution_count": 19
        },
        {
          "output_type": "stream",
          "name": "stdout",
          "text": [
            "time: 32.2 ms (started: 2021-09-06 18:28:13 +00:00)\n"
          ]
        }
      ]
    },
    {
      "cell_type": "code",
      "metadata": {
        "colab": {
          "base_uri": "https://localhost:8080/",
          "height": 317
        },
        "id": "DBStj_TXmGL8",
        "outputId": "f6b2c15a-ff2b-40e4-9ed5-b36cd61ebdde"
      },
      "source": [
        "data.describe()"
      ],
      "execution_count": 20,
      "outputs": [
        {
          "output_type": "execute_result",
          "data": {
            "text/html": [
              "<div>\n",
              "<style scoped>\n",
              "    .dataframe tbody tr th:only-of-type {\n",
              "        vertical-align: middle;\n",
              "    }\n",
              "\n",
              "    .dataframe tbody tr th {\n",
              "        vertical-align: top;\n",
              "    }\n",
              "\n",
              "    .dataframe thead th {\n",
              "        text-align: right;\n",
              "    }\n",
              "</style>\n",
              "<table border=\"1\" class=\"dataframe\">\n",
              "  <thead>\n",
              "    <tr style=\"text-align: right;\">\n",
              "      <th></th>\n",
              "      <th>articleID</th>\n",
              "      <th>label</th>\n",
              "      <th>Label</th>\n",
              "    </tr>\n",
              "  </thead>\n",
              "  <tbody>\n",
              "    <tr>\n",
              "      <th>count</th>\n",
              "      <td>8501.000000</td>\n",
              "      <td>8501.000000</td>\n",
              "      <td>8501.000000</td>\n",
              "    </tr>\n",
              "    <tr>\n",
              "      <th>mean</th>\n",
              "      <td>3443.091283</td>\n",
              "      <td>0.847194</td>\n",
              "      <td>0.152806</td>\n",
              "    </tr>\n",
              "    <tr>\n",
              "      <th>std</th>\n",
              "      <td>2499.712953</td>\n",
              "      <td>0.359821</td>\n",
              "      <td>0.359821</td>\n",
              "    </tr>\n",
              "    <tr>\n",
              "      <th>min</th>\n",
              "      <td>1.000000</td>\n",
              "      <td>0.000000</td>\n",
              "      <td>0.000000</td>\n",
              "    </tr>\n",
              "    <tr>\n",
              "      <th>25%</th>\n",
              "      <td>1074.000000</td>\n",
              "      <td>1.000000</td>\n",
              "      <td>0.000000</td>\n",
              "    </tr>\n",
              "    <tr>\n",
              "      <th>50%</th>\n",
              "      <td>3127.000000</td>\n",
              "      <td>1.000000</td>\n",
              "      <td>0.000000</td>\n",
              "    </tr>\n",
              "    <tr>\n",
              "      <th>75%</th>\n",
              "      <td>5555.000000</td>\n",
              "      <td>1.000000</td>\n",
              "      <td>0.000000</td>\n",
              "    </tr>\n",
              "    <tr>\n",
              "      <th>max</th>\n",
              "      <td>8268.000000</td>\n",
              "      <td>1.000000</td>\n",
              "      <td>1.000000</td>\n",
              "    </tr>\n",
              "  </tbody>\n",
              "</table>\n",
              "</div>"
            ],
            "text/plain": [
              "         articleID        label        Label\n",
              "count  8501.000000  8501.000000  8501.000000\n",
              "mean   3443.091283     0.847194     0.152806\n",
              "std    2499.712953     0.359821     0.359821\n",
              "min       1.000000     0.000000     0.000000\n",
              "25%    1074.000000     1.000000     0.000000\n",
              "50%    3127.000000     1.000000     0.000000\n",
              "75%    5555.000000     1.000000     0.000000\n",
              "max    8268.000000     1.000000     1.000000"
            ]
          },
          "metadata": {},
          "execution_count": 20
        },
        {
          "output_type": "stream",
          "name": "stdout",
          "text": [
            "time: 33 ms (started: 2021-09-06 18:28:20 +00:00)\n"
          ]
        }
      ]
    },
    {
      "cell_type": "code",
      "metadata": {
        "id": "PZj5zVZhmPD8",
        "colab": {
          "base_uri": "https://localhost:8080/"
        },
        "outputId": "f9cca1fd-e618-4bb0-d64c-7d68470900a0"
      },
      "source": [
        "data['content']=data['headline']+data['content']\n",
        "data=data.drop(['headline'], axis=1)"
      ],
      "execution_count": 21,
      "outputs": [
        {
          "output_type": "stream",
          "name": "stdout",
          "text": [
            "time: 52.6 ms (started: 2021-09-06 18:28:25 +00:00)\n"
          ]
        }
      ]
    },
    {
      "cell_type": "markdown",
      "metadata": {
        "id": "6B2DFdjYs_n-"
      },
      "source": [
        "Chek if dataset is Balanced"
      ]
    },
    {
      "cell_type": "code",
      "metadata": {
        "colab": {
          "base_uri": "https://localhost:8080/",
          "height": 372
        },
        "id": "0-MoOBLBmlHd",
        "outputId": "53d5a608-a734-4364-bdf3-ddf2617d97ad"
      },
      "source": [
        "sns.countplot(data.Label)"
      ],
      "execution_count": 22,
      "outputs": [
        {
          "output_type": "stream",
          "name": "stderr",
          "text": [
            "/usr/local/lib/python3.7/dist-packages/seaborn/_decorators.py:43: FutureWarning: Pass the following variable as a keyword arg: x. From version 0.12, the only valid positional argument will be `data`, and passing other arguments without an explicit keyword will result in an error or misinterpretation.\n",
            "  FutureWarning\n"
          ]
        },
        {
          "output_type": "execute_result",
          "data": {
            "text/plain": [
              "<matplotlib.axes._subplots.AxesSubplot at 0x7fe0fb941950>"
            ]
          },
          "metadata": {},
          "execution_count": 22
        },
        {
          "output_type": "display_data",
          "data": {
            "image/png": "[encoded data removed]",
            "text/plain": [
              "<Figure size 432x288 with 1 Axes>"
            ]
          },
          "metadata": {
            "needs_background": "light"
          }
        },
        {
          "output_type": "stream",
          "name": "stdout",
          "text": [
            "time: 189 ms (started: 2021-09-06 18:28:27 +00:00)\n"
          ]
        }
      ]
    },
    {
      "cell_type": "markdown",
      "metadata": {
        "id": "8ceK6nIOtE2G"
      },
      "source": [
        "Conclusion: Imbalanced Dataset"
      ]
    },
    {
      "cell_type": "code",
      "metadata": {
        "colab": {
          "base_uri": "https://localhost:8080/"
        },
        "id": "r5Hh3U3Qmm2A",
        "outputId": "8a95817a-3e00-412c-c5d5-abe6f807156b"
      },
      "source": [
        "data.category.value_counts()"
      ],
      "execution_count": 23,
      "outputs": [
        {
          "output_type": "execute_result",
          "data": {
            "text/plain": [
              "National         3600\n",
              "Miscellaneous     944\n",
              "Sports            943\n",
              "International     935\n",
              "Politics          475\n",
              "Entertainment     408\n",
              "Editorial         336\n",
              "Crime             266\n",
              "Lifestyle         192\n",
              "Education         139\n",
              "Finance           138\n",
              "Technology        125\n",
              "Name: category, dtype: int64"
            ]
          },
          "metadata": {},
          "execution_count": 23
        },
        {
          "output_type": "stream",
          "name": "stdout",
          "text": [
            "time: 16.6 ms (started: 2021-09-06 18:28:33 +00:00)\n"
          ]
        }
      ]
    },
    {
      "cell_type": "markdown",
      "metadata": {
        "id": "fambCLALooHz"
      },
      "source": [
        "# Data Cleaning"
      ]
    },
    {
      "cell_type": "markdown",
      "metadata": {
        "id": "zTHknxdNoqu5"
      },
      "source": [
        "Removing stop words in order to root words that are retaining in the data and fed into the models"
      ]
    },
    {
      "cell_type": "code",
      "metadata": {
        "id": "OPjR0yuHb_xk",
        "colab": {
          "base_uri": "https://localhost:8080/"
        },
        "outputId": "af1669a9-6ac7-4aa5-ae8b-2b29892b064f"
      },
      "source": [
        "#stop = stopwords.words('bangla')\n",
        "stop = frozenset([\"অবশ্য\", \"অনেক\", \"অনেকে\", \"অনেকেই\", \"অন্তত\", \"অথবা\", \"অথচ\",\n",
        "\"অর্থাত\",\n",
        "\"অন্য\",\n",
        "\"আজ\",\n",
        "\"আছে\",\n",
        "\"আপনার\",\n",
        "\"আপনি\",\n",
        "\"আবার\",\n",
        "\"আমরা\",\n",
        "\"আমাকে\",\n",
        "\"আমাদের\",\n",
        "\"আমার\",\n",
        "\"আমি\",\n",
        "\"আরও\",\n",
        "\"আর\",\n",
        "\"আগে\",\n",
        "\"আগেই\",\n",
        "\"আই\",\n",
        "\"অতএব\",\n",
        "\"আগামী\",\n",
        "\"অবধি\",\n",
        "\"অনুযায়ী\",\n",
        "\"আদ্যভাগে\",\n",
        "\"এই\",\n",
        "\"একই\",\n",
        "\"একে\",\n",
        "\"একটি\",\n",
        "\"এখন\",\n",
        "\"এখনও\",\n",
        "\"এখানে\",\n",
        "\"এখানেই\",\n",
        "\"এটি\",\n",
        "\"এটা\",\n",
        "\"এটাই\",\n",
        "\"এতটাই\",\n",
        "\"এবং\",\n",
        "\"একবার\",\n",
        "\"এবার\",\n",
        "\"এদের\",\n",
        "\"এঁদের\",\n",
        "\"এমন\",\n",
        "\"এমনকী\",\n",
        "\"এল\",\n",
        "\"এর\",\n",
        "\"এরা\",\n",
        "\"এঁরা\",\n",
        "\"এস\",\n",
        "\"এত\",\n",
        "\"এতে\",\n",
        "\"এসে\",\n",
        "\"একে\",\n",
        "\"এ\",\n",
        "\"ঐ\",\n",
        "\"ই\",\n",
        "\"ইহা\",\n",
        "\"ইত্যাদি\",\n",
        "\"উনি\",\n",
        "\"উপর\",\n",
        "\"উপরে\",\n",
        "\"উচিত\",\n",
        "\"ও\",\n",
        "\"ওই\",\n",
        "\"ওর\",\n",
        "\"ওরা\",\n",
        "\"ওঁর\",\n",
        "\"ওঁরা\",\n",
        "\"ওকে\",\n",
        "\"ওদের\",\n",
        "\"ওঁদের\"\n",
        "\"ওখানে\",\n",
        "\"কত\",\n",
        "\"কবে\",\n",
        "\"করতে\",\n",
        "\"কয়েক\",\n",
        "\"কয়েকটি\",\n",
        "\"করবে\",\n",
        "\"করলেন\",\n",
        "\"করার\",\n",
        "\"কারও\",\n",
        "\"করা\",\n",
        "\"করি\",\n",
        "\"করিয়ে\",\n",
        "\"করার\",\n",
        "\"করাই\",\n",
        "\"করলে\",\n",
        "\"করলেন\",\n",
        "\"করিতে\",\n",
        "\"করিয়া\",\n",
        "\"করেছিলেন\",\n",
        "\"করছে\",\n",
        "\"করছেন\",\n",
        "\"করেছেন\",\n",
        "\"করেছে\",\n",
        "\"করেন\",\n",
        "\"করবেন\",\n",
        "\"করায়\",\n",
        "\"করে\",\n",
        "\"করেই\",\n",
        "\"কাছ\",\n",
        "\"কাছে\",\n",
        "\"কাজে\",\n",
        "\"কারণ\",\n",
        "\"কিছু\",\n",
        "\"কিছুই\",\n",
        "\"কিন্তু\",\n",
        "\"কিংবা\",\n",
        "\"কি\",\n",
        "\"কী\",\n",
        "\"কেউ\",\n",
        "\"কেউই\",\n",
        "\"কাউকে\",\n",
        "\"কেন\",\n",
        "\"কে\",\n",
        "\"কোনও\",\n",
        "\"কোনো\",\n",
        "\"কোন\",\n",
        "\"কখনও\",\n",
        "\"ক্ষেত্রে\",\n",
        "\"খুব\",\t\n",
        "\"গুলি\",\n",
        "\"গিয়ে\",\n",
        "\"গিয়েছে\",\n",
        "\"গেছে\",\n",
        "\"গেল\",\n",
        "\"গেলে\",\n",
        "\"গোটা\",\n",
        "\"চলে\",\n",
        "\"ছাড়া\",\n",
        "\"ছাড়াও\",\n",
        "\"ছিলেন\",\n",
        "\"ছিল\",\n",
        "\"জন্য\",\n",
        "\"জানা\",\n",
        "\"ঠিক\",\n",
        "\"তিনি\",\n",
        "\"তিনঐ\",\n",
        "\"তিনিও\",\n",
        "\"তখন\",\n",
        "\"তবে\",\n",
        "\"তবু\",\n",
        "\"তাঁদের\",\n",
        "\"তাঁহারা\",\n",
        "\"তাঁরা\",\n",
        "\"তাঁর\",\n",
        "\"তাঁকে\",\n",
        "\"তাই\",\n",
        "\"তেমন\",\n",
        "\"তাকে\",\n",
        "\"তাহা\",\n",
        "\"তাহাতে\",\n",
        "\"তাহার\",\n",
        "\"তাদের\",\n",
        "\"তারপর\",\n",
        "\"তারা\",\n",
        "\"তারৈ\",\n",
        "\"তার\",\n",
        "\"তাহলে\",\n",
        "\"তিনি\",\n",
        "\"তা\",\n",
        "\"তাও\",\n",
        "\"তাতে\",\n",
        "\"তো\",\n",
        "\"তত\",\n",
        "\"তুমি\",\n",
        "\"তোমার\",\n",
        "\"তথা\",\n",
        "\"থাকে\",\n",
        "\"থাকা\",\n",
        "\"থাকায়\",\n",
        "\"থেকে\",\n",
        "\"থেকেও\",\n",
        "\"থাকবে\",\n",
        "\"থাকেন\",\n",
        "\"থাকবেন\",\n",
        "\"থেকেই\",\n",
        "\"দিকে\",\n",
        "\"দিতে\",\n",
        "\"দিয়ে\",\n",
        "\"দিয়েছে\",\n",
        "\"দিয়েছেন\",\n",
        "\"দিলেন\",\n",
        "\"দু\",\n",
        "\"দুটি\",\n",
        "\"দুটো\",\n",
        "\"দেয়\",\n",
        "\"দেওয়া\",\n",
        "\"দেওয়ার\",\n",
        "\"দেখা\",\n",
        "\"দেখে\",\n",
        "\"দেখতে\",\n",
        "\"দ্বারা\",\n",
        "\"ধরে\",\n",
        "\"ধরা\",\n",
        "\"নয়\",\n",
        "\"নানা\",\n",
        "\"না\",\n",
        "\"নাকি\",\n",
        "\"নাগাদ\",\n",
        "\"নিতে\",\n",
        "\"নিজে\",\n",
        "\"নিজেই\",\n",
        "\"নিজের\",\n",
        "\"নিজেদের\",\n",
        "\"নিয়ে\",\n",
        "\"নেওয়া\",\n",
        "\"নেওয়ার\",\n",
        "\"নেই\",\n",
        "\"নাই\",\n",
        "\"পক্ষে\",\n",
        "\"পর্যন্ত\",\n",
        "\"পাওয়া\",\n",
        "\"পারেন\",\n",
        "\"পারি\",\n",
        "\"পারে\",\n",
        "\"পরে\",\n",
        "\"পরেই\",\n",
        "\"পরেও\",\n",
        "\"পর\",\n",
        "\"পেয়ে\",\n",
        "\"প্রতি\",\n",
        "\"প্রভৃতি\",\n",
        "\"প্রায়\",\n",
        "\"ফের\",\n",
        "\"ফলে\",\n",
        "\"ফিরে\",\n",
        "\"ব্যবহার\",\n",
        "\"বলতে\",\n",
        "\"বললেন\",\n",
        "\"বলেছেন\",\n",
        "\"বলল\",\n",
        "\"বলা\",\n",
        "\"বলেন\",\n",
        "\"বলে\",\n",
        "\"বহু\",\n",
        "\"বসে\",\n",
        "\"বার\",\n",
        "\"বা\",\n",
        "\"বিনা\",\n",
        "\"বরং\",\n",
        "\"বদলে\",\n",
        "\"বাদে\",\n",
        "\"বার\",\n",
        "\"বিশেষ\",\n",
        "\"বিভিন্ন\tবিষয়টি\",\n",
        "\"ব্যবহার\",\n",
        "\"ব্যাপারে\",\n",
        "\"ভাবে\",\n",
        "\"ভাবেই\",\n",
        "\"মধ্যে\",\n",
        "\"মধ্যেই\",\n",
        "\"মধ্যেও\",\n",
        "\"মধ্যভাগে\",\n",
        "\"মাধ্যমে\",\n",
        "\"মাত্র\",\n",
        "\"মতো\",\n",
        "\"মতোই\",\n",
        "\"মোটেই\",\n",
        "\"যখন\",\n",
        "\"যদি\",\n",
        "\"যদিও\",\n",
        "\"যাবে\",\n",
        "\"যায়\",\n",
        "\"যাকে\",\n",
        "\"যাওয়া\",\n",
        "\"যাওয়ার\",\n",
        "\"যত\",\n",
        "\"যতটা\",\n",
        "\"যা\",\n",
        "\"যার\",\n",
        "\"যারা\",\n",
        "\"যাঁর\",\n",
        "\"যাঁরা\",\n",
        "\"যাদের\",\n",
        "\"যান\",\n",
        "\"যাচ্ছে\",\n",
        "\"যেতে\",\n",
        "\"যাতে\",\n",
        "\"যেন\",\n",
        "\"যেমন\",\n",
        "\"যেখানে\",\n",
        "\"যিনি\",\n",
        "\"যে\",\n",
        "\"রেখে\",\n",
        "\"রাখা\",\n",
        "\"রয়েছে\",\n",
        "\"রকম\",\n",
        "\"শুধু\",\n",
        "\"সঙ্গে\",\n",
        "\"সঙ্গেও\",\n",
        "\"সমস্ত\",\n",
        "\"সব\",\n",
        "\"সবার\",\n",
        "\"সহ\",\n",
        "\"সুতরাং\",\n",
        "\"সহিত\",\n",
        "\"সেই\",\n",
        "\"সেটা\",\n",
        "\"সেটি\",\n",
        "\"সেটাই\",\n",
        "\"সেটাও\",\n",
        "\"সম্প্রতি\",\n",
        "\"সেখান\",\n",
        "\"সেখানে\",\n",
        "\"সে\",\n",
        "\"স্পষ্ট\",\n",
        "\"স্বয়ং\",\n",
        "\"হইতে\",\n",
        "\"হইবে\",\n",
        "\"হৈলে\",\n",
        "\"হইয়া\",\n",
        "\"হচ্ছে\",\n",
        "\"হত\",\n",
        "\"হতে\",\n",
        "\"হতেই\",\n",
        "\"হবে\",\n",
        "\"হবেন\",\n",
        "\"হয়েছিল\",\n",
        "\"হয়েছে\",\n",
        "\"হয়েছেন\",\n",
        "\"হয়ে\",\n",
        "\"হয়নি\",\n",
        "\"হয়\",\n",
        "\"হয়েই\",\n",
        "\"হয়তো\",\n",
        "\"হল\",\n",
        "\"হলে\",\n",
        "\"হলেই\",\n",
        "\"হলেও\",\n",
        "\"হলো\",\n",
        "\"হিসাবে\",\n",
        "\"হওয়া\",\n",
        "\"হওয়ার\",\n",
        "\"হওয়ায়\",\n",
        "\"হন\",\n",
        "\"হোক\",\n",
        "\"জন\",\n",
        "\"জনকে\",\n",
        "\"জনের\",\n",
        "\"জানতে\",\n",
        "\"জানায়\",\n",
        "\"জানিয়ে\",\n",
        "\"জানানো\",\n",
        "\"জানিয়েছে\",\n",
        "\"জন্য\", \"জন্যওজে\", \"জে\", \"বেশ\", \"দেন\", \"তুলে\", \"ছিলেন\", \"চান\", \"চায়\", \"চেয়ে\", \"মোট\", \"যথেষ্ট\", \"টি\"])\n",
        "data['content'] = data['content'].apply(lambda x: ' '.join([word for word in x.split() if word not in (stop)]))"
      ],
      "execution_count": 24,
      "outputs": [
        {
          "output_type": "stream",
          "name": "stdout",
          "text": [
            "time: 1.19 s (started: 2021-09-06 18:28:39 +00:00)\n"
          ]
        }
      ]
    },
    {
      "cell_type": "markdown",
      "metadata": {
        "id": "ezZDHJ-0fbc1"
      },
      "source": [
        "#Bulding Model"
      ]
    },
    {
      "cell_type": "markdown",
      "metadata": {
        "id": "06ReTE9Z6pLv"
      },
      "source": [
        "Spliting datas into training set and test set"
      ]
    },
    {
      "cell_type": "code",
      "metadata": {
        "id": "yU7d4N1gff4b",
        "colab": {
          "base_uri": "https://localhost:8080/"
        },
        "outputId": "5ae13d2d-9df0-45d2-de53-b98e7b69c4e3"
      },
      "source": [
        "y = data['Label']\n",
        "X_train, X_test, y_train, y_test = train_test_split(data['content'], y,test_size=0.33,random_state=53)"
      ],
      "execution_count": 25,
      "outputs": [
        {
          "output_type": "stream",
          "name": "stdout",
          "text": [
            "time: 15.6 ms (started: 2021-09-06 18:28:48 +00:00)\n"
          ]
        }
      ]
    },
    {
      "cell_type": "code",
      "metadata": {
        "colab": {
          "base_uri": "https://localhost:8080/"
        },
        "id": "s-iIarNYfm7B",
        "outputId": "f5b86e56-5f77-4f00-8ca4-134e0e8a1056"
      },
      "source": [
        "count_vectorizer = CountVectorizer(stop_words = frozenset([\"অবশ্য\", \"অনেক\", \"অনেকে\", \"অনেকেই\", \"অন্তত\", \"অথবা\", \"অথচ\",\n",
        "\"অর্থাত\",\n",
        "\"অন্য\",\n",
        "\"আজ\",\n",
        "\"আছে\",\n",
        "\"আপনার\",\n",
        "\"আপনি\",\n",
        "\"আবার\",\n",
        "\"আমরা\",\n",
        "\"আমাকে\",\n",
        "\"আমাদের\",\n",
        "\"আমার\",\n",
        "\"আমি\",\n",
        "\"আরও\",\n",
        "\"আর\",\n",
        "\"আগে\",\n",
        "\"আগেই\",\n",
        "\"আই\",\n",
        "\"অতএব\",\n",
        "\"আগামী\",\n",
        "\"অবধি\",\n",
        "\"অনুযায়ী\",\n",
        "\"আদ্যভাগে\",\n",
        "\"এই\",\n",
        "\"একই\",\n",
        "\"একে\",\n",
        "\"একটি\",\n",
        "\"এখন\",\n",
        "\"এখনও\",\n",
        "\"এখানে\",\n",
        "\"এখানেই\",\n",
        "\"এটি\",\n",
        "\"এটা\",\n",
        "\"এটাই\",\n",
        "\"এতটাই\",\n",
        "\"এবং\",\n",
        "\"একবার\",\n",
        "\"এবার\",\n",
        "\"এদের\",\n",
        "\"এঁদের\",\n",
        "\"এমন\",\n",
        "\"এমনকী\",\n",
        "\"এল\",\n",
        "\"এর\",\n",
        "\"এরা\",\n",
        "\"এঁরা\",\n",
        "\"এস\",\n",
        "\"এত\",\n",
        "\"এতে\",\n",
        "\"এসে\",\n",
        "\"একে\",\n",
        "\"এ\",\n",
        "\"ঐ\",\n",
        "\"ই\",\n",
        "\"ইহা\",\n",
        "\"ইত্যাদি\",\n",
        "\"উনি\",\n",
        "\"উপর\",\n",
        "\"উপরে\",\n",
        "\"উচিত\",\n",
        "\"ও\",\n",
        "\"ওই\",\n",
        "\"ওর\",\n",
        "\"ওরা\",\n",
        "\"ওঁর\",\n",
        "\"ওঁরা\",\n",
        "\"ওকে\",\n",
        "\"ওদের\",\n",
        "\"ওঁদের\"\n",
        "\"ওখানে\",\n",
        "\"কত\",\n",
        "\"কবে\",\n",
        "\"করতে\",\n",
        "\"কয়েক\",\n",
        "\"কয়েকটি\",\n",
        "\"করবে\",\n",
        "\"করলেন\",\n",
        "\"করার\",\n",
        "\"কারও\",\n",
        "\"করা\",\n",
        "\"করি\",\n",
        "\"করিয়ে\",\n",
        "\"করার\",\n",
        "\"করাই\",\n",
        "\"করলে\",\n",
        "\"করলেন\",\n",
        "\"করিতে\",\n",
        "\"করিয়া\",\n",
        "\"করেছিলেন\",\n",
        "\"করছে\",\n",
        "\"করছেন\",\n",
        "\"করেছেন\",\n",
        "\"করেছে\",\n",
        "\"করেন\",\n",
        "\"করবেন\",\n",
        "\"করায়\",\n",
        "\"করে\",\n",
        "\"করেই\",\n",
        "\"কাছ\",\n",
        "\"কাছে\",\n",
        "\"কাজে\",\n",
        "\"কারণ\",\n",
        "\"কিছু\",\n",
        "\"কিছুই\",\n",
        "\"কিন্তু\",\n",
        "\"কিংবা\",\n",
        "\"কি\",\n",
        "\"কী\",\n",
        "\"কেউ\",\n",
        "\"কেউই\",\n",
        "\"কাউকে\",\n",
        "\"কেন\",\n",
        "\"কে\",\n",
        "\"কোনও\",\n",
        "\"কোনো\",\n",
        "\"কোন\",\n",
        "\"কখনও\",\n",
        "\"ক্ষেত্রে\",\n",
        "\"খুব\",\t\n",
        "\"গুলি\",\n",
        "\"গিয়ে\",\n",
        "\"গিয়েছে\",\n",
        "\"গেছে\",\n",
        "\"গেল\",\n",
        "\"গেলে\",\n",
        "\"গোটা\",\n",
        "\"চলে\",\n",
        "\"ছাড়া\",\n",
        "\"ছাড়াও\",\n",
        "\"ছিলেন\",\n",
        "\"ছিল\",\n",
        "\"জন্য\",\n",
        "\"জানা\",\n",
        "\"ঠিক\",\n",
        "\"তিনি\",\n",
        "\"তিনঐ\",\n",
        "\"তিনিও\",\n",
        "\"তখন\",\n",
        "\"তবে\",\n",
        "\"তবু\",\n",
        "\"তাঁদের\",\n",
        "\"তাঁহারা\",\n",
        "\"তাঁরা\",\n",
        "\"তাঁর\",\n",
        "\"তাঁকে\",\n",
        "\"তাই\",\n",
        "\"তেমন\",\n",
        "\"তাকে\",\n",
        "\"তাহা\",\n",
        "\"তাহাতে\",\n",
        "\"তাহার\",\n",
        "\"তাদের\",\n",
        "\"তারপর\",\n",
        "\"তারা\",\n",
        "\"তারৈ\",\n",
        "\"তার\",\n",
        "\"তাহলে\",\n",
        "\"তিনি\",\n",
        "\"তা\",\n",
        "\"তাও\",\n",
        "\"তাতে\",\n",
        "\"তো\",\n",
        "\"তত\",\n",
        "\"তুমি\",\n",
        "\"তোমার\",\n",
        "\"তথা\",\n",
        "\"থাকে\",\n",
        "\"থাকা\",\n",
        "\"থাকায়\",\n",
        "\"থেকে\",\n",
        "\"থেকেও\",\n",
        "\"থাকবে\",\n",
        "\"থাকেন\",\n",
        "\"থাকবেন\",\n",
        "\"থেকেই\",\n",
        "\"দিকে\",\n",
        "\"দিতে\",\n",
        "\"দিয়ে\",\n",
        "\"দিয়েছে\",\n",
        "\"দিয়েছেন\",\n",
        "\"দিলেন\",\n",
        "\"দু\",\n",
        "\"দুটি\",\n",
        "\"দুটো\",\n",
        "\"দেয়\",\n",
        "\"দেওয়া\",\n",
        "\"দেওয়ার\",\n",
        "\"দেখা\",\n",
        "\"দেখে\",\n",
        "\"দেখতে\",\n",
        "\"দ্বারা\",\n",
        "\"ধরে\",\n",
        "\"ধরা\",\n",
        "\"নয়\",\n",
        "\"নানা\",\n",
        "\"না\",\n",
        "\"নাকি\",\n",
        "\"নাগাদ\",\n",
        "\"নিতে\",\n",
        "\"নিজে\",\n",
        "\"নিজেই\",\n",
        "\"নিজের\",\n",
        "\"নিজেদের\",\n",
        "\"নিয়ে\",\n",
        "\"নেওয়া\",\n",
        "\"নেওয়ার\",\n",
        "\"নেই\",\n",
        "\"নাই\",\n",
        "\"পক্ষে\",\n",
        "\"পর্যন্ত\",\n",
        "\"পাওয়া\",\n",
        "\"পারেন\",\n",
        "\"পারি\",\n",
        "\"পারে\",\n",
        "\"পরে\",\n",
        "\"পরেই\",\n",
        "\"পরেও\",\n",
        "\"পর\",\n",
        "\"পেয়ে\",\n",
        "\"প্রতি\",\n",
        "\"প্রভৃতি\",\n",
        "\"প্রায়\",\n",
        "\"ফের\",\n",
        "\"ফলে\",\n",
        "\"ফিরে\",\n",
        "\"ব্যবহার\",\n",
        "\"বলতে\",\n",
        "\"বললেন\",\n",
        "\"বলেছেন\",\n",
        "\"বলল\",\n",
        "\"বলা\",\n",
        "\"বলেন\",\n",
        "\"বলে\",\n",
        "\"বহু\",\n",
        "\"বসে\",\n",
        "\"বার\",\n",
        "\"বা\",\n",
        "\"বিনা\",\n",
        "\"বরং\",\n",
        "\"বদলে\",\n",
        "\"বাদে\",\n",
        "\"বার\",\n",
        "\"বিশেষ\",\n",
        "\"বিভিন্ন\tবিষয়টি\",\n",
        "\"ব্যবহার\",\n",
        "\"ব্যাপারে\",\n",
        "\"ভাবে\",\n",
        "\"ভাবেই\",\n",
        "\"মধ্যে\",\n",
        "\"মধ্যেই\",\n",
        "\"মধ্যেও\",\n",
        "\"মধ্যভাগে\",\n",
        "\"মাধ্যমে\",\n",
        "\"মাত্র\",\n",
        "\"মতো\",\n",
        "\"মতোই\",\n",
        "\"মোটেই\",\n",
        "\"যখন\",\n",
        "\"যদি\",\n",
        "\"যদিও\",\n",
        "\"যাবে\",\n",
        "\"যায়\",\n",
        "\"যাকে\",\n",
        "\"যাওয়া\",\n",
        "\"যাওয়ার\",\n",
        "\"যত\",\n",
        "\"যতটা\",\n",
        "\"যা\",\n",
        "\"যার\",\n",
        "\"যারা\",\n",
        "\"যাঁর\",\n",
        "\"যাঁরা\",\n",
        "\"যাদের\",\n",
        "\"যান\",\n",
        "\"যাচ্ছে\",\n",
        "\"যেতে\",\n",
        "\"যাতে\",\n",
        "\"যেন\",\n",
        "\"যেমন\",\n",
        "\"যেখানে\",\n",
        "\"যিনি\",\n",
        "\"যে\",\n",
        "\"রেখে\",\n",
        "\"রাখা\",\n",
        "\"রয়েছে\",\n",
        "\"রকম\",\n",
        "\"শুধু\",\n",
        "\"সঙ্গে\",\n",
        "\"সঙ্গেও\",\n",
        "\"সমস্ত\",\n",
        "\"সব\",\n",
        "\"সবার\",\n",
        "\"সহ\",\n",
        "\"সুতরাং\",\n",
        "\"সহিত\",\n",
        "\"সেই\",\n",
        "\"সেটা\",\n",
        "\"সেটি\",\n",
        "\"সেটাই\",\n",
        "\"সেটাও\",\n",
        "\"সম্প্রতি\",\n",
        "\"সেখান\",\n",
        "\"সেখানে\",\n",
        "\"সে\",\n",
        "\"স্পষ্ট\",\n",
        "\"স্বয়ং\",\n",
        "\"হইতে\",\n",
        "\"হইবে\",\n",
        "\"হৈলে\",\n",
        "\"হইয়া\",\n",
        "\"হচ্ছে\",\n",
        "\"হত\",\n",
        "\"হতে\",\n",
        "\"হতেই\",\n",
        "\"হবে\",\n",
        "\"হবেন\",\n",
        "\"হয়েছিল\",\n",
        "\"হয়েছে\",\n",
        "\"হয়েছেন\",\n",
        "\"হয়ে\",\n",
        "\"হয়নি\",\n",
        "\"হয়\",\n",
        "\"হয়েই\",\n",
        "\"হয়তো\",\n",
        "\"হল\",\n",
        "\"হলে\",\n",
        "\"হলেই\",\n",
        "\"হলেও\",\n",
        "\"হলো\",\n",
        "\"হিসাবে\",\n",
        "\"হওয়া\",\n",
        "\"হওয়ার\",\n",
        "\"হওয়ায়\",\n",
        "\"হন\",\n",
        "\"হোক\",\n",
        "\"জন\",\n",
        "\"জনকে\",\n",
        "\"জনের\",\n",
        "\"জানতে\",\n",
        "\"জানায়\",\n",
        "\"জানিয়ে\",\n",
        "\"জানানো\",\n",
        "\"জানিয়েছে\",\n",
        "\"জন্য\", \"জন্যওজে\", \"জে\", \"বেশ\", \"দেন\", \"তুলে\", \"ছিলেন\", \"চান\", \"চায়\", \"চেয়ে\", \"মোট\", \"যথেষ্ট\", \"টি\"]))\n",
        "\n",
        "count_train = count_vectorizer.fit_transform(X_train.values)\n",
        "count_test = count_vectorizer.transform(X_test.values)\n",
        "print(count_train.shape)"
      ],
      "execution_count": 26,
      "outputs": [
        {
          "output_type": "stream",
          "name": "stderr",
          "text": [
            "/usr/local/lib/python3.7/dist-packages/sklearn/feature_extraction/text.py:385: UserWarning: Your stop_words may be inconsistent with your preprocessing. Tokenizing the stop words generated tokens ['অথব', 'অন', 'অবধ', 'অবশ', 'অর', 'আগ', 'আছ', 'আদ', 'আপন', 'আব', 'আম', 'আমর', 'ইত', 'ইহ', 'উই', 'উক', 'উচ', 'উন', 'এক', 'একট', 'একব', 'এখ', 'এট', 'এতট', 'এদ', 'এব', 'এমনক', 'ওক', 'ওদ', 'ওয়', 'কট', 'কব', 'কর', 'করছ', 'করত', 'করব', 'করল', 'কয়', 'খত', 'চল', 'জনক', 'তথ', 'তব', 'তর', 'ধর', 'নঐ', 'নও', 'নত', 'পক', 'পষ', 'ফল', 'বদল', 'বর', 'বল', 'বলত', 'বস', 'বহ', 'বয়', 'মত', 'মধ', 'মন', 'যওজ', 'যতট', 'যথ', 'যদ', 'যন', 'যবহ', 'যভ', 'যম', 'রও', 'রওখ', 'রণ', 'রত', 'রপর', 'রভ', 'রয়', 'ষয়ট', 'সঙ', 'সম', 'সমস', 'হইত', 'হইব', 'হইয়', 'হওয়', 'হচ', 'হব', 'হয়ত', 'হয়ন'] not in stop_words.\n",
            "  'stop_words.' % sorted(inconsistent))\n"
          ]
        },
        {
          "output_type": "stream",
          "name": "stdout",
          "text": [
            "(5695, 11928)\n",
            "time: 2.41 s (started: 2021-09-06 18:28:52 +00:00)\n"
          ]
        }
      ]
    },
    {
      "cell_type": "markdown",
      "metadata": {
        "id": "54wjDMUDfxAz"
      },
      "source": [
        "# Training Model"
      ]
    },
    {
      "cell_type": "code",
      "metadata": {
        "id": "-JdlSUEl8ACA",
        "colab": {
          "base_uri": "https://localhost:8080/"
        },
        "outputId": "56cc3136-7b9e-4fc2-894b-125dfa43c846"
      },
      "source": [
        "from sklearn.svm import SVC\n",
        "from sklearn.metrics import classification_report"
      ],
      "execution_count": 27,
      "outputs": [
        {
          "output_type": "stream",
          "name": "stdout",
          "text": [
            "time: 1.82 ms (started: 2021-09-06 18:28:59 +00:00)\n"
          ]
        }
      ]
    },
    {
      "cell_type": "code",
      "metadata": {
        "colab": {
          "base_uri": "https://localhost:8080/"
        },
        "id": "bBPR_JGff1Ql",
        "outputId": "8ff9998a-0caf-444c-8c63-d804d856af0f"
      },
      "source": [
        "\n",
        "svc_model1 = SVC(C=1, kernel='linear', gamma= 1)\n",
        "svc_model1.fit(count_train, y_train)\n",
        "\n",
        "prediction1 = svc_model1.predict(count_test)\n",
        "\n",
        "print(classification_report(y_test, prediction1, target_names = ['Fake','True']))\n"
      ],
      "execution_count": 28,
      "outputs": [
        {
          "output_type": "stream",
          "name": "stdout",
          "text": [
            "              precision    recall  f1-score   support\n",
            "\n",
            "        Fake       0.95      0.97      0.96      2369\n",
            "        True       0.81      0.73      0.77       437\n",
            "\n",
            "    accuracy                           0.93      2806\n",
            "   macro avg       0.88      0.85      0.86      2806\n",
            "weighted avg       0.93      0.93      0.93      2806\n",
            "\n",
            "time: 8.3 s (started: 2021-09-06 18:29:03 +00:00)\n"
          ]
        }
      ]
    },
    {
      "cell_type": "code",
      "metadata": {
        "colab": {
          "base_uri": "https://localhost:8080/",
          "height": 315
        },
        "id": "VYvOnx5CprS_",
        "outputId": "eef12872-a425-4250-ade6-3a89a7228a94"
      },
      "source": [
        "# plot ROC Curve\n",
        "\n",
        "from sklearn.metrics import roc_curve\n",
        "\n",
        "fpr, tpr, thresholds = roc_curve(y_test, prediction1)\n",
        "\n",
        "plt.figure(figsize=(6,4))\n",
        "\n",
        "plt.plot(fpr, tpr, linewidth=2)\n",
        "\n",
        "plt.plot([0,1], [0,1], 'k--' )\n",
        "\n",
        "plt.rcParams['font.size'] = 12\n",
        "\n",
        "plt.title('ROC curve for Predicting Bangla Fake News (SVM Linear Kernel)')\n",
        "\n",
        "plt.xlabel('False Positive Rate')\n",
        "\n",
        "plt.ylabel('True Positive Rate')\n",
        "\n",
        "plt.show()"
      ],
      "execution_count": 29,
      "outputs": [
        {
          "output_type": "display_data",
          "data": {
            "image/png": "[encoded data removed]",
            "text/plain": [
              "<Figure size 432x288 with 1 Axes>"
            ]
          },
          "metadata": {
            "needs_background": "light"
          }
        },
        {
          "output_type": "stream",
          "name": "stdout",
          "text": [
            "time: 183 ms (started: 2021-09-06 18:29:17 +00:00)\n"
          ]
        }
      ]
    },
    {
      "cell_type": "code",
      "metadata": {
        "colab": {
          "base_uri": "https://localhost:8080/"
        },
        "id": "Z2-HKvYGzCT1",
        "outputId": "5c6021b5-5ffa-4445-d155-8fe6c7dc1269"
      },
      "source": [
        "# compute ROC AUC\n",
        "\n",
        "from sklearn.metrics import roc_auc_score\n",
        "\n",
        "ROC_AUC = roc_auc_score(y_test, prediction1)\n",
        "\n",
        "print('ROC AUC : {:.4f}'.format(ROC_AUC))"
      ],
      "execution_count": 30,
      "outputs": [
        {
          "output_type": "stream",
          "name": "stdout",
          "text": [
            "ROC AUC : 0.8494\n",
            "time: 7.99 ms (started: 2021-09-06 18:29:24 +00:00)\n"
          ]
        }
      ]
    },
    {
      "cell_type": "code",
      "metadata": {
        "colab": {
          "base_uri": "https://localhost:8080/"
        },
        "id": "7I_s-3Buq_3v",
        "outputId": "4989ee1c-df57-4be5-8e65-d2de60d93378"
      },
      "source": [
        "# Print the Confusion Matrix and slice it into four pieces\n",
        "\n",
        "from sklearn.metrics import confusion_matrix\n",
        "\n",
        "cm = confusion_matrix(y_test, prediction1)\n",
        "\n",
        "print('Confusion matrix\\n\\n', cm)\n",
        "\n",
        "print('\\nTrue Positives(TP) = ', cm[0,0])\n",
        "\n",
        "print('\\nTrue Negatives(TN) = ', cm[1,1])\n",
        "\n",
        "print('\\nFalse Positives(FP) = ', cm[0,1])\n",
        "\n",
        "print('\\nFalse Negatives(FN) = ', cm[1,0])"
      ],
      "execution_count": 31,
      "outputs": [
        {
          "output_type": "stream",
          "name": "stdout",
          "text": [
            "Confusion matrix\n",
            "\n",
            " [[2295   74]\n",
            " [ 118  319]]\n",
            "\n",
            "True Positives(TP) =  2295\n",
            "\n",
            "True Negatives(TN) =  319\n",
            "\n",
            "False Positives(FP) =  74\n",
            "\n",
            "False Negatives(FN) =  118\n",
            "time: 17.2 ms (started: 2021-09-06 18:29:28 +00:00)\n"
          ]
        }
      ]
    },
    {
      "cell_type": "code",
      "metadata": {
        "colab": {
          "base_uri": "https://localhost:8080/",
          "height": 336
        },
        "id": "SQ52ep5JrBUa",
        "outputId": "ccdca12b-69dd-4c8a-b6e1-a13c84fc8356"
      },
      "source": [
        "# visualize confusion matrix with seaborn heatmap\n",
        "\n",
        "cm_matrix = pd.DataFrame(data=cm, columns=['Actual Positive:1', 'Actual Negative:0'], \n",
        "                                 index=['Predict Positive:1', 'Predict Negative:0'])\n",
        "\n",
        "sns.heatmap(cm_matrix, annot=True, fmt='d', cmap='YlGnBu')"
      ],
      "execution_count": 32,
      "outputs": [
        {
          "output_type": "execute_result",
          "data": {
            "text/plain": [
              "<matplotlib.axes._subplots.AxesSubplot at 0x7fe0fb019590>"
            ]
          },
          "metadata": {},
          "execution_count": 32
        },
        {
          "output_type": "display_data",
          "data": {
            "image/png": "[encoded data removed]",
            "text/plain": [
              "<Figure size 432x288 with 2 Axes>"
            ]
          },
          "metadata": {
            "needs_background": "light"
          }
        },
        {
          "output_type": "stream",
          "name": "stdout",
          "text": [
            "time: 256 ms (started: 2021-09-06 18:29:32 +00:00)\n"
          ]
        }
      ]
    },
    {
      "cell_type": "code",
      "metadata": {
        "colab": {
          "base_uri": "https://localhost:8080/"
        },
        "id": "6h_kadEH74jo",
        "outputId": "d469b412-d98c-411c-f741-538f61312183"
      },
      "source": [
        "svc_model1 = SVC(C=1, kernel='poly', gamma= 1)\n",
        "svc_model1.fit(count_train, y_train)\n",
        "\n",
        "prediction2 = svc_model1.predict(count_test)\n",
        "\n",
        "print(classification_report(y_test, prediction2, target_names = ['Fake','True']))"
      ],
      "execution_count": 34,
      "outputs": [
        {
          "output_type": "stream",
          "name": "stdout",
          "text": [
            "              precision    recall  f1-score   support\n",
            "\n",
            "        Fake       0.93      0.94      0.94      2369\n",
            "        True       0.67      0.60      0.63       437\n",
            "\n",
            "    accuracy                           0.89      2806\n",
            "   macro avg       0.80      0.77      0.78      2806\n",
            "weighted avg       0.89      0.89      0.89      2806\n",
            "\n",
            "time: 13.7 s (started: 2021-09-06 18:29:58 +00:00)\n"
          ]
        }
      ]
    },
    {
      "cell_type": "code",
      "metadata": {
        "colab": {
          "base_uri": "https://localhost:8080/",
          "height": 320
        },
        "id": "uaImSO8EzUVl",
        "outputId": "537bd7e8-6fc2-436b-8ade-7d299d970179"
      },
      "source": [
        "# plot ROC Curve\n",
        "\n",
        "from sklearn.metrics import roc_curve\n",
        "\n",
        "fpr, tpr, thresholds = roc_curve(y_test, prediction2)\n",
        "\n",
        "plt.figure(figsize=(6,4))\n",
        "\n",
        "plt.plot(fpr, tpr, linewidth=2)\n",
        "\n",
        "plt.plot([0,1], [0,1], 'k--' )\n",
        "\n",
        "plt.rcParams['font.size'] = 12\n",
        "\n",
        "plt.title('ROC curve for Predicting Bangla Fake News (SVM Linear Kernel)')\n",
        "\n",
        "plt.xlabel('False Positive Rate')\n",
        "\n",
        "plt.ylabel('True Positive Rate')\n",
        "\n",
        "plt.show()"
      ],
      "execution_count": 35,
      "outputs": [
        {
          "output_type": "display_data",
          "data": {
            "image/png": "[encoded data removed]",
            "text/plain": [
              "<Figure size 432x288 with 1 Axes>"
            ]
          },
          "metadata": {
            "needs_background": "light"
          }
        },
        {
          "output_type": "stream",
          "name": "stdout",
          "text": [
            "time: 208 ms (started: 2021-09-06 18:31:36 +00:00)\n"
          ]
        }
      ]
    },
    {
      "cell_type": "code",
      "metadata": {
        "colab": {
          "base_uri": "https://localhost:8080/"
        },
        "id": "B8f6rvVqza7b",
        "outputId": "9995d70a-2f12-44eb-b36d-ec47e08cf85d"
      },
      "source": [
        "# compute ROC AUC\n",
        "\n",
        "from sklearn.metrics import roc_auc_score\n",
        "\n",
        "ROC_AUC = roc_auc_score(y_test, prediction2)\n",
        "\n",
        "print('ROC AUC : {:.4f}'.format(ROC_AUC))"
      ],
      "execution_count": 36,
      "outputs": [
        {
          "output_type": "stream",
          "name": "stdout",
          "text": [
            "ROC AUC : 0.7733\n",
            "time: 11.3 ms (started: 2021-09-06 18:31:41 +00:00)\n"
          ]
        }
      ]
    },
    {
      "cell_type": "code",
      "metadata": {
        "colab": {
          "base_uri": "https://localhost:8080/"
        },
        "id": "9uI2SbKMzfzG",
        "outputId": "ca013096-177b-436c-b780-35d49ca95ec2"
      },
      "source": [
        "# Print the Confusion Matrix and slice it into four pieces\n",
        "\n",
        "from sklearn.metrics import confusion_matrix\n",
        "\n",
        "cm = confusion_matrix(y_test, prediction2)\n",
        "\n",
        "print('Confusion matrix\\n\\n', cm)\n",
        "\n",
        "print('\\nTrue Positives(TP) = ', cm[0,0])\n",
        "\n",
        "print('\\nTrue Negatives(TN) = ', cm[1,1])\n",
        "\n",
        "print('\\nFalse Positives(FP) = ', cm[0,1])\n",
        "\n",
        "print('\\nFalse Negatives(FN) = ', cm[1,0])"
      ],
      "execution_count": 37,
      "outputs": [
        {
          "output_type": "stream",
          "name": "stdout",
          "text": [
            "Confusion matrix\n",
            "\n",
            " [[2238  131]\n",
            " [ 174  263]]\n",
            "\n",
            "True Positives(TP) =  2238\n",
            "\n",
            "True Negatives(TN) =  263\n",
            "\n",
            "False Positives(FP) =  131\n",
            "\n",
            "False Negatives(FN) =  174\n",
            "time: 15.7 ms (started: 2021-09-06 18:31:46 +00:00)\n"
          ]
        }
      ]
    },
    {
      "cell_type": "code",
      "metadata": {
        "colab": {
          "base_uri": "https://localhost:8080/",
          "height": 336
        },
        "id": "TLca3uDazmJM",
        "outputId": "8ac38ed5-a791-4f36-b0b9-1e69503de07f"
      },
      "source": [
        "# visualize confusion matrix with seaborn heatmap\n",
        "\n",
        "cm_matrix = pd.DataFrame(data=cm, columns=['Actual Positive:1', 'Actual Negative:0'], \n",
        "                                 index=['Predict Positive:1', 'Predict Negative:0'])\n",
        "\n",
        "sns.heatmap(cm_matrix, annot=True, fmt='d', cmap='YlGnBu')"
      ],
      "execution_count": 38,
      "outputs": [
        {
          "output_type": "execute_result",
          "data": {
            "text/plain": [
              "<matplotlib.axes._subplots.AxesSubplot at 0x7fe0f23e0310>"
            ]
          },
          "metadata": {},
          "execution_count": 38
        },
        {
          "output_type": "display_data",
          "data": {
            "image/png": "[encoded data removed]",
            "text/plain": [
              "<Figure size 432x288 with 2 Axes>"
            ]
          },
          "metadata": {
            "needs_background": "light"
          }
        },
        {
          "output_type": "stream",
          "name": "stdout",
          "text": [
            "time: 402 ms (started: 2021-09-06 18:31:50 +00:00)\n"
          ]
        }
      ]
    },
    {
      "cell_type": "code",
      "metadata": {
        "colab": {
          "base_uri": "https://localhost:8080/"
        },
        "id": "tQVoR5Lb3biv",
        "outputId": "2d5d7442-da4e-42ed-e6ef-a34110349f75"
      },
      "source": [
        "svc_model1 = SVC(C=1, kernel='rbf', gamma= 1)\n",
        "svc_model1.fit(count_train, y_train)\n",
        "\n",
        "prediction3 = svc_model1.predict(count_test)\n",
        "\n",
        "print(classification_report(y_test, prediction3, target_names = ['Fake','True']))"
      ],
      "execution_count": 39,
      "outputs": [
        {
          "output_type": "stream",
          "name": "stdout",
          "text": [
            "              precision    recall  f1-score   support\n",
            "\n",
            "        Fake       0.85      1.00      0.92      2369\n",
            "        True       1.00      0.03      0.06       437\n",
            "\n",
            "    accuracy                           0.85      2806\n",
            "   macro avg       0.92      0.52      0.49      2806\n",
            "weighted avg       0.87      0.85      0.78      2806\n",
            "\n",
            "time: 40.5 s (started: 2021-09-06 18:31:58 +00:00)\n"
          ]
        }
      ]
    },
    {
      "cell_type": "code",
      "metadata": {
        "colab": {
          "base_uri": "https://localhost:8080/",
          "height": 320
        },
        "id": "SIEDYjyx2zdi",
        "outputId": "e1b81f77-3700-47ba-b234-30c0d8871477"
      },
      "source": [
        "# plot ROC Curve\n",
        "\n",
        "from sklearn.metrics import roc_curve\n",
        "\n",
        "fpr, tpr, thresholds = roc_curve(y_test, prediction3)\n",
        "\n",
        "plt.figure(figsize=(6,4))\n",
        "\n",
        "plt.plot(fpr, tpr, linewidth=2)\n",
        "\n",
        "plt.plot([0,1], [0,1], 'k--' )\n",
        "\n",
        "plt.rcParams['font.size'] = 12\n",
        "\n",
        "plt.title('ROC curve for Predicting Bangla Fake News (SVM Linear Kernel)')\n",
        "\n",
        "plt.xlabel('False Positive Rate')\n",
        "\n",
        "plt.ylabel('True Positive Rate')\n",
        "\n",
        "plt.show()"
      ],
      "execution_count": 40,
      "outputs": [
        {
          "output_type": "display_data",
          "data": {
            "image/png": "[encoded data removed]",
            "text/plain": [
              "<Figure size 432x288 with 1 Axes>"
            ]
          },
          "metadata": {
            "needs_background": "light"
          }
        },
        {
          "output_type": "stream",
          "name": "stdout",
          "text": [
            "time: 179 ms (started: 2021-09-06 18:32:57 +00:00)\n"
          ]
        }
      ]
    },
    {
      "cell_type": "code",
      "metadata": {
        "colab": {
          "base_uri": "https://localhost:8080/"
        },
        "id": "Dd6PogmN2000",
        "outputId": "72ae481f-2a9a-4281-dc4b-3c55b38f5da6"
      },
      "source": [
        "# compute ROC AUC\n",
        "\n",
        "from sklearn.metrics import roc_auc_score\n",
        "\n",
        "ROC_AUC = roc_auc_score(y_test, prediction3)\n",
        "\n",
        "print('ROC AUC : {:.4f}'.format(ROC_AUC))"
      ],
      "execution_count": 41,
      "outputs": [
        {
          "output_type": "stream",
          "name": "stdout",
          "text": [
            "ROC AUC : 0.5160\n",
            "time: 10.4 ms (started: 2021-09-06 18:33:03 +00:00)\n"
          ]
        }
      ]
    },
    {
      "cell_type": "code",
      "metadata": {
        "colab": {
          "base_uri": "https://localhost:8080/"
        },
        "id": "TyClOgfwKW8f",
        "outputId": "1c7969f5-9d99-4996-969e-22b40d64f27b"
      },
      "source": [
        "# Print the Confusion Matrix and slice it into four pieces\n",
        "\n",
        "from sklearn.metrics import confusion_matrix\n",
        "\n",
        "cm = confusion_matrix(y_test, prediction3)\n",
        "\n",
        "print('Confusion matrix\\n\\n', cm)\n",
        "\n",
        "print('\\nTrue Positives(TP) = ', cm[0,0])\n",
        "\n",
        "print('\\nTrue Negatives(TN) = ', cm[1,1])\n",
        "\n",
        "print('\\nFalse Positives(FP) = ', cm[0,1])\n",
        "\n",
        "print('\\nFalse Negatives(FN) = ', cm[1,0])"
      ],
      "execution_count": 42,
      "outputs": [
        {
          "output_type": "stream",
          "name": "stdout",
          "text": [
            "Confusion matrix\n",
            "\n",
            " [[2369    0]\n",
            " [ 423   14]]\n",
            "\n",
            "True Positives(TP) =  2369\n",
            "\n",
            "True Negatives(TN) =  14\n",
            "\n",
            "False Positives(FP) =  0\n",
            "\n",
            "False Negatives(FN) =  423\n",
            "time: 14.3 ms (started: 2021-09-06 18:33:07 +00:00)\n"
          ]
        }
      ]
    },
    {
      "cell_type": "code",
      "metadata": {
        "colab": {
          "base_uri": "https://localhost:8080/",
          "height": 336
        },
        "id": "5BaNsV1I29OX",
        "outputId": "bb17e00c-719c-4970-fe82-4b20f6dafea0"
      },
      "source": [
        "# visualize confusion matrix with seaborn heatmap\n",
        "\n",
        "cm_matrix = pd.DataFrame(data=cm, columns=['Actual Positive:1', 'Actual Negative:0'], \n",
        "                                 index=['Predict Positive:1', 'Predict Negative:0'])\n",
        "\n",
        "sns.heatmap(cm_matrix, annot=True, fmt='d', cmap='YlGnBu')"
      ],
      "execution_count": 43,
      "outputs": [
        {
          "output_type": "execute_result",
          "data": {
            "text/plain": [
              "<matplotlib.axes._subplots.AxesSubplot at 0x7fe0f2426750>"
            ]
          },
          "metadata": {},
          "execution_count": 43
        },
        {
          "output_type": "display_data",
          "data": {
            "image/png": "[encoded data removed]",
            "text/plain": [
              "<Figure size 432x288 with 2 Axes>"
            ]
          },
          "metadata": {
            "needs_background": "light"
          }
        },
        {
          "output_type": "stream",
          "name": "stdout",
          "text": [
            "time: 227 ms (started: 2021-09-06 18:33:11 +00:00)\n"
          ]
        }
      ]
    },
    {
      "cell_type": "code",
      "metadata": {
        "colab": {
          "base_uri": "https://localhost:8080/"
        },
        "id": "_thb5WsE3ca0",
        "outputId": "762997a6-b020-4c03-a1d7-752ed7eea181"
      },
      "source": [
        "svc_model1 = SVC(C=1, kernel='sigmoid', gamma= 1)\n",
        "svc_model1.fit(count_train, y_train)\n",
        "\n",
        "prediction4 = svc_model1.predict(count_test)\n",
        "\n",
        "print(classification_report(y_test, prediction4, target_names = ['Fake','True']))"
      ],
      "execution_count": 44,
      "outputs": [
        {
          "output_type": "stream",
          "name": "stdout",
          "text": [
            "              precision    recall  f1-score   support\n",
            "\n",
            "        Fake       0.85      0.87      0.86      2369\n",
            "        True       0.22      0.20      0.21       437\n",
            "\n",
            "    accuracy                           0.76      2806\n",
            "   macro avg       0.54      0.53      0.53      2806\n",
            "weighted avg       0.76      0.76      0.76      2806\n",
            "\n",
            "time: 8.43 s (started: 2021-09-06 18:33:15 +00:00)\n"
          ]
        }
      ]
    },
    {
      "cell_type": "code",
      "metadata": {
        "colab": {
          "base_uri": "https://localhost:8080/",
          "height": 320
        },
        "id": "GlYEV3lYJuRK",
        "outputId": "cabd7b9d-d308-4bbb-ae5f-85a7a18e9fd4"
      },
      "source": [
        "# plot ROC Curve\n",
        "\n",
        "from sklearn.metrics import roc_curve\n",
        "\n",
        "fpr, tpr, thresholds = roc_curve(y_test, prediction4)\n",
        "\n",
        "plt.figure(figsize=(6,4))\n",
        "\n",
        "plt.plot(fpr, tpr, linewidth=2)\n",
        "\n",
        "plt.plot([0,1], [0,1], 'k--' )\n",
        "\n",
        "plt.rcParams['font.size'] = 12\n",
        "\n",
        "plt.title('ROC curve for Predicting Bangla Fake News (SVM Linear Kernel)')\n",
        "\n",
        "plt.xlabel('False Positive Rate')\n",
        "\n",
        "plt.ylabel('True Positive Rate')\n",
        "\n",
        "plt.show()"
      ],
      "execution_count": 45,
      "outputs": [
        {
          "output_type": "display_data",
          "data": {
            "image/png": "[encoded data removed]",
            "text/plain": [
              "<Figure size 432x288 with 1 Axes>"
            ]
          },
          "metadata": {
            "needs_background": "light"
          }
        },
        {
          "output_type": "stream",
          "name": "stdout",
          "text": [
            "time: 176 ms (started: 2021-09-06 18:33:30 +00:00)\n"
          ]
        }
      ]
    },
    {
      "cell_type": "code",
      "metadata": {
        "colab": {
          "base_uri": "https://localhost:8080/"
        },
        "id": "SR2tGEQtJwZA",
        "outputId": "831475e1-f4e7-4f19-f855-830b859e2def"
      },
      "source": [
        "# compute ROC AUC\n",
        "\n",
        "from sklearn.metrics import roc_auc_score\n",
        "\n",
        "ROC_AUC = roc_auc_score(y_test, prediction4)\n",
        "\n",
        "print('ROC AUC : {:.4f}'.format(ROC_AUC))"
      ],
      "execution_count": 46,
      "outputs": [
        {
          "output_type": "stream",
          "name": "stdout",
          "text": [
            "ROC AUC : 0.5330\n",
            "time: 9.08 ms (started: 2021-09-06 18:33:34 +00:00)\n"
          ]
        }
      ]
    },
    {
      "cell_type": "code",
      "metadata": {
        "colab": {
          "base_uri": "https://localhost:8080/"
        },
        "id": "1IxY_HcRKshR",
        "outputId": "6421e9ba-79d9-4d82-d05e-6f5f59f176f2"
      },
      "source": [
        "# Print the Confusion Matrix and slice it into four pieces\n",
        "\n",
        "from sklearn.metrics import confusion_matrix\n",
        "\n",
        "cm = confusion_matrix(y_test, prediction4)\n",
        "\n",
        "print('Confusion matrix\\n\\n', cm)\n",
        "\n",
        "print('\\nTrue Positives(TP) = ', cm[0,0])\n",
        "\n",
        "print('\\nTrue Negatives(TN) = ', cm[1,1])\n",
        "\n",
        "print('\\nFalse Positives(FP) = ', cm[0,1])\n",
        "\n",
        "print('\\nFalse Negatives(FN) = ', cm[1,0])"
      ],
      "execution_count": 47,
      "outputs": [
        {
          "output_type": "stream",
          "name": "stdout",
          "text": [
            "Confusion matrix\n",
            "\n",
            " [[2059  310]\n",
            " [ 351   86]]\n",
            "\n",
            "True Positives(TP) =  2059\n",
            "\n",
            "True Negatives(TN) =  86\n",
            "\n",
            "False Positives(FP) =  310\n",
            "\n",
            "False Negatives(FN) =  351\n",
            "time: 18.4 ms (started: 2021-09-06 18:33:38 +00:00)\n"
          ]
        }
      ]
    },
    {
      "cell_type": "code",
      "metadata": {
        "colab": {
          "base_uri": "https://localhost:8080/",
          "height": 336
        },
        "id": "UIwkzNqSJy8T",
        "outputId": "6e631d42-9cf3-411a-e04f-d2433bf468dd"
      },
      "source": [
        "# visualize confusion matrix with seaborn heatmap\n",
        "\n",
        "cm_matrix = pd.DataFrame(data=cm, columns=['Actual Positive:1', 'Actual Negative:0'], \n",
        "                                 index=['Predict Positive:1', 'Predict Negative:0'])\n",
        "\n",
        "sns.heatmap(cm_matrix, annot=True, fmt='d', cmap='YlGnBu')"
      ],
      "execution_count": 48,
      "outputs": [
        {
          "output_type": "execute_result",
          "data": {
            "text/plain": [
              "<matplotlib.axes._subplots.AxesSubplot at 0x7fe0f2294650>"
            ]
          },
          "metadata": {},
          "execution_count": 48
        },
        {
          "output_type": "display_data",
          "data": {
            "image/png": "[encoded data removed]",
            "text/plain": [
              "<Figure size 432x288 with 2 Axes>"
            ]
          },
          "metadata": {
            "needs_background": "light"
          }
        },
        {
          "output_type": "stream",
          "name": "stdout",
          "text": [
            "time: 269 ms (started: 2021-09-06 18:33:41 +00:00)\n"
          ]
        }
      ]
    }
  ]
}