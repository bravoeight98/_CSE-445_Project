{
  "nbformat": 4,
  "nbformat_minor": 0,
  "metadata": {
    "colab": {
      "name": "BFND_SVMClassifiers.ipynb",
      "provenance": [],
      "collapsed_sections": [],
      "authorship_tag": "ABX9TyNyWhaGudzXdDa4CKSYbGnm",
      "include_colab_link": true
    },
    "kernelspec": {
      "name": "python3",
      "display_name": "Python 3"
    },
    "language_info": {
      "name": "python"
    }
  },
  "cells": [
    {
      "cell_type": "markdown",
      "metadata": {
        "id": "view-in-github",
        "colab_type": "text"
      },
      "source": [
        "<a href=\"https://colab.research.google.com/github/bravoeight98/_CSE-445_Project/blob/main/BFND_SVMClassifiers.ipynb\" target=\"_parent\"><img src=\"https://colab.research.google.com/assets/colab-badge.svg\" alt=\"Open In Colab\"/></a>"
      ]
    },
    {
      "cell_type": "markdown",
      "metadata": {
        "id": "Ajxm9YRXlh1K"
      },
      "source": [
        "# Imporing Packages and Libraries"
      ]
    },
    {
      "cell_type": "markdown",
      "metadata": {
        "id": "KuQZ69x_nmpz"
      },
      "source": [
        "Importing all necessary packages"
      ]
    },
    {
      "cell_type": "code",
      "metadata": {
        "colab": {
          "base_uri": "https://localhost:8080/"
        },
        "id": "1lhHdlE4X-Yl",
        "outputId": "ce7465a5-7f8c-4b95-c96f-9ac3ccdfed56"
      },
      "source": [
        "#import package\n",
        "\n",
        "import numpy as np\n",
        "import pandas as pd\n",
        "import seaborn as sns\n",
        "import matplotlib.pyplot as plt\n",
        "\n",
        "import nltk\n",
        "nltk.download('stopwords')\n",
        "from nltk.corpus import stopwords\n",
        "from nltk.stem.porter import PorterStemmer\n",
        "\n",
        "from sklearn.feature_extraction.text import CountVectorizer, TfidfVectorizer, HashingVectorizer\n",
        "import re\n",
        "import string\n",
        "\n",
        "from sklearn.model_selection import train_test_split\n",
        "from sklearn.feature_extraction.text import CountVectorizer\n",
        "\n",
        "from sklearn import metrics\n",
        "from sklearn.feature_extraction.text import TfidfVectorizer"
      ],
      "execution_count": 1,
      "outputs": [
        {
          "output_type": "stream",
          "text": [
            "[nltk_data] Downloading package stopwords to /root/nltk_data...\n",
            "[nltk_data]   Unzipping corpora/stopwords.zip.\n"
          ],
          "name": "stdout"
        }
      ]
    },
    {
      "cell_type": "markdown",
      "metadata": {
        "id": "wEsIoybTlpY3"
      },
      "source": [
        "# Getting and preparing Datasets"
      ]
    },
    {
      "cell_type": "markdown",
      "metadata": {
        "id": "ZZRQJMvLiMAe"
      },
      "source": [
        "Mount from Google Drive"
      ]
    },
    {
      "cell_type": "code",
      "metadata": {
        "colab": {
          "base_uri": "https://localhost:8080/"
        },
        "id": "pQeqbh5gsebD",
        "outputId": "bd45aa93-a15f-4956-dd81-ebe213b133e0"
      },
      "source": [
        "from google.colab import drive\n",
        "drive.mount('/content/drive')"
      ],
      "execution_count": 2,
      "outputs": [
        {
          "output_type": "stream",
          "text": [
            "Mounted at /content/drive\n"
          ],
          "name": "stdout"
        }
      ]
    },
    {
      "cell_type": "markdown",
      "metadata": {
        "id": "LKOnlp3hh4BU"
      },
      "source": [
        "Check the dataset files"
      ]
    },
    {
      "cell_type": "code",
      "metadata": {
        "id": "3nyf38uQh7GZ"
      },
      "source": [
        "# Reading from file \n",
        "fake = pd.read_csv('/content/drive/MyDrive/BanFakeNewsDataset/Fake-1K.csv')\n",
        "true = pd.read_csv('/content/drive/MyDrive/BanFakeNewsDataset/Authentic-48K.csv')"
      ],
      "execution_count": 3,
      "outputs": []
    },
    {
      "cell_type": "markdown",
      "metadata": {
        "id": "MBop7t4flK_3"
      },
      "source": [
        "Show Info"
      ]
    },
    {
      "cell_type": "code",
      "metadata": {
        "colab": {
          "base_uri": "https://localhost:8080/",
          "height": 583
        },
        "id": "Yjgvr_DSlM0s",
        "outputId": "fee0c220-a5ab-4a29-a0c8-dd0ecb2e80d7"
      },
      "source": [
        "print(true.shape)\n",
        "print(true.info())\n",
        "true.head()"
      ],
      "execution_count": 4,
      "outputs": [
        {
          "output_type": "stream",
          "text": [
            "(48678, 7)\n",
            "<class 'pandas.core.frame.DataFrame'>\n",
            "RangeIndex: 48678 entries, 0 to 48677\n",
            "Data columns (total 7 columns):\n",
            " #   Column     Non-Null Count  Dtype \n",
            "---  ------     --------------  ----- \n",
            " 0   articleID  48678 non-null  int64 \n",
            " 1   domain     48678 non-null  object\n",
            " 2   date       48678 non-null  object\n",
            " 3   category   48678 non-null  object\n",
            " 4   headline   48678 non-null  object\n",
            " 5   content    48678 non-null  object\n",
            " 6   label      48678 non-null  int64 \n",
            "dtypes: int64(2), object(5)\n",
            "memory usage: 2.6+ MB\n",
            "None\n"
          ],
          "name": "stdout"
        },
        {
          "output_type": "execute_result",
          "data": {
            "text/html": [
              "<div>\n",
              "<style scoped>\n",
              "    .dataframe tbody tr th:only-of-type {\n",
              "        vertical-align: middle;\n",
              "    }\n",
              "\n",
              "    .dataframe tbody tr th {\n",
              "        vertical-align: top;\n",
              "    }\n",
              "\n",
              "    .dataframe thead th {\n",
              "        text-align: right;\n",
              "    }\n",
              "</style>\n",
              "<table border=\"1\" class=\"dataframe\">\n",
              "  <thead>\n",
              "    <tr style=\"text-align: right;\">\n",
              "      <th></th>\n",
              "      <th>articleID</th>\n",
              "      <th>domain</th>\n",
              "      <th>date</th>\n",
              "      <th>category</th>\n",
              "      <th>headline</th>\n",
              "      <th>content</th>\n",
              "      <th>label</th>\n",
              "    </tr>\n",
              "  </thead>\n",
              "  <tbody>\n",
              "    <tr>\n",
              "      <th>0</th>\n",
              "      <td>1</td>\n",
              "      <td>jagonews24.com</td>\n",
              "      <td>2018-09-19 17:48:18</td>\n",
              "      <td>Education</td>\n",
              "      <td>হট্টগোল করায় বাকৃবিতে দুইজন বরখাস্ত, ৬ জনকে শোকজ</td>\n",
              "      <td>গত ১৭ সেপ্টেম্বর বাংলাদেশ কৃষি বিশ্ববিদ্যালয়ে ...</td>\n",
              "      <td>1</td>\n",
              "    </tr>\n",
              "    <tr>\n",
              "      <th>1</th>\n",
              "      <td>2</td>\n",
              "      <td>jagonews24.com</td>\n",
              "      <td>2018-09-19 17:48:19</td>\n",
              "      <td>National</td>\n",
              "      <td>মালয়েশিয়ায় কর্মী পাঠানোর ব্যবস্থা নেয়ার সুপারিশ</td>\n",
              "      <td>বাংলাদেশের বৃহৎ শ্রমবাজার মালয়েশিয়ায় আবার শ্রম...</td>\n",
              "      <td>1</td>\n",
              "    </tr>\n",
              "    <tr>\n",
              "      <th>2</th>\n",
              "      <td>3</td>\n",
              "      <td>jagonews24.com</td>\n",
              "      <td>2018-09-19 17:48:20</td>\n",
              "      <td>National</td>\n",
              "      <td>প্রেমের প্রস্তাবে রাজি না হওয়ায় স্কুলছাত্রীকে ...</td>\n",
              "      <td>নরসিংদীর মনোহরদীতে প্রেমের প্রস্তাবে রাজি না হ...</td>\n",
              "      <td>1</td>\n",
              "    </tr>\n",
              "    <tr>\n",
              "      <th>3</th>\n",
              "      <td>4</td>\n",
              "      <td>jagonews24.com</td>\n",
              "      <td>2018-09-19 17:48:21</td>\n",
              "      <td>Crime</td>\n",
              "      <td>মেডিয়েশনই মামলাজট নিরসনের পথ : বিচারপতি আহমেদ ...</td>\n",
              "      <td>সুপ্রিম কোর্টের হাইকোর্ট বিভাগের বিচারপতি আহমে...</td>\n",
              "      <td>1</td>\n",
              "    </tr>\n",
              "    <tr>\n",
              "      <th>4</th>\n",
              "      <td>5</td>\n",
              "      <td>jagonews24.com</td>\n",
              "      <td>2018-09-19 17:48:21</td>\n",
              "      <td>National</td>\n",
              "      <td>টকশোতে বক্তব্য দিতে গিয়ে জাপা নেতার মৃত্যু</td>\n",
              "      <td>মাদারীপুর সদরের উপজেলার লেকেরপাড়ে একটি বেসরকার...</td>\n",
              "      <td>1</td>\n",
              "    </tr>\n",
              "  </tbody>\n",
              "</table>\n",
              "</div>"
            ],
            "text/plain": [
              "   articleID  ... label\n",
              "0          1  ...     1\n",
              "1          2  ...     1\n",
              "2          3  ...     1\n",
              "3          4  ...     1\n",
              "4          5  ...     1\n",
              "\n",
              "[5 rows x 7 columns]"
            ]
          },
          "metadata": {
            "tags": []
          },
          "execution_count": 4
        }
      ]
    },
    {
      "cell_type": "code",
      "metadata": {
        "colab": {
          "base_uri": "https://localhost:8080/",
          "height": 583
        },
        "id": "bh1W1d2vlO3L",
        "outputId": "d0398dbe-92d4-4532-e500-982f39ed3a4d"
      },
      "source": [
        "print(fake.shape)\n",
        "print(fake.info())\n",
        "fake.head()"
      ],
      "execution_count": 5,
      "outputs": [
        {
          "output_type": "stream",
          "text": [
            "(1299, 7)\n",
            "<class 'pandas.core.frame.DataFrame'>\n",
            "RangeIndex: 1299 entries, 0 to 1298\n",
            "Data columns (total 7 columns):\n",
            " #   Column     Non-Null Count  Dtype \n",
            "---  ------     --------------  ----- \n",
            " 0   articleID  1299 non-null   int64 \n",
            " 1   domain     1299 non-null   object\n",
            " 2   date       1299 non-null   object\n",
            " 3   category   1299 non-null   object\n",
            " 4   headline   1299 non-null   object\n",
            " 5   content    1299 non-null   object\n",
            " 6   label      1299 non-null   int64 \n",
            "dtypes: int64(2), object(5)\n",
            "memory usage: 71.2+ KB\n",
            "None\n"
          ],
          "name": "stdout"
        },
        {
          "output_type": "execute_result",
          "data": {
            "text/html": [
              "<div>\n",
              "<style scoped>\n",
              "    .dataframe tbody tr th:only-of-type {\n",
              "        vertical-align: middle;\n",
              "    }\n",
              "\n",
              "    .dataframe tbody tr th {\n",
              "        vertical-align: top;\n",
              "    }\n",
              "\n",
              "    .dataframe thead th {\n",
              "        text-align: right;\n",
              "    }\n",
              "</style>\n",
              "<table border=\"1\" class=\"dataframe\">\n",
              "  <thead>\n",
              "    <tr style=\"text-align: right;\">\n",
              "      <th></th>\n",
              "      <th>articleID</th>\n",
              "      <th>domain</th>\n",
              "      <th>date</th>\n",
              "      <th>category</th>\n",
              "      <th>headline</th>\n",
              "      <th>content</th>\n",
              "      <th>label</th>\n",
              "    </tr>\n",
              "  </thead>\n",
              "  <tbody>\n",
              "    <tr>\n",
              "      <th>0</th>\n",
              "      <td>1</td>\n",
              "      <td>channeldhaka.news</td>\n",
              "      <td>2019-03-14T13:34:14+00:00</td>\n",
              "      <td>International</td>\n",
              "      <td>মুরগির হামলায় শেয়াল নিহত</td>\n",
              "      <td>বাংলায় একটা প্রবাদ আছে, শেয়ালের কাছে মুরগী বর্...</td>\n",
              "      <td>0</td>\n",
              "    </tr>\n",
              "    <tr>\n",
              "      <th>1</th>\n",
              "      <td>2</td>\n",
              "      <td>earki.com</td>\n",
              "      <td>সেম্বর ১৭, ২০১৮</td>\n",
              "      <td>Miscellaneous</td>\n",
              "      <td>বিটিভিতে যেবার আমি ইন্টারভিউ দিতে গেলাম</td>\n",
              "      <td>BTV থেকে লোকজন আসছে, ইন্টারভিউ নিবে।চারজনের টি...</td>\n",
              "      <td>0</td>\n",
              "    </tr>\n",
              "    <tr>\n",
              "      <th>2</th>\n",
              "      <td>3</td>\n",
              "      <td>earki.com</td>\n",
              "      <td>২০:৩৯, জানুয়ারি ১৪, ২০১৯</td>\n",
              "      <td>Miscellaneous</td>\n",
              "      <td>বিদেশ থেকে উন্নতমানের বিরোধীদল আমদানি করার পরা...</td>\n",
              "      <td>অদ্ভুত বিরোধীদলহীনতায় ভুগছে সরকার। এ এক অন্যরক...</td>\n",
              "      <td>0</td>\n",
              "    </tr>\n",
              "    <tr>\n",
              "      <th>3</th>\n",
              "      <td>4</td>\n",
              "      <td>channeldhaka.news</td>\n",
              "      <td>2018-06-30T15:56:47+00:00</td>\n",
              "      <td>Sports</td>\n",
              "      <td>অবসর নেয়ার ঘোষণা দিলেন মেসি !</td>\n",
              "      <td>রাশিয়া বিশ্বকাপ নকআউট পর্বে ফ্রান্সের সাথে ৪-৩...</td>\n",
              "      <td>0</td>\n",
              "    </tr>\n",
              "    <tr>\n",
              "      <th>4</th>\n",
              "      <td>5</td>\n",
              "      <td>motikontho.wordpress.com</td>\n",
              "      <td>2013-03-05T21:55:45+00:00</td>\n",
              "      <td>Miscellaneous</td>\n",
              "      <td>মাদারফাকার নহে, ব্রাদারফাকার: সাকা | দৈনিক মতি...</td>\n",
              "      <td>নিজস্ব মতিবেদক‘মাদারফাকার নহে, আমি ব্রাদারফাকা...</td>\n",
              "      <td>0</td>\n",
              "    </tr>\n",
              "  </tbody>\n",
              "</table>\n",
              "</div>"
            ],
            "text/plain": [
              "   articleID  ... label\n",
              "0          1  ...     0\n",
              "1          2  ...     0\n",
              "2          3  ...     0\n",
              "3          4  ...     0\n",
              "4          5  ...     0\n",
              "\n",
              "[5 rows x 7 columns]"
            ]
          },
          "metadata": {
            "tags": []
          },
          "execution_count": 5
        }
      ]
    },
    {
      "cell_type": "markdown",
      "metadata": {
        "id": "rL_AuHkzlvdk"
      },
      "source": [
        "# Preprocessing Data"
      ]
    },
    {
      "cell_type": "code",
      "metadata": {
        "id": "EQR_Ubvjl0TH"
      },
      "source": [
        "fake['Label'] = 1\n",
        "true['Label'] = 0"
      ],
      "execution_count": 6,
      "outputs": []
    },
    {
      "cell_type": "code",
      "metadata": {
        "colab": {
          "base_uri": "https://localhost:8080/",
          "height": 310
        },
        "id": "5q6ArBHZl5jn",
        "outputId": "5dc51d1d-5ead-47a4-e4ef-1825fea913bb"
      },
      "source": [
        "data = pd.concat([true,fake],axis=0,ignore_index=True)\n",
        "print(data.shape)\n",
        "data.head()"
      ],
      "execution_count": 7,
      "outputs": [
        {
          "output_type": "stream",
          "text": [
            "(49977, 8)\n"
          ],
          "name": "stdout"
        },
        {
          "output_type": "execute_result",
          "data": {
            "text/html": [
              "<div>\n",
              "<style scoped>\n",
              "    .dataframe tbody tr th:only-of-type {\n",
              "        vertical-align: middle;\n",
              "    }\n",
              "\n",
              "    .dataframe tbody tr th {\n",
              "        vertical-align: top;\n",
              "    }\n",
              "\n",
              "    .dataframe thead th {\n",
              "        text-align: right;\n",
              "    }\n",
              "</style>\n",
              "<table border=\"1\" class=\"dataframe\">\n",
              "  <thead>\n",
              "    <tr style=\"text-align: right;\">\n",
              "      <th></th>\n",
              "      <th>articleID</th>\n",
              "      <th>domain</th>\n",
              "      <th>date</th>\n",
              "      <th>category</th>\n",
              "      <th>headline</th>\n",
              "      <th>content</th>\n",
              "      <th>label</th>\n",
              "      <th>Label</th>\n",
              "    </tr>\n",
              "  </thead>\n",
              "  <tbody>\n",
              "    <tr>\n",
              "      <th>0</th>\n",
              "      <td>1</td>\n",
              "      <td>jagonews24.com</td>\n",
              "      <td>2018-09-19 17:48:18</td>\n",
              "      <td>Education</td>\n",
              "      <td>হট্টগোল করায় বাকৃবিতে দুইজন বরখাস্ত, ৬ জনকে শোকজ</td>\n",
              "      <td>গত ১৭ সেপ্টেম্বর বাংলাদেশ কৃষি বিশ্ববিদ্যালয়ে ...</td>\n",
              "      <td>1</td>\n",
              "      <td>0</td>\n",
              "    </tr>\n",
              "    <tr>\n",
              "      <th>1</th>\n",
              "      <td>2</td>\n",
              "      <td>jagonews24.com</td>\n",
              "      <td>2018-09-19 17:48:19</td>\n",
              "      <td>National</td>\n",
              "      <td>মালয়েশিয়ায় কর্মী পাঠানোর ব্যবস্থা নেয়ার সুপারিশ</td>\n",
              "      <td>বাংলাদেশের বৃহৎ শ্রমবাজার মালয়েশিয়ায় আবার শ্রম...</td>\n",
              "      <td>1</td>\n",
              "      <td>0</td>\n",
              "    </tr>\n",
              "    <tr>\n",
              "      <th>2</th>\n",
              "      <td>3</td>\n",
              "      <td>jagonews24.com</td>\n",
              "      <td>2018-09-19 17:48:20</td>\n",
              "      <td>National</td>\n",
              "      <td>প্রেমের প্রস্তাবে রাজি না হওয়ায় স্কুলছাত্রীকে ...</td>\n",
              "      <td>নরসিংদীর মনোহরদীতে প্রেমের প্রস্তাবে রাজি না হ...</td>\n",
              "      <td>1</td>\n",
              "      <td>0</td>\n",
              "    </tr>\n",
              "    <tr>\n",
              "      <th>3</th>\n",
              "      <td>4</td>\n",
              "      <td>jagonews24.com</td>\n",
              "      <td>2018-09-19 17:48:21</td>\n",
              "      <td>Crime</td>\n",
              "      <td>মেডিয়েশনই মামলাজট নিরসনের পথ : বিচারপতি আহমেদ ...</td>\n",
              "      <td>সুপ্রিম কোর্টের হাইকোর্ট বিভাগের বিচারপতি আহমে...</td>\n",
              "      <td>1</td>\n",
              "      <td>0</td>\n",
              "    </tr>\n",
              "    <tr>\n",
              "      <th>4</th>\n",
              "      <td>5</td>\n",
              "      <td>jagonews24.com</td>\n",
              "      <td>2018-09-19 17:48:21</td>\n",
              "      <td>National</td>\n",
              "      <td>টকশোতে বক্তব্য দিতে গিয়ে জাপা নেতার মৃত্যু</td>\n",
              "      <td>মাদারীপুর সদরের উপজেলার লেকেরপাড়ে একটি বেসরকার...</td>\n",
              "      <td>1</td>\n",
              "      <td>0</td>\n",
              "    </tr>\n",
              "  </tbody>\n",
              "</table>\n",
              "</div>"
            ],
            "text/plain": [
              "   articleID          domain  ... label Label\n",
              "0          1  jagonews24.com  ...     1     0\n",
              "1          2  jagonews24.com  ...     1     0\n",
              "2          3  jagonews24.com  ...     1     0\n",
              "3          4  jagonews24.com  ...     1     0\n",
              "4          5  jagonews24.com  ...     1     0\n",
              "\n",
              "[5 rows x 8 columns]"
            ]
          },
          "metadata": {
            "tags": []
          },
          "execution_count": 7
        }
      ]
    },
    {
      "cell_type": "code",
      "metadata": {
        "colab": {
          "base_uri": "https://localhost:8080/",
          "height": 299
        },
        "id": "DBStj_TXmGL8",
        "outputId": "aa9db1f9-ec0c-4fbe-995b-f7d93c2076b9"
      },
      "source": [
        "data.describe()"
      ],
      "execution_count": 8,
      "outputs": [
        {
          "output_type": "execute_result",
          "data": {
            "text/html": [
              "<div>\n",
              "<style scoped>\n",
              "    .dataframe tbody tr th:only-of-type {\n",
              "        vertical-align: middle;\n",
              "    }\n",
              "\n",
              "    .dataframe tbody tr th {\n",
              "        vertical-align: top;\n",
              "    }\n",
              "\n",
              "    .dataframe thead th {\n",
              "        text-align: right;\n",
              "    }\n",
              "</style>\n",
              "<table border=\"1\" class=\"dataframe\">\n",
              "  <thead>\n",
              "    <tr style=\"text-align: right;\">\n",
              "      <th></th>\n",
              "      <th>articleID</th>\n",
              "      <th>label</th>\n",
              "      <th>Label</th>\n",
              "    </tr>\n",
              "  </thead>\n",
              "  <tbody>\n",
              "    <tr>\n",
              "      <th>count</th>\n",
              "      <td>49977.000000</td>\n",
              "      <td>49977.000000</td>\n",
              "      <td>49977.000000</td>\n",
              "    </tr>\n",
              "    <tr>\n",
              "      <th>mean</th>\n",
              "      <td>30045.527142</td>\n",
              "      <td>0.974008</td>\n",
              "      <td>0.025992</td>\n",
              "    </tr>\n",
              "    <tr>\n",
              "      <th>std</th>\n",
              "      <td>18317.000506</td>\n",
              "      <td>0.159113</td>\n",
              "      <td>0.159113</td>\n",
              "    </tr>\n",
              "    <tr>\n",
              "      <th>min</th>\n",
              "      <td>1.000000</td>\n",
              "      <td>0.000000</td>\n",
              "      <td>0.000000</td>\n",
              "    </tr>\n",
              "    <tr>\n",
              "      <th>25%</th>\n",
              "      <td>14168.000000</td>\n",
              "      <td>1.000000</td>\n",
              "      <td>0.000000</td>\n",
              "    </tr>\n",
              "    <tr>\n",
              "      <th>50%</th>\n",
              "      <td>30039.000000</td>\n",
              "      <td>1.000000</td>\n",
              "      <td>0.000000</td>\n",
              "    </tr>\n",
              "    <tr>\n",
              "      <th>75%</th>\n",
              "      <td>45898.000000</td>\n",
              "      <td>1.000000</td>\n",
              "      <td>0.000000</td>\n",
              "    </tr>\n",
              "    <tr>\n",
              "      <th>max</th>\n",
              "      <td>61780.000000</td>\n",
              "      <td>1.000000</td>\n",
              "      <td>1.000000</td>\n",
              "    </tr>\n",
              "  </tbody>\n",
              "</table>\n",
              "</div>"
            ],
            "text/plain": [
              "          articleID         label         Label\n",
              "count  49977.000000  49977.000000  49977.000000\n",
              "mean   30045.527142      0.974008      0.025992\n",
              "std    18317.000506      0.159113      0.159113\n",
              "min        1.000000      0.000000      0.000000\n",
              "25%    14168.000000      1.000000      0.000000\n",
              "50%    30039.000000      1.000000      0.000000\n",
              "75%    45898.000000      1.000000      0.000000\n",
              "max    61780.000000      1.000000      1.000000"
            ]
          },
          "metadata": {
            "tags": []
          },
          "execution_count": 8
        }
      ]
    },
    {
      "cell_type": "code",
      "metadata": {
        "id": "PZj5zVZhmPD8"
      },
      "source": [
        "data['content']=data['headline']+data['content']\n",
        "data=data.drop(['headline'], axis=1)"
      ],
      "execution_count": 9,
      "outputs": []
    },
    {
      "cell_type": "markdown",
      "metadata": {
        "id": "6B2DFdjYs_n-"
      },
      "source": [
        "Chek if dataset is Balanced"
      ]
    },
    {
      "cell_type": "code",
      "metadata": {
        "colab": {
          "base_uri": "https://localhost:8080/",
          "height": 354
        },
        "id": "0-MoOBLBmlHd",
        "outputId": "3fdcc1d5-a837-4e36-e828-e4f5f45c257e"
      },
      "source": [
        "sns.countplot(data.Label)"
      ],
      "execution_count": 10,
      "outputs": [
        {
          "output_type": "stream",
          "text": [
            "/usr/local/lib/python3.7/dist-packages/seaborn/_decorators.py:43: FutureWarning: Pass the following variable as a keyword arg: x. From version 0.12, the only valid positional argument will be `data`, and passing other arguments without an explicit keyword will result in an error or misinterpretation.\n",
            "  FutureWarning\n"
          ],
          "name": "stderr"
        },
        {
          "output_type": "execute_result",
          "data": {
            "text/plain": [
              "<matplotlib.axes._subplots.AxesSubplot at 0x7f17ebf32710>"
            ]
          },
          "metadata": {
            "tags": []
          },
          "execution_count": 10
        },
        {
          "output_type": "display_data",
          "data": {
            "image/png": "[encoded data removed]",
            "text/plain": [
              "<Figure size 432x288 with 1 Axes>"
            ]
          },
          "metadata": {
            "tags": [],
            "needs_background": "light"
          }
        }
      ]
    },
    {
      "cell_type": "markdown",
      "metadata": {
        "id": "8ceK6nIOtE2G"
      },
      "source": [
        "Conclusion: Imbalanced Dataset"
      ]
    },
    {
      "cell_type": "code",
      "metadata": {
        "colab": {
          "base_uri": "https://localhost:8080/"
        },
        "id": "r5Hh3U3Qmm2A",
        "outputId": "9293bf2a-4294-4b6c-9b47-e04790f8b70d"
      },
      "source": [
        "data.category.value_counts()"
      ],
      "execution_count": 11,
      "outputs": [
        {
          "output_type": "execute_result",
          "data": {
            "text/plain": [
              "National         18807\n",
              "International     7081\n",
              "Sports            6580\n",
              "Editorial         3504\n",
              "Politics          3031\n",
              "Miscellaneous     2872\n",
              "Entertainment     2742\n",
              "Finance           1226\n",
              "Education         1145\n",
              "Crime             1114\n",
              "Lifestyle         1003\n",
              "Technology         872\n",
              "Name: category, dtype: int64"
            ]
          },
          "metadata": {
            "tags": []
          },
          "execution_count": 11
        }
      ]
    },
    {
      "cell_type": "markdown",
      "metadata": {
        "id": "fambCLALooHz"
      },
      "source": [
        "# Data Cleaning"
      ]
    },
    {
      "cell_type": "markdown",
      "metadata": {
        "id": "zTHknxdNoqu5"
      },
      "source": [
        "Removing stop words in order to root words that are retaining in the data and fed into the models"
      ]
    },
    {
      "cell_type": "code",
      "metadata": {
        "id": "OPjR0yuHb_xk"
      },
      "source": [
        "#stop = stopwords.words('bangla')\n",
        "stop = frozenset([\"অবশ্য\", \"অনেক\", \"অনেকে\", \"অনেকেই\", \"অন্তত\", \"অথবা\", \"অথচ\",\n",
        "\"অর্থাত\",\n",
        "\"অন্য\",\n",
        "\"আজ\",\n",
        "\"আছে\",\n",
        "\"আপনার\",\n",
        "\"আপনি\",\n",
        "\"আবার\",\n",
        "\"আমরা\",\n",
        "\"আমাকে\",\n",
        "\"আমাদের\",\n",
        "\"আমার\",\n",
        "\"আমি\",\n",
        "\"আরও\",\n",
        "\"আর\",\n",
        "\"আগে\",\n",
        "\"আগেই\",\n",
        "\"আই\",\n",
        "\"অতএব\",\n",
        "\"আগামী\",\n",
        "\"অবধি\",\n",
        "\"অনুযায়ী\",\n",
        "\"আদ্যভাগে\",\n",
        "\"এই\",\n",
        "\"একই\",\n",
        "\"একে\",\n",
        "\"একটি\",\n",
        "\"এখন\",\n",
        "\"এখনও\",\n",
        "\"এখানে\",\n",
        "\"এখানেই\",\n",
        "\"এটি\",\n",
        "\"এটা\",\n",
        "\"এটাই\",\n",
        "\"এতটাই\",\n",
        "\"এবং\",\n",
        "\"একবার\",\n",
        "\"এবার\",\n",
        "\"এদের\",\n",
        "\"এঁদের\",\n",
        "\"এমন\",\n",
        "\"এমনকী\",\n",
        "\"এল\",\n",
        "\"এর\",\n",
        "\"এরা\",\n",
        "\"এঁরা\",\n",
        "\"এস\",\n",
        "\"এত\",\n",
        "\"এতে\",\n",
        "\"এসে\",\n",
        "\"একে\",\n",
        "\"এ\",\n",
        "\"ঐ\",\n",
        "\"ই\",\n",
        "\"ইহা\",\n",
        "\"ইত্যাদি\",\n",
        "\"উনি\",\n",
        "\"উপর\",\n",
        "\"উপরে\",\n",
        "\"উচিত\",\n",
        "\"ও\",\n",
        "\"ওই\",\n",
        "\"ওর\",\n",
        "\"ওরা\",\n",
        "\"ওঁর\",\n",
        "\"ওঁরা\",\n",
        "\"ওকে\",\n",
        "\"ওদের\",\n",
        "\"ওঁদের\"\n",
        "\"ওখানে\",\n",
        "\"কত\",\n",
        "\"কবে\",\n",
        "\"করতে\",\n",
        "\"কয়েক\",\n",
        "\"কয়েকটি\",\n",
        "\"করবে\",\n",
        "\"করলেন\",\n",
        "\"করার\",\n",
        "\"কারও\",\n",
        "\"করা\",\n",
        "\"করি\",\n",
        "\"করিয়ে\",\n",
        "\"করার\",\n",
        "\"করাই\",\n",
        "\"করলে\",\n",
        "\"করলেন\",\n",
        "\"করিতে\",\n",
        "\"করিয়া\",\n",
        "\"করেছিলেন\",\n",
        "\"করছে\",\n",
        "\"করছেন\",\n",
        "\"করেছেন\",\n",
        "\"করেছে\",\n",
        "\"করেন\",\n",
        "\"করবেন\",\n",
        "\"করায়\",\n",
        "\"করে\",\n",
        "\"করেই\",\n",
        "\"কাছ\",\n",
        "\"কাছে\",\n",
        "\"কাজে\",\n",
        "\"কারণ\",\n",
        "\"কিছু\",\n",
        "\"কিছুই\",\n",
        "\"কিন্তু\",\n",
        "\"কিংবা\",\n",
        "\"কি\",\n",
        "\"কী\",\n",
        "\"কেউ\",\n",
        "\"কেউই\",\n",
        "\"কাউকে\",\n",
        "\"কেন\",\n",
        "\"কে\",\n",
        "\"কোনও\",\n",
        "\"কোনো\",\n",
        "\"কোন\",\n",
        "\"কখনও\",\n",
        "\"ক্ষেত্রে\",\n",
        "\"খুব\",\t\n",
        "\"গুলি\",\n",
        "\"গিয়ে\",\n",
        "\"গিয়েছে\",\n",
        "\"গেছে\",\n",
        "\"গেল\",\n",
        "\"গেলে\",\n",
        "\"গোটা\",\n",
        "\"চলে\",\n",
        "\"ছাড়া\",\n",
        "\"ছাড়াও\",\n",
        "\"ছিলেন\",\n",
        "\"ছিল\",\n",
        "\"জন্য\",\n",
        "\"জানা\",\n",
        "\"ঠিক\",\n",
        "\"তিনি\",\n",
        "\"তিনঐ\",\n",
        "\"তিনিও\",\n",
        "\"তখন\",\n",
        "\"তবে\",\n",
        "\"তবু\",\n",
        "\"তাঁদের\",\n",
        "\"তাঁহারা\",\n",
        "\"তাঁরা\",\n",
        "\"তাঁর\",\n",
        "\"তাঁকে\",\n",
        "\"তাই\",\n",
        "\"তেমন\",\n",
        "\"তাকে\",\n",
        "\"তাহা\",\n",
        "\"তাহাতে\",\n",
        "\"তাহার\",\n",
        "\"তাদের\",\n",
        "\"তারপর\",\n",
        "\"তারা\",\n",
        "\"তারৈ\",\n",
        "\"তার\",\n",
        "\"তাহলে\",\n",
        "\"তিনি\",\n",
        "\"তা\",\n",
        "\"তাও\",\n",
        "\"তাতে\",\n",
        "\"তো\",\n",
        "\"তত\",\n",
        "\"তুমি\",\n",
        "\"তোমার\",\n",
        "\"তথা\",\n",
        "\"থাকে\",\n",
        "\"থাকা\",\n",
        "\"থাকায়\",\n",
        "\"থেকে\",\n",
        "\"থেকেও\",\n",
        "\"থাকবে\",\n",
        "\"থাকেন\",\n",
        "\"থাকবেন\",\n",
        "\"থেকেই\",\n",
        "\"দিকে\",\n",
        "\"দিতে\",\n",
        "\"দিয়ে\",\n",
        "\"দিয়েছে\",\n",
        "\"দিয়েছেন\",\n",
        "\"দিলেন\",\n",
        "\"দু\",\n",
        "\"দুটি\",\n",
        "\"দুটো\",\n",
        "\"দেয়\",\n",
        "\"দেওয়া\",\n",
        "\"দেওয়ার\",\n",
        "\"দেখা\",\n",
        "\"দেখে\",\n",
        "\"দেখতে\",\n",
        "\"দ্বারা\",\n",
        "\"ধরে\",\n",
        "\"ধরা\",\n",
        "\"নয়\",\n",
        "\"নানা\",\n",
        "\"না\",\n",
        "\"নাকি\",\n",
        "\"নাগাদ\",\n",
        "\"নিতে\",\n",
        "\"নিজে\",\n",
        "\"নিজেই\",\n",
        "\"নিজের\",\n",
        "\"নিজেদের\",\n",
        "\"নিয়ে\",\n",
        "\"নেওয়া\",\n",
        "\"নেওয়ার\",\n",
        "\"নেই\",\n",
        "\"নাই\",\n",
        "\"পক্ষে\",\n",
        "\"পর্যন্ত\",\n",
        "\"পাওয়া\",\n",
        "\"পারেন\",\n",
        "\"পারি\",\n",
        "\"পারে\",\n",
        "\"পরে\",\n",
        "\"পরেই\",\n",
        "\"পরেও\",\n",
        "\"পর\",\n",
        "\"পেয়ে\",\n",
        "\"প্রতি\",\n",
        "\"প্রভৃতি\",\n",
        "\"প্রায়\",\n",
        "\"ফের\",\n",
        "\"ফলে\",\n",
        "\"ফিরে\",\n",
        "\"ব্যবহার\",\n",
        "\"বলতে\",\n",
        "\"বললেন\",\n",
        "\"বলেছেন\",\n",
        "\"বলল\",\n",
        "\"বলা\",\n",
        "\"বলেন\",\n",
        "\"বলে\",\n",
        "\"বহু\",\n",
        "\"বসে\",\n",
        "\"বার\",\n",
        "\"বা\",\n",
        "\"বিনা\",\n",
        "\"বরং\",\n",
        "\"বদলে\",\n",
        "\"বাদে\",\n",
        "\"বার\",\n",
        "\"বিশেষ\",\n",
        "\"বিভিন্ন\tবিষয়টি\",\n",
        "\"ব্যবহার\",\n",
        "\"ব্যাপারে\",\n",
        "\"ভাবে\",\n",
        "\"ভাবেই\",\n",
        "\"মধ্যে\",\n",
        "\"মধ্যেই\",\n",
        "\"মধ্যেও\",\n",
        "\"মধ্যভাগে\",\n",
        "\"মাধ্যমে\",\n",
        "\"মাত্র\",\n",
        "\"মতো\",\n",
        "\"মতোই\",\n",
        "\"মোটেই\",\n",
        "\"যখন\",\n",
        "\"যদি\",\n",
        "\"যদিও\",\n",
        "\"যাবে\",\n",
        "\"যায়\",\n",
        "\"যাকে\",\n",
        "\"যাওয়া\",\n",
        "\"যাওয়ার\",\n",
        "\"যত\",\n",
        "\"যতটা\",\n",
        "\"যা\",\n",
        "\"যার\",\n",
        "\"যারা\",\n",
        "\"যাঁর\",\n",
        "\"যাঁরা\",\n",
        "\"যাদের\",\n",
        "\"যান\",\n",
        "\"যাচ্ছে\",\n",
        "\"যেতে\",\n",
        "\"যাতে\",\n",
        "\"যেন\",\n",
        "\"যেমন\",\n",
        "\"যেখানে\",\n",
        "\"যিনি\",\n",
        "\"যে\",\n",
        "\"রেখে\",\n",
        "\"রাখা\",\n",
        "\"রয়েছে\",\n",
        "\"রকম\",\n",
        "\"শুধু\",\n",
        "\"সঙ্গে\",\n",
        "\"সঙ্গেও\",\n",
        "\"সমস্ত\",\n",
        "\"সব\",\n",
        "\"সবার\",\n",
        "\"সহ\",\n",
        "\"সুতরাং\",\n",
        "\"সহিত\",\n",
        "\"সেই\",\n",
        "\"সেটা\",\n",
        "\"সেটি\",\n",
        "\"সেটাই\",\n",
        "\"সেটাও\",\n",
        "\"সম্প্রতি\",\n",
        "\"সেখান\",\n",
        "\"সেখানে\",\n",
        "\"সে\",\n",
        "\"স্পষ্ট\",\n",
        "\"স্বয়ং\",\n",
        "\"হইতে\",\n",
        "\"হইবে\",\n",
        "\"হৈলে\",\n",
        "\"হইয়া\",\n",
        "\"হচ্ছে\",\n",
        "\"হত\",\n",
        "\"হতে\",\n",
        "\"হতেই\",\n",
        "\"হবে\",\n",
        "\"হবেন\",\n",
        "\"হয়েছিল\",\n",
        "\"হয়েছে\",\n",
        "\"হয়েছেন\",\n",
        "\"হয়ে\",\n",
        "\"হয়নি\",\n",
        "\"হয়\",\n",
        "\"হয়েই\",\n",
        "\"হয়তো\",\n",
        "\"হল\",\n",
        "\"হলে\",\n",
        "\"হলেই\",\n",
        "\"হলেও\",\n",
        "\"হলো\",\n",
        "\"হিসাবে\",\n",
        "\"হওয়া\",\n",
        "\"হওয়ার\",\n",
        "\"হওয়ায়\",\n",
        "\"হন\",\n",
        "\"হোক\",\n",
        "\"জন\",\n",
        "\"জনকে\",\n",
        "\"জনের\",\n",
        "\"জানতে\",\n",
        "\"জানায়\",\n",
        "\"জানিয়ে\",\n",
        "\"জানানো\",\n",
        "\"জানিয়েছে\",\n",
        "\"জন্য\", \"জন্যওজে\", \"জে\", \"বেশ\", \"দেন\", \"তুলে\", \"ছিলেন\", \"চান\", \"চায়\", \"চেয়ে\", \"মোট\", \"যথেষ্ট\", \"টি\"])\n",
        "data['content'] = data['content'].apply(lambda x: ' '.join([word for word in x.split() if word not in (stop)]))"
      ],
      "execution_count": 13,
      "outputs": []
    },
    {
      "cell_type": "markdown",
      "metadata": {
        "id": "6sWeiHnVenj4"
      },
      "source": [
        "Lemmatizing words int order to only root words are retain in the data and fed into the model"
      ]
    },
    {
      "cell_type": "code",
      "metadata": {
        "colab": {
          "base_uri": "https://localhost:8080/"
        },
        "id": "79KbvAJOe0q_",
        "outputId": "f7ab7513-da7b-4662-9f3f-89f340ae452b"
      },
      "source": [
        "nltk.download('wordnet')\n",
        "def lemmatize_words(content):\n",
        "    wnl = nltk.stem.WordNetLemmatizer()\n",
        "    lem = ' '.join([wnl.lemmatize(word) for word in content.split()])    \n",
        "    return lem\n",
        "\n",
        "data['content'] = data['content'].apply(lemmatize_words)"
      ],
      "execution_count": 14,
      "outputs": [
        {
          "output_type": "stream",
          "text": [
            "[nltk_data] Downloading package wordnet to /root/nltk_data...\n",
            "[nltk_data]   Unzipping corpora/wordnet.zip.\n"
          ],
          "name": "stdout"
        }
      ]
    },
    {
      "cell_type": "markdown",
      "metadata": {
        "id": "ezZDHJ-0fbc1"
      },
      "source": [
        "#Bulding Model"
      ]
    },
    {
      "cell_type": "code",
      "metadata": {
        "id": "yU7d4N1gff4b"
      },
      "source": [
        "y = data['Label']\n",
        "X_train, X_test, y_train, y_test = train_test_split(data['content'], y,test_size=0.33,random_state=53)"
      ],
      "execution_count": 15,
      "outputs": []
    },
    {
      "cell_type": "code",
      "metadata": {
        "colab": {
          "base_uri": "https://localhost:8080/"
        },
        "id": "s-iIarNYfm7B",
        "outputId": "03ccff68-9f5b-424c-d6a0-85c64b5f02f9"
      },
      "source": [
        "count_vectorizer = CountVectorizer(stop_words = frozenset([\"অবশ্য\", \"অনেক\", \"অনেকে\", \"অনেকেই\", \"অন্তত\", \"অথবা\", \"অথচ\",\n",
        "\"অর্থাত\",\n",
        "\"অন্য\",\n",
        "\"আজ\",\n",
        "\"আছে\",\n",
        "\"আপনার\",\n",
        "\"আপনি\",\n",
        "\"আবার\",\n",
        "\"আমরা\",\n",
        "\"আমাকে\",\n",
        "\"আমাদের\",\n",
        "\"আমার\",\n",
        "\"আমি\",\n",
        "\"আরও\",\n",
        "\"আর\",\n",
        "\"আগে\",\n",
        "\"আগেই\",\n",
        "\"আই\",\n",
        "\"অতএব\",\n",
        "\"আগামী\",\n",
        "\"অবধি\",\n",
        "\"অনুযায়ী\",\n",
        "\"আদ্যভাগে\",\n",
        "\"এই\",\n",
        "\"একই\",\n",
        "\"একে\",\n",
        "\"একটি\",\n",
        "\"এখন\",\n",
        "\"এখনও\",\n",
        "\"এখানে\",\n",
        "\"এখানেই\",\n",
        "\"এটি\",\n",
        "\"এটা\",\n",
        "\"এটাই\",\n",
        "\"এতটাই\",\n",
        "\"এবং\",\n",
        "\"একবার\",\n",
        "\"এবার\",\n",
        "\"এদের\",\n",
        "\"এঁদের\",\n",
        "\"এমন\",\n",
        "\"এমনকী\",\n",
        "\"এল\",\n",
        "\"এর\",\n",
        "\"এরা\",\n",
        "\"এঁরা\",\n",
        "\"এস\",\n",
        "\"এত\",\n",
        "\"এতে\",\n",
        "\"এসে\",\n",
        "\"একে\",\n",
        "\"এ\",\n",
        "\"ঐ\",\n",
        "\"ই\",\n",
        "\"ইহা\",\n",
        "\"ইত্যাদি\",\n",
        "\"উনি\",\n",
        "\"উপর\",\n",
        "\"উপরে\",\n",
        "\"উচিত\",\n",
        "\"ও\",\n",
        "\"ওই\",\n",
        "\"ওর\",\n",
        "\"ওরা\",\n",
        "\"ওঁর\",\n",
        "\"ওঁরা\",\n",
        "\"ওকে\",\n",
        "\"ওদের\",\n",
        "\"ওঁদের\"\n",
        "\"ওখানে\",\n",
        "\"কত\",\n",
        "\"কবে\",\n",
        "\"করতে\",\n",
        "\"কয়েক\",\n",
        "\"কয়েকটি\",\n",
        "\"করবে\",\n",
        "\"করলেন\",\n",
        "\"করার\",\n",
        "\"কারও\",\n",
        "\"করা\",\n",
        "\"করি\",\n",
        "\"করিয়ে\",\n",
        "\"করার\",\n",
        "\"করাই\",\n",
        "\"করলে\",\n",
        "\"করলেন\",\n",
        "\"করিতে\",\n",
        "\"করিয়া\",\n",
        "\"করেছিলেন\",\n",
        "\"করছে\",\n",
        "\"করছেন\",\n",
        "\"করেছেন\",\n",
        "\"করেছে\",\n",
        "\"করেন\",\n",
        "\"করবেন\",\n",
        "\"করায়\",\n",
        "\"করে\",\n",
        "\"করেই\",\n",
        "\"কাছ\",\n",
        "\"কাছে\",\n",
        "\"কাজে\",\n",
        "\"কারণ\",\n",
        "\"কিছু\",\n",
        "\"কিছুই\",\n",
        "\"কিন্তু\",\n",
        "\"কিংবা\",\n",
        "\"কি\",\n",
        "\"কী\",\n",
        "\"কেউ\",\n",
        "\"কেউই\",\n",
        "\"কাউকে\",\n",
        "\"কেন\",\n",
        "\"কে\",\n",
        "\"কোনও\",\n",
        "\"কোনো\",\n",
        "\"কোন\",\n",
        "\"কখনও\",\n",
        "\"ক্ষেত্রে\",\n",
        "\"খুব\",\t\n",
        "\"গুলি\",\n",
        "\"গিয়ে\",\n",
        "\"গিয়েছে\",\n",
        "\"গেছে\",\n",
        "\"গেল\",\n",
        "\"গেলে\",\n",
        "\"গোটা\",\n",
        "\"চলে\",\n",
        "\"ছাড়া\",\n",
        "\"ছাড়াও\",\n",
        "\"ছিলেন\",\n",
        "\"ছিল\",\n",
        "\"জন্য\",\n",
        "\"জানা\",\n",
        "\"ঠিক\",\n",
        "\"তিনি\",\n",
        "\"তিনঐ\",\n",
        "\"তিনিও\",\n",
        "\"তখন\",\n",
        "\"তবে\",\n",
        "\"তবু\",\n",
        "\"তাঁদের\",\n",
        "\"তাঁহারা\",\n",
        "\"তাঁরা\",\n",
        "\"তাঁর\",\n",
        "\"তাঁকে\",\n",
        "\"তাই\",\n",
        "\"তেমন\",\n",
        "\"তাকে\",\n",
        "\"তাহা\",\n",
        "\"তাহাতে\",\n",
        "\"তাহার\",\n",
        "\"তাদের\",\n",
        "\"তারপর\",\n",
        "\"তারা\",\n",
        "\"তারৈ\",\n",
        "\"তার\",\n",
        "\"তাহলে\",\n",
        "\"তিনি\",\n",
        "\"তা\",\n",
        "\"তাও\",\n",
        "\"তাতে\",\n",
        "\"তো\",\n",
        "\"তত\",\n",
        "\"তুমি\",\n",
        "\"তোমার\",\n",
        "\"তথা\",\n",
        "\"থাকে\",\n",
        "\"থাকা\",\n",
        "\"থাকায়\",\n",
        "\"থেকে\",\n",
        "\"থেকেও\",\n",
        "\"থাকবে\",\n",
        "\"থাকেন\",\n",
        "\"থাকবেন\",\n",
        "\"থেকেই\",\n",
        "\"দিকে\",\n",
        "\"দিতে\",\n",
        "\"দিয়ে\",\n",
        "\"দিয়েছে\",\n",
        "\"দিয়েছেন\",\n",
        "\"দিলেন\",\n",
        "\"দু\",\n",
        "\"দুটি\",\n",
        "\"দুটো\",\n",
        "\"দেয়\",\n",
        "\"দেওয়া\",\n",
        "\"দেওয়ার\",\n",
        "\"দেখা\",\n",
        "\"দেখে\",\n",
        "\"দেখতে\",\n",
        "\"দ্বারা\",\n",
        "\"ধরে\",\n",
        "\"ধরা\",\n",
        "\"নয়\",\n",
        "\"নানা\",\n",
        "\"না\",\n",
        "\"নাকি\",\n",
        "\"নাগাদ\",\n",
        "\"নিতে\",\n",
        "\"নিজে\",\n",
        "\"নিজেই\",\n",
        "\"নিজের\",\n",
        "\"নিজেদের\",\n",
        "\"নিয়ে\",\n",
        "\"নেওয়া\",\n",
        "\"নেওয়ার\",\n",
        "\"নেই\",\n",
        "\"নাই\",\n",
        "\"পক্ষে\",\n",
        "\"পর্যন্ত\",\n",
        "\"পাওয়া\",\n",
        "\"পারেন\",\n",
        "\"পারি\",\n",
        "\"পারে\",\n",
        "\"পরে\",\n",
        "\"পরেই\",\n",
        "\"পরেও\",\n",
        "\"পর\",\n",
        "\"পেয়ে\",\n",
        "\"প্রতি\",\n",
        "\"প্রভৃতি\",\n",
        "\"প্রায়\",\n",
        "\"ফের\",\n",
        "\"ফলে\",\n",
        "\"ফিরে\",\n",
        "\"ব্যবহার\",\n",
        "\"বলতে\",\n",
        "\"বললেন\",\n",
        "\"বলেছেন\",\n",
        "\"বলল\",\n",
        "\"বলা\",\n",
        "\"বলেন\",\n",
        "\"বলে\",\n",
        "\"বহু\",\n",
        "\"বসে\",\n",
        "\"বার\",\n",
        "\"বা\",\n",
        "\"বিনা\",\n",
        "\"বরং\",\n",
        "\"বদলে\",\n",
        "\"বাদে\",\n",
        "\"বার\",\n",
        "\"বিশেষ\",\n",
        "\"বিভিন্ন\tবিষয়টি\",\n",
        "\"ব্যবহার\",\n",
        "\"ব্যাপারে\",\n",
        "\"ভাবে\",\n",
        "\"ভাবেই\",\n",
        "\"মধ্যে\",\n",
        "\"মধ্যেই\",\n",
        "\"মধ্যেও\",\n",
        "\"মধ্যভাগে\",\n",
        "\"মাধ্যমে\",\n",
        "\"মাত্র\",\n",
        "\"মতো\",\n",
        "\"মতোই\",\n",
        "\"মোটেই\",\n",
        "\"যখন\",\n",
        "\"যদি\",\n",
        "\"যদিও\",\n",
        "\"যাবে\",\n",
        "\"যায়\",\n",
        "\"যাকে\",\n",
        "\"যাওয়া\",\n",
        "\"যাওয়ার\",\n",
        "\"যত\",\n",
        "\"যতটা\",\n",
        "\"যা\",\n",
        "\"যার\",\n",
        "\"যারা\",\n",
        "\"যাঁর\",\n",
        "\"যাঁরা\",\n",
        "\"যাদের\",\n",
        "\"যান\",\n",
        "\"যাচ্ছে\",\n",
        "\"যেতে\",\n",
        "\"যাতে\",\n",
        "\"যেন\",\n",
        "\"যেমন\",\n",
        "\"যেখানে\",\n",
        "\"যিনি\",\n",
        "\"যে\",\n",
        "\"রেখে\",\n",
        "\"রাখা\",\n",
        "\"রয়েছে\",\n",
        "\"রকম\",\n",
        "\"শুধু\",\n",
        "\"সঙ্গে\",\n",
        "\"সঙ্গেও\",\n",
        "\"সমস্ত\",\n",
        "\"সব\",\n",
        "\"সবার\",\n",
        "\"সহ\",\n",
        "\"সুতরাং\",\n",
        "\"সহিত\",\n",
        "\"সেই\",\n",
        "\"সেটা\",\n",
        "\"সেটি\",\n",
        "\"সেটাই\",\n",
        "\"সেটাও\",\n",
        "\"সম্প্রতি\",\n",
        "\"সেখান\",\n",
        "\"সেখানে\",\n",
        "\"সে\",\n",
        "\"স্পষ্ট\",\n",
        "\"স্বয়ং\",\n",
        "\"হইতে\",\n",
        "\"হইবে\",\n",
        "\"হৈলে\",\n",
        "\"হইয়া\",\n",
        "\"হচ্ছে\",\n",
        "\"হত\",\n",
        "\"হতে\",\n",
        "\"হতেই\",\n",
        "\"হবে\",\n",
        "\"হবেন\",\n",
        "\"হয়েছিল\",\n",
        "\"হয়েছে\",\n",
        "\"হয়েছেন\",\n",
        "\"হয়ে\",\n",
        "\"হয়নি\",\n",
        "\"হয়\",\n",
        "\"হয়েই\",\n",
        "\"হয়তো\",\n",
        "\"হল\",\n",
        "\"হলে\",\n",
        "\"হলেই\",\n",
        "\"হলেও\",\n",
        "\"হলো\",\n",
        "\"হিসাবে\",\n",
        "\"হওয়া\",\n",
        "\"হওয়ার\",\n",
        "\"হওয়ায়\",\n",
        "\"হন\",\n",
        "\"হোক\",\n",
        "\"জন\",\n",
        "\"জনকে\",\n",
        "\"জনের\",\n",
        "\"জানতে\",\n",
        "\"জানায়\",\n",
        "\"জানিয়ে\",\n",
        "\"জানানো\",\n",
        "\"জানিয়েছে\",\n",
        "\"জন্য\", \"জন্যওজে\", \"জে\", \"বেশ\", \"দেন\", \"তুলে\", \"ছিলেন\", \"চান\", \"চায়\", \"চেয়ে\", \"মোট\", \"যথেষ্ট\", \"টি\"]))\n",
        "\n",
        "count_train = count_vectorizer.fit_transform(X_train.values)\n",
        "count_test = count_vectorizer.transform(X_test.values)\n",
        "print(count_train.shape)"
      ],
      "execution_count": 16,
      "outputs": [
        {
          "output_type": "stream",
          "text": [
            "/usr/local/lib/python3.7/dist-packages/sklearn/feature_extraction/text.py:385: UserWarning: Your stop_words may be inconsistent with your preprocessing. Tokenizing the stop words generated tokens ['অথব', 'অন', 'অবধ', 'অবশ', 'অর', 'আগ', 'আছ', 'আদ', 'আপন', 'আব', 'আম', 'আমর', 'ইত', 'ইহ', 'উই', 'উক', 'উচ', 'উন', 'এক', 'একট', 'একব', 'এখ', 'এট', 'এতট', 'এদ', 'এব', 'এমনক', 'ওক', 'ওদ', 'ওয়', 'কট', 'কব', 'কর', 'করছ', 'করত', 'করব', 'করল', 'কয়', 'খত', 'চল', 'জনক', 'তথ', 'তব', 'তর', 'ধর', 'নঐ', 'নও', 'নত', 'পক', 'পষ', 'ফল', 'বদল', 'বর', 'বল', 'বলত', 'বস', 'বহ', 'বয়', 'মত', 'মধ', 'মন', 'যওজ', 'যতট', 'যথ', 'যদ', 'যন', 'যবহ', 'যভ', 'যম', 'রও', 'রওখ', 'রণ', 'রত', 'রপর', 'রভ', 'রয়', 'ষয়ট', 'সঙ', 'সম', 'সমস', 'হইত', 'হইব', 'হইয়', 'হওয়', 'হচ', 'হব', 'হয়ত', 'হয়ন'] not in stop_words.\n",
            "  'stop_words.' % sorted(inconsistent))\n"
          ],
          "name": "stderr"
        },
        {
          "output_type": "stream",
          "text": [
            "(33484, 28088)\n"
          ],
          "name": "stdout"
        }
      ]
    },
    {
      "cell_type": "markdown",
      "metadata": {
        "id": "54wjDMUDfxAz"
      },
      "source": [
        "# Training Model"
      ]
    },
    {
      "cell_type": "code",
      "metadata": {
        "id": "-JdlSUEl8ACA"
      },
      "source": [
        "from sklearn.svm import SVC\n",
        "from sklearn.metrics import classification_report"
      ],
      "execution_count": 17,
      "outputs": []
    },
    {
      "cell_type": "code",
      "metadata": {
        "colab": {
          "base_uri": "https://localhost:8080/"
        },
        "id": "bBPR_JGff1Ql",
        "outputId": "a5b95398-3b32-48e1-91a5-520af83db564"
      },
      "source": [
        "\n",
        "svc_model1 = SVC(C=1, kernel='linear', gamma= 1)\n",
        "svc_model1.fit(count_train, y_train)\n",
        "\n",
        "prediction1 = svc_model1.predict(count_test)\n",
        "\n",
        "print(classification_report(y_test, prediction1, target_names = ['Fake','True']))"
      ],
      "execution_count": 18,
      "outputs": [
        {
          "output_type": "stream",
          "text": [
            "              precision    recall  f1-score   support\n",
            "\n",
            "        Fake       0.99      0.99      0.99     16101\n",
            "        True       0.63      0.63      0.63       392\n",
            "\n",
            "    accuracy                           0.98     16493\n",
            "   macro avg       0.81      0.81      0.81     16493\n",
            "weighted avg       0.98      0.98      0.98     16493\n",
            "\n"
          ],
          "name": "stdout"
        }
      ]
    },
    {
      "cell_type": "code",
      "metadata": {
        "colab": {
          "base_uri": "https://localhost:8080/"
        },
        "id": "6h_kadEH74jo",
        "outputId": "9af3e52b-ac61-47bf-d42b-cd3292fc0bf4"
      },
      "source": [
        "svc_model1 = SVC(C=1, kernel='poly', gamma= 1)\n",
        "svc_model1.fit(count_train, y_train)\n",
        "\n",
        "prediction1 = svc_model1.predict(count_test)\n",
        "\n",
        "print(classification_report(y_test, prediction1, target_names = ['Fake','True']))"
      ],
      "execution_count": 19,
      "outputs": [
        {
          "output_type": "stream",
          "text": [
            "              precision    recall  f1-score   support\n",
            "\n",
            "        Fake       0.99      0.98      0.98     16101\n",
            "        True       0.39      0.46      0.42       392\n",
            "\n",
            "    accuracy                           0.97     16493\n",
            "   macro avg       0.69      0.72      0.70     16493\n",
            "weighted avg       0.97      0.97      0.97     16493\n",
            "\n"
          ],
          "name": "stdout"
        }
      ]
    }
  ]
}