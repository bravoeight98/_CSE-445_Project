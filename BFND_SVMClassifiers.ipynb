{
  "nbformat": 4,
  "nbformat_minor": 0,
  "metadata": {
    "colab": {
      "name": "BFND_SVMClassifiers.ipynb",
      "provenance": [],
      "collapsed_sections": [],
      "authorship_tag": "ABX9TyMSRa+JchMBZ4hPK8wQLqdQ",
      "include_colab_link": true
    },
    "kernelspec": {
      "name": "python3",
      "display_name": "Python 3"
    },
    "language_info": {
      "name": "python"
    }
  },
  "cells": [
    {
      "cell_type": "markdown",
      "metadata": {
        "id": "view-in-github",
        "colab_type": "text"
      },
      "source": [
        "<a href=\"https://colab.research.google.com/github/bravoeight98/_CSE-445_Project/blob/main/BFND_SVMClassifiers.ipynb\" target=\"_parent\"><img src=\"https://colab.research.google.com/assets/colab-badge.svg\" alt=\"Open In Colab\"/></a>"
      ]
    },
    {
      "cell_type": "markdown",
      "metadata": {
        "id": "Ajxm9YRXlh1K"
      },
      "source": [
        "# Imporing Packages and Libraries"
      ]
    },
    {
      "cell_type": "markdown",
      "metadata": {
        "id": "KuQZ69x_nmpz"
      },
      "source": [
        "Importing all necessary packages"
      ]
    },
    {
      "cell_type": "code",
      "metadata": {
        "colab": {
          "base_uri": "https://localhost:8080/"
        },
        "id": "1lhHdlE4X-Yl",
        "outputId": "de99072b-9f4d-49d8-f114-fdb11a22f79e"
      },
      "source": [
        "#import package\n",
        "\n",
        "!pip install ipython-autotime\n",
        "%load_ext autotime\n",
        "\n",
        "import numpy as np\n",
        "import pandas as pd\n",
        "import seaborn as sns\n",
        "import matplotlib.pyplot as plt\n",
        "\n",
        "import nltk\n",
        "nltk.download('stopwords')\n",
        "from nltk.corpus import stopwords\n",
        "from nltk.stem.porter import PorterStemmer\n",
        "\n",
        "from sklearn.feature_extraction.text import CountVectorizer, TfidfVectorizer, HashingVectorizer\n",
        "import re\n",
        "import string\n",
        "\n",
        "from sklearn.model_selection import train_test_split\n",
        "from sklearn.feature_extraction.text import CountVectorizer\n",
        "\n",
        "from sklearn import metrics\n",
        "from sklearn.feature_extraction.text import TfidfVectorizer"
      ],
      "execution_count": 1,
      "outputs": [
        {
          "output_type": "stream",
          "name": "stdout",
          "text": [
            "Requirement already satisfied: ipython-autotime in /usr/local/lib/python3.7/dist-packages (0.3.1)\n",
            "Requirement already satisfied: ipython in /usr/local/lib/python3.7/dist-packages (from ipython-autotime) (5.5.0)\n",
            "Requirement already satisfied: simplegeneric>0.8 in /usr/local/lib/python3.7/dist-packages (from ipython->ipython-autotime) (0.8.1)\n",
            "Requirement already satisfied: setuptools>=18.5 in /usr/local/lib/python3.7/dist-packages (from ipython->ipython-autotime) (57.4.0)\n",
            "Requirement already satisfied: pickleshare in /usr/local/lib/python3.7/dist-packages (from ipython->ipython-autotime) (0.7.5)\n",
            "Requirement already satisfied: traitlets>=4.2 in /usr/local/lib/python3.7/dist-packages (from ipython->ipython-autotime) (5.0.5)\n",
            "Requirement already satisfied: decorator in /usr/local/lib/python3.7/dist-packages (from ipython->ipython-autotime) (4.4.2)\n",
            "Requirement already satisfied: pygments in /usr/local/lib/python3.7/dist-packages (from ipython->ipython-autotime) (2.6.1)\n",
            "Requirement already satisfied: pexpect in /usr/local/lib/python3.7/dist-packages (from ipython->ipython-autotime) (4.8.0)\n",
            "Requirement already satisfied: prompt-toolkit<2.0.0,>=1.0.4 in /usr/local/lib/python3.7/dist-packages (from ipython->ipython-autotime) (1.0.18)\n",
            "Requirement already satisfied: six>=1.9.0 in /usr/local/lib/python3.7/dist-packages (from prompt-toolkit<2.0.0,>=1.0.4->ipython->ipython-autotime) (1.15.0)\n",
            "Requirement already satisfied: wcwidth in /usr/local/lib/python3.7/dist-packages (from prompt-toolkit<2.0.0,>=1.0.4->ipython->ipython-autotime) (0.2.5)\n",
            "Requirement already satisfied: ipython-genutils in /usr/local/lib/python3.7/dist-packages (from traitlets>=4.2->ipython->ipython-autotime) (0.2.0)\n",
            "Requirement already satisfied: ptyprocess>=0.5 in /usr/local/lib/python3.7/dist-packages (from pexpect->ipython->ipython-autotime) (0.7.0)\n",
            "[nltk_data] Downloading package stopwords to /root/nltk_data...\n",
            "[nltk_data]   Package stopwords is already up-to-date!\n",
            "time: 663 ms (started: 2021-09-06 10:21:32 +00:00)\n"
          ]
        }
      ]
    },
    {
      "cell_type": "markdown",
      "metadata": {
        "id": "wEsIoybTlpY3"
      },
      "source": [
        "# Getting and preparing Datasets"
      ]
    },
    {
      "cell_type": "markdown",
      "metadata": {
        "id": "ZZRQJMvLiMAe"
      },
      "source": [
        "Mount from Google Drive"
      ]
    },
    {
      "cell_type": "code",
      "metadata": {
        "colab": {
          "base_uri": "https://localhost:8080/"
        },
        "id": "pQeqbh5gsebD",
        "outputId": "b2269de9-e2a3-4a21-aa1d-1bd711bcd7b4"
      },
      "source": [
        "from google.colab import drive\n",
        "drive.mount('/content/drive')"
      ],
      "execution_count": 2,
      "outputs": [
        {
          "output_type": "stream",
          "name": "stdout",
          "text": [
            "Drive already mounted at /content/drive; to attempt to forcibly remount, call drive.mount(\"/content/drive\", force_remount=True).\n",
            "time: 4.29 ms (started: 2021-09-06 10:21:37 +00:00)\n"
          ]
        }
      ]
    },
    {
      "cell_type": "markdown",
      "metadata": {
        "id": "LKOnlp3hh4BU"
      },
      "source": [
        "Check the dataset files"
      ]
    },
    {
      "cell_type": "code",
      "metadata": {
        "id": "3nyf38uQh7GZ",
        "colab": {
          "base_uri": "https://localhost:8080/"
        },
        "outputId": "476af77d-4862-45b1-fea5-3b6e9d348faa"
      },
      "source": [
        "# Reading from file \n",
        "fake = pd.read_csv('/content/drive/MyDrive/BanFakeNewsDataset/Fake-1K.csv')\n",
        "true = pd.read_csv('/content/drive/MyDrive/BanFakeNewsDataset/Authentic-48K.csv')"
      ],
      "execution_count": 3,
      "outputs": [
        {
          "output_type": "stream",
          "name": "stdout",
          "text": [
            "time: 2.97 s (started: 2021-09-06 10:21:40 +00:00)\n"
          ]
        }
      ]
    },
    {
      "cell_type": "markdown",
      "metadata": {
        "id": "MBop7t4flK_3"
      },
      "source": [
        "Show Info"
      ]
    },
    {
      "cell_type": "code",
      "metadata": {
        "colab": {
          "base_uri": "https://localhost:8080/",
          "height": 601
        },
        "id": "Yjgvr_DSlM0s",
        "outputId": "e2639b38-5754-448e-a7ed-d8dcfca7eae4"
      },
      "source": [
        "print(true.shape)\n",
        "print(true.info())\n",
        "true.head()"
      ],
      "execution_count": 4,
      "outputs": [
        {
          "output_type": "stream",
          "name": "stdout",
          "text": [
            "(48678, 7)\n",
            "<class 'pandas.core.frame.DataFrame'>\n",
            "RangeIndex: 48678 entries, 0 to 48677\n",
            "Data columns (total 7 columns):\n",
            " #   Column     Non-Null Count  Dtype \n",
            "---  ------     --------------  ----- \n",
            " 0   articleID  48678 non-null  int64 \n",
            " 1   domain     48678 non-null  object\n",
            " 2   date       48678 non-null  object\n",
            " 3   category   48678 non-null  object\n",
            " 4   headline   48678 non-null  object\n",
            " 5   content    48678 non-null  object\n",
            " 6   label      48678 non-null  int64 \n",
            "dtypes: int64(2), object(5)\n",
            "memory usage: 2.6+ MB\n",
            "None\n"
          ]
        },
        {
          "output_type": "execute_result",
          "data": {
            "text/html": [
              "<div>\n",
              "<style scoped>\n",
              "    .dataframe tbody tr th:only-of-type {\n",
              "        vertical-align: middle;\n",
              "    }\n",
              "\n",
              "    .dataframe tbody tr th {\n",
              "        vertical-align: top;\n",
              "    }\n",
              "\n",
              "    .dataframe thead th {\n",
              "        text-align: right;\n",
              "    }\n",
              "</style>\n",
              "<table border=\"1\" class=\"dataframe\">\n",
              "  <thead>\n",
              "    <tr style=\"text-align: right;\">\n",
              "      <th></th>\n",
              "      <th>articleID</th>\n",
              "      <th>domain</th>\n",
              "      <th>date</th>\n",
              "      <th>category</th>\n",
              "      <th>headline</th>\n",
              "      <th>content</th>\n",
              "      <th>label</th>\n",
              "    </tr>\n",
              "  </thead>\n",
              "  <tbody>\n",
              "    <tr>\n",
              "      <th>0</th>\n",
              "      <td>1</td>\n",
              "      <td>jagonews24.com</td>\n",
              "      <td>2018-09-19 17:48:18</td>\n",
              "      <td>Education</td>\n",
              "      <td>হট্টগোল করায় বাকৃবিতে দুইজন বরখাস্ত, ৬ জনকে শোকজ</td>\n",
              "      <td>গত ১৭ সেপ্টেম্বর বাংলাদেশ কৃষি বিশ্ববিদ্যালয়ে ...</td>\n",
              "      <td>1</td>\n",
              "    </tr>\n",
              "    <tr>\n",
              "      <th>1</th>\n",
              "      <td>2</td>\n",
              "      <td>jagonews24.com</td>\n",
              "      <td>2018-09-19 17:48:19</td>\n",
              "      <td>National</td>\n",
              "      <td>মালয়েশিয়ায় কর্মী পাঠানোর ব্যবস্থা নেয়ার সুপারিশ</td>\n",
              "      <td>বাংলাদেশের বৃহৎ শ্রমবাজার মালয়েশিয়ায় আবার শ্রম...</td>\n",
              "      <td>1</td>\n",
              "    </tr>\n",
              "    <tr>\n",
              "      <th>2</th>\n",
              "      <td>3</td>\n",
              "      <td>jagonews24.com</td>\n",
              "      <td>2018-09-19 17:48:20</td>\n",
              "      <td>National</td>\n",
              "      <td>প্রেমের প্রস্তাবে রাজি না হওয়ায় স্কুলছাত্রীকে ...</td>\n",
              "      <td>নরসিংদীর মনোহরদীতে প্রেমের প্রস্তাবে রাজি না হ...</td>\n",
              "      <td>1</td>\n",
              "    </tr>\n",
              "    <tr>\n",
              "      <th>3</th>\n",
              "      <td>4</td>\n",
              "      <td>jagonews24.com</td>\n",
              "      <td>2018-09-19 17:48:21</td>\n",
              "      <td>Crime</td>\n",
              "      <td>মেডিয়েশনই মামলাজট নিরসনের পথ : বিচারপতি আহমেদ ...</td>\n",
              "      <td>সুপ্রিম কোর্টের হাইকোর্ট বিভাগের বিচারপতি আহমে...</td>\n",
              "      <td>1</td>\n",
              "    </tr>\n",
              "    <tr>\n",
              "      <th>4</th>\n",
              "      <td>5</td>\n",
              "      <td>jagonews24.com</td>\n",
              "      <td>2018-09-19 17:48:21</td>\n",
              "      <td>National</td>\n",
              "      <td>টকশোতে বক্তব্য দিতে গিয়ে জাপা নেতার মৃত্যু</td>\n",
              "      <td>মাদারীপুর সদরের উপজেলার লেকেরপাড়ে একটি বেসরকার...</td>\n",
              "      <td>1</td>\n",
              "    </tr>\n",
              "  </tbody>\n",
              "</table>\n",
              "</div>"
            ],
            "text/plain": [
              "   articleID  ... label\n",
              "0          1  ...     1\n",
              "1          2  ...     1\n",
              "2          3  ...     1\n",
              "3          4  ...     1\n",
              "4          5  ...     1\n",
              "\n",
              "[5 rows x 7 columns]"
            ]
          },
          "metadata": {},
          "execution_count": 4
        },
        {
          "output_type": "stream",
          "name": "stdout",
          "text": [
            "time: 47.4 ms (started: 2021-09-06 10:21:55 +00:00)\n"
          ]
        }
      ]
    },
    {
      "cell_type": "code",
      "metadata": {
        "colab": {
          "base_uri": "https://localhost:8080/",
          "height": 601
        },
        "id": "bh1W1d2vlO3L",
        "outputId": "f279101c-a5b0-4160-d6b5-e10a6d60357b"
      },
      "source": [
        "print(fake.shape)\n",
        "print(fake.info())\n",
        "fake.head()"
      ],
      "execution_count": 5,
      "outputs": [
        {
          "output_type": "stream",
          "name": "stdout",
          "text": [
            "(1299, 7)\n",
            "<class 'pandas.core.frame.DataFrame'>\n",
            "RangeIndex: 1299 entries, 0 to 1298\n",
            "Data columns (total 7 columns):\n",
            " #   Column     Non-Null Count  Dtype \n",
            "---  ------     --------------  ----- \n",
            " 0   articleID  1299 non-null   int64 \n",
            " 1   domain     1299 non-null   object\n",
            " 2   date       1299 non-null   object\n",
            " 3   category   1299 non-null   object\n",
            " 4   headline   1299 non-null   object\n",
            " 5   content    1299 non-null   object\n",
            " 6   label      1299 non-null   int64 \n",
            "dtypes: int64(2), object(5)\n",
            "memory usage: 71.2+ KB\n",
            "None\n"
          ]
        },
        {
          "output_type": "execute_result",
          "data": {
            "text/html": [
              "<div>\n",
              "<style scoped>\n",
              "    .dataframe tbody tr th:only-of-type {\n",
              "        vertical-align: middle;\n",
              "    }\n",
              "\n",
              "    .dataframe tbody tr th {\n",
              "        vertical-align: top;\n",
              "    }\n",
              "\n",
              "    .dataframe thead th {\n",
              "        text-align: right;\n",
              "    }\n",
              "</style>\n",
              "<table border=\"1\" class=\"dataframe\">\n",
              "  <thead>\n",
              "    <tr style=\"text-align: right;\">\n",
              "      <th></th>\n",
              "      <th>articleID</th>\n",
              "      <th>domain</th>\n",
              "      <th>date</th>\n",
              "      <th>category</th>\n",
              "      <th>headline</th>\n",
              "      <th>content</th>\n",
              "      <th>label</th>\n",
              "    </tr>\n",
              "  </thead>\n",
              "  <tbody>\n",
              "    <tr>\n",
              "      <th>0</th>\n",
              "      <td>1</td>\n",
              "      <td>channeldhaka.news</td>\n",
              "      <td>2019-03-14T13:34:14+00:00</td>\n",
              "      <td>International</td>\n",
              "      <td>মুরগির হামলায় শেয়াল নিহত</td>\n",
              "      <td>বাংলায় একটা প্রবাদ আছে, শেয়ালের কাছে মুরগী বর্...</td>\n",
              "      <td>0</td>\n",
              "    </tr>\n",
              "    <tr>\n",
              "      <th>1</th>\n",
              "      <td>2</td>\n",
              "      <td>earki.com</td>\n",
              "      <td>সেম্বর ১৭, ২০১৮</td>\n",
              "      <td>Miscellaneous</td>\n",
              "      <td>বিটিভিতে যেবার আমি ইন্টারভিউ দিতে গেলাম</td>\n",
              "      <td>BTV থেকে লোকজন আসছে, ইন্টারভিউ নিবে।চারজনের টি...</td>\n",
              "      <td>0</td>\n",
              "    </tr>\n",
              "    <tr>\n",
              "      <th>2</th>\n",
              "      <td>3</td>\n",
              "      <td>earki.com</td>\n",
              "      <td>২০:৩৯, জানুয়ারি ১৪, ২০১৯</td>\n",
              "      <td>Miscellaneous</td>\n",
              "      <td>বিদেশ থেকে উন্নতমানের বিরোধীদল আমদানি করার পরা...</td>\n",
              "      <td>অদ্ভুত বিরোধীদলহীনতায় ভুগছে সরকার। এ এক অন্যরক...</td>\n",
              "      <td>0</td>\n",
              "    </tr>\n",
              "    <tr>\n",
              "      <th>3</th>\n",
              "      <td>4</td>\n",
              "      <td>channeldhaka.news</td>\n",
              "      <td>2018-06-30T15:56:47+00:00</td>\n",
              "      <td>Sports</td>\n",
              "      <td>অবসর নেয়ার ঘোষণা দিলেন মেসি !</td>\n",
              "      <td>রাশিয়া বিশ্বকাপ নকআউট পর্বে ফ্রান্সের সাথে ৪-৩...</td>\n",
              "      <td>0</td>\n",
              "    </tr>\n",
              "    <tr>\n",
              "      <th>4</th>\n",
              "      <td>5</td>\n",
              "      <td>motikontho.wordpress.com</td>\n",
              "      <td>2013-03-05T21:55:45+00:00</td>\n",
              "      <td>Miscellaneous</td>\n",
              "      <td>মাদারফাকার নহে, ব্রাদারফাকার: সাকা | দৈনিক মতি...</td>\n",
              "      <td>নিজস্ব মতিবেদক‘মাদারফাকার নহে, আমি ব্রাদারফাকা...</td>\n",
              "      <td>0</td>\n",
              "    </tr>\n",
              "  </tbody>\n",
              "</table>\n",
              "</div>"
            ],
            "text/plain": [
              "   articleID  ... label\n",
              "0          1  ...     0\n",
              "1          2  ...     0\n",
              "2          3  ...     0\n",
              "3          4  ...     0\n",
              "4          5  ...     0\n",
              "\n",
              "[5 rows x 7 columns]"
            ]
          },
          "metadata": {},
          "execution_count": 5
        },
        {
          "output_type": "stream",
          "name": "stdout",
          "text": [
            "time: 32.4 ms (started: 2021-09-06 10:21:59 +00:00)\n"
          ]
        }
      ]
    },
    {
      "cell_type": "markdown",
      "metadata": {
        "id": "rL_AuHkzlvdk"
      },
      "source": [
        "# Preprocessing Data"
      ]
    },
    {
      "cell_type": "code",
      "metadata": {
        "id": "EQR_Ubvjl0TH",
        "colab": {
          "base_uri": "https://localhost:8080/"
        },
        "outputId": "f645b532-06c0-4d28-f51f-9c2a07638a05"
      },
      "source": [
        "fake['Label'] = 1\n",
        "true['Label'] = 0"
      ],
      "execution_count": 6,
      "outputs": [
        {
          "output_type": "stream",
          "name": "stdout",
          "text": [
            "time: 2.33 ms (started: 2021-09-06 10:22:03 +00:00)\n"
          ]
        }
      ]
    },
    {
      "cell_type": "code",
      "metadata": {
        "colab": {
          "base_uri": "https://localhost:8080/",
          "height": 328
        },
        "id": "5q6ArBHZl5jn",
        "outputId": "80d5419e-010e-47c1-ac76-3e49df00a7ee"
      },
      "source": [
        "data = pd.concat([true,fake],axis=0,ignore_index=True)\n",
        "print(data.shape)\n",
        "data.head()"
      ],
      "execution_count": 7,
      "outputs": [
        {
          "output_type": "stream",
          "name": "stdout",
          "text": [
            "(49977, 8)\n"
          ]
        },
        {
          "output_type": "execute_result",
          "data": {
            "text/html": [
              "<div>\n",
              "<style scoped>\n",
              "    .dataframe tbody tr th:only-of-type {\n",
              "        vertical-align: middle;\n",
              "    }\n",
              "\n",
              "    .dataframe tbody tr th {\n",
              "        vertical-align: top;\n",
              "    }\n",
              "\n",
              "    .dataframe thead th {\n",
              "        text-align: right;\n",
              "    }\n",
              "</style>\n",
              "<table border=\"1\" class=\"dataframe\">\n",
              "  <thead>\n",
              "    <tr style=\"text-align: right;\">\n",
              "      <th></th>\n",
              "      <th>articleID</th>\n",
              "      <th>domain</th>\n",
              "      <th>date</th>\n",
              "      <th>category</th>\n",
              "      <th>headline</th>\n",
              "      <th>content</th>\n",
              "      <th>label</th>\n",
              "      <th>Label</th>\n",
              "    </tr>\n",
              "  </thead>\n",
              "  <tbody>\n",
              "    <tr>\n",
              "      <th>0</th>\n",
              "      <td>1</td>\n",
              "      <td>jagonews24.com</td>\n",
              "      <td>2018-09-19 17:48:18</td>\n",
              "      <td>Education</td>\n",
              "      <td>হট্টগোল করায় বাকৃবিতে দুইজন বরখাস্ত, ৬ জনকে শোকজ</td>\n",
              "      <td>গত ১৭ সেপ্টেম্বর বাংলাদেশ কৃষি বিশ্ববিদ্যালয়ে ...</td>\n",
              "      <td>1</td>\n",
              "      <td>0</td>\n",
              "    </tr>\n",
              "    <tr>\n",
              "      <th>1</th>\n",
              "      <td>2</td>\n",
              "      <td>jagonews24.com</td>\n",
              "      <td>2018-09-19 17:48:19</td>\n",
              "      <td>National</td>\n",
              "      <td>মালয়েশিয়ায় কর্মী পাঠানোর ব্যবস্থা নেয়ার সুপারিশ</td>\n",
              "      <td>বাংলাদেশের বৃহৎ শ্রমবাজার মালয়েশিয়ায় আবার শ্রম...</td>\n",
              "      <td>1</td>\n",
              "      <td>0</td>\n",
              "    </tr>\n",
              "    <tr>\n",
              "      <th>2</th>\n",
              "      <td>3</td>\n",
              "      <td>jagonews24.com</td>\n",
              "      <td>2018-09-19 17:48:20</td>\n",
              "      <td>National</td>\n",
              "      <td>প্রেমের প্রস্তাবে রাজি না হওয়ায় স্কুলছাত্রীকে ...</td>\n",
              "      <td>নরসিংদীর মনোহরদীতে প্রেমের প্রস্তাবে রাজি না হ...</td>\n",
              "      <td>1</td>\n",
              "      <td>0</td>\n",
              "    </tr>\n",
              "    <tr>\n",
              "      <th>3</th>\n",
              "      <td>4</td>\n",
              "      <td>jagonews24.com</td>\n",
              "      <td>2018-09-19 17:48:21</td>\n",
              "      <td>Crime</td>\n",
              "      <td>মেডিয়েশনই মামলাজট নিরসনের পথ : বিচারপতি আহমেদ ...</td>\n",
              "      <td>সুপ্রিম কোর্টের হাইকোর্ট বিভাগের বিচারপতি আহমে...</td>\n",
              "      <td>1</td>\n",
              "      <td>0</td>\n",
              "    </tr>\n",
              "    <tr>\n",
              "      <th>4</th>\n",
              "      <td>5</td>\n",
              "      <td>jagonews24.com</td>\n",
              "      <td>2018-09-19 17:48:21</td>\n",
              "      <td>National</td>\n",
              "      <td>টকশোতে বক্তব্য দিতে গিয়ে জাপা নেতার মৃত্যু</td>\n",
              "      <td>মাদারীপুর সদরের উপজেলার লেকেরপাড়ে একটি বেসরকার...</td>\n",
              "      <td>1</td>\n",
              "      <td>0</td>\n",
              "    </tr>\n",
              "  </tbody>\n",
              "</table>\n",
              "</div>"
            ],
            "text/plain": [
              "   articleID          domain  ... label Label\n",
              "0          1  jagonews24.com  ...     1     0\n",
              "1          2  jagonews24.com  ...     1     0\n",
              "2          3  jagonews24.com  ...     1     0\n",
              "3          4  jagonews24.com  ...     1     0\n",
              "4          5  jagonews24.com  ...     1     0\n",
              "\n",
              "[5 rows x 8 columns]"
            ]
          },
          "metadata": {},
          "execution_count": 7
        },
        {
          "output_type": "stream",
          "name": "stdout",
          "text": [
            "time: 37.1 ms (started: 2021-09-06 10:22:04 +00:00)\n"
          ]
        }
      ]
    },
    {
      "cell_type": "code",
      "metadata": {
        "colab": {
          "base_uri": "https://localhost:8080/",
          "height": 317
        },
        "id": "DBStj_TXmGL8",
        "outputId": "4308d694-77db-41f1-c748-56b3acef5ce8"
      },
      "source": [
        "data.describe()"
      ],
      "execution_count": 8,
      "outputs": [
        {
          "output_type": "execute_result",
          "data": {
            "text/html": [
              "<div>\n",
              "<style scoped>\n",
              "    .dataframe tbody tr th:only-of-type {\n",
              "        vertical-align: middle;\n",
              "    }\n",
              "\n",
              "    .dataframe tbody tr th {\n",
              "        vertical-align: top;\n",
              "    }\n",
              "\n",
              "    .dataframe thead th {\n",
              "        text-align: right;\n",
              "    }\n",
              "</style>\n",
              "<table border=\"1\" class=\"dataframe\">\n",
              "  <thead>\n",
              "    <tr style=\"text-align: right;\">\n",
              "      <th></th>\n",
              "      <th>articleID</th>\n",
              "      <th>label</th>\n",
              "      <th>Label</th>\n",
              "    </tr>\n",
              "  </thead>\n",
              "  <tbody>\n",
              "    <tr>\n",
              "      <th>count</th>\n",
              "      <td>49977.000000</td>\n",
              "      <td>49977.000000</td>\n",
              "      <td>49977.000000</td>\n",
              "    </tr>\n",
              "    <tr>\n",
              "      <th>mean</th>\n",
              "      <td>30045.527142</td>\n",
              "      <td>0.974008</td>\n",
              "      <td>0.025992</td>\n",
              "    </tr>\n",
              "    <tr>\n",
              "      <th>std</th>\n",
              "      <td>18317.000506</td>\n",
              "      <td>0.159113</td>\n",
              "      <td>0.159113</td>\n",
              "    </tr>\n",
              "    <tr>\n",
              "      <th>min</th>\n",
              "      <td>1.000000</td>\n",
              "      <td>0.000000</td>\n",
              "      <td>0.000000</td>\n",
              "    </tr>\n",
              "    <tr>\n",
              "      <th>25%</th>\n",
              "      <td>14168.000000</td>\n",
              "      <td>1.000000</td>\n",
              "      <td>0.000000</td>\n",
              "    </tr>\n",
              "    <tr>\n",
              "      <th>50%</th>\n",
              "      <td>30039.000000</td>\n",
              "      <td>1.000000</td>\n",
              "      <td>0.000000</td>\n",
              "    </tr>\n",
              "    <tr>\n",
              "      <th>75%</th>\n",
              "      <td>45898.000000</td>\n",
              "      <td>1.000000</td>\n",
              "      <td>0.000000</td>\n",
              "    </tr>\n",
              "    <tr>\n",
              "      <th>max</th>\n",
              "      <td>61780.000000</td>\n",
              "      <td>1.000000</td>\n",
              "      <td>1.000000</td>\n",
              "    </tr>\n",
              "  </tbody>\n",
              "</table>\n",
              "</div>"
            ],
            "text/plain": [
              "          articleID         label         Label\n",
              "count  49977.000000  49977.000000  49977.000000\n",
              "mean   30045.527142      0.974008      0.025992\n",
              "std    18317.000506      0.159113      0.159113\n",
              "min        1.000000      0.000000      0.000000\n",
              "25%    14168.000000      1.000000      0.000000\n",
              "50%    30039.000000      1.000000      0.000000\n",
              "75%    45898.000000      1.000000      0.000000\n",
              "max    61780.000000      1.000000      1.000000"
            ]
          },
          "metadata": {},
          "execution_count": 8
        },
        {
          "output_type": "stream",
          "name": "stdout",
          "text": [
            "time: 29.7 ms (started: 2021-09-06 10:22:08 +00:00)\n"
          ]
        }
      ]
    },
    {
      "cell_type": "code",
      "metadata": {
        "id": "PZj5zVZhmPD8",
        "colab": {
          "base_uri": "https://localhost:8080/"
        },
        "outputId": "42365e45-67bf-4032-c984-2106a6eecd2f"
      },
      "source": [
        "data['content']=data['headline']+data['content']\n",
        "data=data.drop(['headline'], axis=1)"
      ],
      "execution_count": 9,
      "outputs": [
        {
          "output_type": "stream",
          "name": "stdout",
          "text": [
            "time: 104 ms (started: 2021-09-06 10:22:11 +00:00)\n"
          ]
        }
      ]
    },
    {
      "cell_type": "markdown",
      "metadata": {
        "id": "6B2DFdjYs_n-"
      },
      "source": [
        "Chek if dataset is Balanced"
      ]
    },
    {
      "cell_type": "code",
      "metadata": {
        "colab": {
          "base_uri": "https://localhost:8080/",
          "height": 372
        },
        "id": "0-MoOBLBmlHd",
        "outputId": "a36651fd-07d0-424e-ecf9-744b496513bb"
      },
      "source": [
        "sns.countplot(data.Label)"
      ],
      "execution_count": 10,
      "outputs": [
        {
          "output_type": "stream",
          "name": "stderr",
          "text": [
            "/usr/local/lib/python3.7/dist-packages/seaborn/_decorators.py:43: FutureWarning: Pass the following variable as a keyword arg: x. From version 0.12, the only valid positional argument will be `data`, and passing other arguments without an explicit keyword will result in an error or misinterpretation.\n",
            "  FutureWarning\n"
          ]
        },
        {
          "output_type": "execute_result",
          "data": {
            "text/plain": [
              "<matplotlib.axes._subplots.AxesSubplot at 0x7fe908a551d0>"
            ]
          },
          "metadata": {},
          "execution_count": 10
        },
        {
          "output_type": "display_data",
          "data": {
            "image/png": "[encoded data removed]",
            "text/plain": [
              "<Figure size 432x288 with 1 Axes>"
            ]
          },
          "metadata": {
            "needs_background": "light"
          }
        },
        {
          "output_type": "stream",
          "name": "stdout",
          "text": [
            "time: 148 ms (started: 2021-09-06 10:22:14 +00:00)\n"
          ]
        }
      ]
    },
    {
      "cell_type": "markdown",
      "metadata": {
        "id": "8ceK6nIOtE2G"
      },
      "source": [
        "Conclusion: Imbalanced Dataset"
      ]
    },
    {
      "cell_type": "code",
      "metadata": {
        "colab": {
          "base_uri": "https://localhost:8080/"
        },
        "id": "r5Hh3U3Qmm2A",
        "outputId": "ec005a58-c58e-4ce6-886a-5827fe7a7ff8"
      },
      "source": [
        "data.category.value_counts()"
      ],
      "execution_count": 11,
      "outputs": [
        {
          "output_type": "execute_result",
          "data": {
            "text/plain": [
              "National         18807\n",
              "International     7081\n",
              "Sports            6580\n",
              "Editorial         3504\n",
              "Politics          3031\n",
              "Miscellaneous     2872\n",
              "Entertainment     2742\n",
              "Finance           1226\n",
              "Education         1145\n",
              "Crime             1114\n",
              "Lifestyle         1003\n",
              "Technology         872\n",
              "Name: category, dtype: int64"
            ]
          },
          "metadata": {},
          "execution_count": 11
        },
        {
          "output_type": "stream",
          "name": "stdout",
          "text": [
            "time: 14.7 ms (started: 2021-09-06 10:22:17 +00:00)\n"
          ]
        }
      ]
    },
    {
      "cell_type": "markdown",
      "metadata": {
        "id": "fambCLALooHz"
      },
      "source": [
        "# Data Cleaning"
      ]
    },
    {
      "cell_type": "markdown",
      "metadata": {
        "id": "zTHknxdNoqu5"
      },
      "source": [
        "Removing stop words in order to root words that are retaining in the data and fed into the models"
      ]
    },
    {
      "cell_type": "code",
      "metadata": {
        "id": "OPjR0yuHb_xk",
        "colab": {
          "base_uri": "https://localhost:8080/"
        },
        "outputId": "24cb1641-380e-4b00-c528-83685a8528e2"
      },
      "source": [
        "#stop = stopwords.words('bangla')\n",
        "stop = frozenset([\"অবশ্য\", \"অনেক\", \"অনেকে\", \"অনেকেই\", \"অন্তত\", \"অথবা\", \"অথচ\",\n",
        "\"অর্থাত\",\n",
        "\"অন্য\",\n",
        "\"আজ\",\n",
        "\"আছে\",\n",
        "\"আপনার\",\n",
        "\"আপনি\",\n",
        "\"আবার\",\n",
        "\"আমরা\",\n",
        "\"আমাকে\",\n",
        "\"আমাদের\",\n",
        "\"আমার\",\n",
        "\"আমি\",\n",
        "\"আরও\",\n",
        "\"আর\",\n",
        "\"আগে\",\n",
        "\"আগেই\",\n",
        "\"আই\",\n",
        "\"অতএব\",\n",
        "\"আগামী\",\n",
        "\"অবধি\",\n",
        "\"অনুযায়ী\",\n",
        "\"আদ্যভাগে\",\n",
        "\"এই\",\n",
        "\"একই\",\n",
        "\"একে\",\n",
        "\"একটি\",\n",
        "\"এখন\",\n",
        "\"এখনও\",\n",
        "\"এখানে\",\n",
        "\"এখানেই\",\n",
        "\"এটি\",\n",
        "\"এটা\",\n",
        "\"এটাই\",\n",
        "\"এতটাই\",\n",
        "\"এবং\",\n",
        "\"একবার\",\n",
        "\"এবার\",\n",
        "\"এদের\",\n",
        "\"এঁদের\",\n",
        "\"এমন\",\n",
        "\"এমনকী\",\n",
        "\"এল\",\n",
        "\"এর\",\n",
        "\"এরা\",\n",
        "\"এঁরা\",\n",
        "\"এস\",\n",
        "\"এত\",\n",
        "\"এতে\",\n",
        "\"এসে\",\n",
        "\"একে\",\n",
        "\"এ\",\n",
        "\"ঐ\",\n",
        "\"ই\",\n",
        "\"ইহা\",\n",
        "\"ইত্যাদি\",\n",
        "\"উনি\",\n",
        "\"উপর\",\n",
        "\"উপরে\",\n",
        "\"উচিত\",\n",
        "\"ও\",\n",
        "\"ওই\",\n",
        "\"ওর\",\n",
        "\"ওরা\",\n",
        "\"ওঁর\",\n",
        "\"ওঁরা\",\n",
        "\"ওকে\",\n",
        "\"ওদের\",\n",
        "\"ওঁদের\"\n",
        "\"ওখানে\",\n",
        "\"কত\",\n",
        "\"কবে\",\n",
        "\"করতে\",\n",
        "\"কয়েক\",\n",
        "\"কয়েকটি\",\n",
        "\"করবে\",\n",
        "\"করলেন\",\n",
        "\"করার\",\n",
        "\"কারও\",\n",
        "\"করা\",\n",
        "\"করি\",\n",
        "\"করিয়ে\",\n",
        "\"করার\",\n",
        "\"করাই\",\n",
        "\"করলে\",\n",
        "\"করলেন\",\n",
        "\"করিতে\",\n",
        "\"করিয়া\",\n",
        "\"করেছিলেন\",\n",
        "\"করছে\",\n",
        "\"করছেন\",\n",
        "\"করেছেন\",\n",
        "\"করেছে\",\n",
        "\"করেন\",\n",
        "\"করবেন\",\n",
        "\"করায়\",\n",
        "\"করে\",\n",
        "\"করেই\",\n",
        "\"কাছ\",\n",
        "\"কাছে\",\n",
        "\"কাজে\",\n",
        "\"কারণ\",\n",
        "\"কিছু\",\n",
        "\"কিছুই\",\n",
        "\"কিন্তু\",\n",
        "\"কিংবা\",\n",
        "\"কি\",\n",
        "\"কী\",\n",
        "\"কেউ\",\n",
        "\"কেউই\",\n",
        "\"কাউকে\",\n",
        "\"কেন\",\n",
        "\"কে\",\n",
        "\"কোনও\",\n",
        "\"কোনো\",\n",
        "\"কোন\",\n",
        "\"কখনও\",\n",
        "\"ক্ষেত্রে\",\n",
        "\"খুব\",\t\n",
        "\"গুলি\",\n",
        "\"গিয়ে\",\n",
        "\"গিয়েছে\",\n",
        "\"গেছে\",\n",
        "\"গেল\",\n",
        "\"গেলে\",\n",
        "\"গোটা\",\n",
        "\"চলে\",\n",
        "\"ছাড়া\",\n",
        "\"ছাড়াও\",\n",
        "\"ছিলেন\",\n",
        "\"ছিল\",\n",
        "\"জন্য\",\n",
        "\"জানা\",\n",
        "\"ঠিক\",\n",
        "\"তিনি\",\n",
        "\"তিনঐ\",\n",
        "\"তিনিও\",\n",
        "\"তখন\",\n",
        "\"তবে\",\n",
        "\"তবু\",\n",
        "\"তাঁদের\",\n",
        "\"তাঁহারা\",\n",
        "\"তাঁরা\",\n",
        "\"তাঁর\",\n",
        "\"তাঁকে\",\n",
        "\"তাই\",\n",
        "\"তেমন\",\n",
        "\"তাকে\",\n",
        "\"তাহা\",\n",
        "\"তাহাতে\",\n",
        "\"তাহার\",\n",
        "\"তাদের\",\n",
        "\"তারপর\",\n",
        "\"তারা\",\n",
        "\"তারৈ\",\n",
        "\"তার\",\n",
        "\"তাহলে\",\n",
        "\"তিনি\",\n",
        "\"তা\",\n",
        "\"তাও\",\n",
        "\"তাতে\",\n",
        "\"তো\",\n",
        "\"তত\",\n",
        "\"তুমি\",\n",
        "\"তোমার\",\n",
        "\"তথা\",\n",
        "\"থাকে\",\n",
        "\"থাকা\",\n",
        "\"থাকায়\",\n",
        "\"থেকে\",\n",
        "\"থেকেও\",\n",
        "\"থাকবে\",\n",
        "\"থাকেন\",\n",
        "\"থাকবেন\",\n",
        "\"থেকেই\",\n",
        "\"দিকে\",\n",
        "\"দিতে\",\n",
        "\"দিয়ে\",\n",
        "\"দিয়েছে\",\n",
        "\"দিয়েছেন\",\n",
        "\"দিলেন\",\n",
        "\"দু\",\n",
        "\"দুটি\",\n",
        "\"দুটো\",\n",
        "\"দেয়\",\n",
        "\"দেওয়া\",\n",
        "\"দেওয়ার\",\n",
        "\"দেখা\",\n",
        "\"দেখে\",\n",
        "\"দেখতে\",\n",
        "\"দ্বারা\",\n",
        "\"ধরে\",\n",
        "\"ধরা\",\n",
        "\"নয়\",\n",
        "\"নানা\",\n",
        "\"না\",\n",
        "\"নাকি\",\n",
        "\"নাগাদ\",\n",
        "\"নিতে\",\n",
        "\"নিজে\",\n",
        "\"নিজেই\",\n",
        "\"নিজের\",\n",
        "\"নিজেদের\",\n",
        "\"নিয়ে\",\n",
        "\"নেওয়া\",\n",
        "\"নেওয়ার\",\n",
        "\"নেই\",\n",
        "\"নাই\",\n",
        "\"পক্ষে\",\n",
        "\"পর্যন্ত\",\n",
        "\"পাওয়া\",\n",
        "\"পারেন\",\n",
        "\"পারি\",\n",
        "\"পারে\",\n",
        "\"পরে\",\n",
        "\"পরেই\",\n",
        "\"পরেও\",\n",
        "\"পর\",\n",
        "\"পেয়ে\",\n",
        "\"প্রতি\",\n",
        "\"প্রভৃতি\",\n",
        "\"প্রায়\",\n",
        "\"ফের\",\n",
        "\"ফলে\",\n",
        "\"ফিরে\",\n",
        "\"ব্যবহার\",\n",
        "\"বলতে\",\n",
        "\"বললেন\",\n",
        "\"বলেছেন\",\n",
        "\"বলল\",\n",
        "\"বলা\",\n",
        "\"বলেন\",\n",
        "\"বলে\",\n",
        "\"বহু\",\n",
        "\"বসে\",\n",
        "\"বার\",\n",
        "\"বা\",\n",
        "\"বিনা\",\n",
        "\"বরং\",\n",
        "\"বদলে\",\n",
        "\"বাদে\",\n",
        "\"বার\",\n",
        "\"বিশেষ\",\n",
        "\"বিভিন্ন\tবিষয়টি\",\n",
        "\"ব্যবহার\",\n",
        "\"ব্যাপারে\",\n",
        "\"ভাবে\",\n",
        "\"ভাবেই\",\n",
        "\"মধ্যে\",\n",
        "\"মধ্যেই\",\n",
        "\"মধ্যেও\",\n",
        "\"মধ্যভাগে\",\n",
        "\"মাধ্যমে\",\n",
        "\"মাত্র\",\n",
        "\"মতো\",\n",
        "\"মতোই\",\n",
        "\"মোটেই\",\n",
        "\"যখন\",\n",
        "\"যদি\",\n",
        "\"যদিও\",\n",
        "\"যাবে\",\n",
        "\"যায়\",\n",
        "\"যাকে\",\n",
        "\"যাওয়া\",\n",
        "\"যাওয়ার\",\n",
        "\"যত\",\n",
        "\"যতটা\",\n",
        "\"যা\",\n",
        "\"যার\",\n",
        "\"যারা\",\n",
        "\"যাঁর\",\n",
        "\"যাঁরা\",\n",
        "\"যাদের\",\n",
        "\"যান\",\n",
        "\"যাচ্ছে\",\n",
        "\"যেতে\",\n",
        "\"যাতে\",\n",
        "\"যেন\",\n",
        "\"যেমন\",\n",
        "\"যেখানে\",\n",
        "\"যিনি\",\n",
        "\"যে\",\n",
        "\"রেখে\",\n",
        "\"রাখা\",\n",
        "\"রয়েছে\",\n",
        "\"রকম\",\n",
        "\"শুধু\",\n",
        "\"সঙ্গে\",\n",
        "\"সঙ্গেও\",\n",
        "\"সমস্ত\",\n",
        "\"সব\",\n",
        "\"সবার\",\n",
        "\"সহ\",\n",
        "\"সুতরাং\",\n",
        "\"সহিত\",\n",
        "\"সেই\",\n",
        "\"সেটা\",\n",
        "\"সেটি\",\n",
        "\"সেটাই\",\n",
        "\"সেটাও\",\n",
        "\"সম্প্রতি\",\n",
        "\"সেখান\",\n",
        "\"সেখানে\",\n",
        "\"সে\",\n",
        "\"স্পষ্ট\",\n",
        "\"স্বয়ং\",\n",
        "\"হইতে\",\n",
        "\"হইবে\",\n",
        "\"হৈলে\",\n",
        "\"হইয়া\",\n",
        "\"হচ্ছে\",\n",
        "\"হত\",\n",
        "\"হতে\",\n",
        "\"হতেই\",\n",
        "\"হবে\",\n",
        "\"হবেন\",\n",
        "\"হয়েছিল\",\n",
        "\"হয়েছে\",\n",
        "\"হয়েছেন\",\n",
        "\"হয়ে\",\n",
        "\"হয়নি\",\n",
        "\"হয়\",\n",
        "\"হয়েই\",\n",
        "\"হয়তো\",\n",
        "\"হল\",\n",
        "\"হলে\",\n",
        "\"হলেই\",\n",
        "\"হলেও\",\n",
        "\"হলো\",\n",
        "\"হিসাবে\",\n",
        "\"হওয়া\",\n",
        "\"হওয়ার\",\n",
        "\"হওয়ায়\",\n",
        "\"হন\",\n",
        "\"হোক\",\n",
        "\"জন\",\n",
        "\"জনকে\",\n",
        "\"জনের\",\n",
        "\"জানতে\",\n",
        "\"জানায়\",\n",
        "\"জানিয়ে\",\n",
        "\"জানানো\",\n",
        "\"জানিয়েছে\",\n",
        "\"জন্য\", \"জন্যওজে\", \"জে\", \"বেশ\", \"দেন\", \"তুলে\", \"ছিলেন\", \"চান\", \"চায়\", \"চেয়ে\", \"মোট\", \"যথেষ্ট\", \"টি\"])\n",
        "data['content'] = data['content'].apply(lambda x: ' '.join([word for word in x.split() if word not in (stop)]))"
      ],
      "execution_count": 12,
      "outputs": [
        {
          "output_type": "stream",
          "name": "stdout",
          "text": [
            "time: 3.96 s (started: 2021-09-06 10:22:20 +00:00)\n"
          ]
        }
      ]
    },
    {
      "cell_type": "markdown",
      "metadata": {
        "id": "6sWeiHnVenj4"
      },
      "source": [
        "Lemmatizing words int order to only root words are retain in the data and fed into the model"
      ]
    },
    {
      "cell_type": "code",
      "metadata": {
        "colab": {
          "base_uri": "https://localhost:8080/"
        },
        "id": "79KbvAJOe0q_",
        "outputId": "4545e420-bc01-4ff9-e8d0-8c791d96238f"
      },
      "source": [
        "nltk.download('wordnet')\n",
        "def lemmatize_words(content):\n",
        "    wnl = nltk.stem.WordNetLemmatizer()\n",
        "    lem = ' '.join([wnl.lemmatize(word) for word in content.split()])    \n",
        "    return lem\n",
        "\n",
        "data['content'] = data['content'].apply(lemmatize_words)"
      ],
      "execution_count": 13,
      "outputs": [
        {
          "output_type": "stream",
          "name": "stdout",
          "text": [
            "[nltk_data] Downloading package wordnet to /root/nltk_data...\n",
            "[nltk_data]   Package wordnet is already up-to-date!\n",
            "time: 42.2 s (started: 2021-09-06 10:22:30 +00:00)\n"
          ]
        }
      ]
    },
    {
      "cell_type": "markdown",
      "metadata": {
        "id": "ezZDHJ-0fbc1"
      },
      "source": [
        "#Bulding Model"
      ]
    },
    {
      "cell_type": "markdown",
      "metadata": {
        "id": "06ReTE9Z6pLv"
      },
      "source": [
        "Spliting datas into training set and test set"
      ]
    },
    {
      "cell_type": "code",
      "metadata": {
        "id": "yU7d4N1gff4b",
        "colab": {
          "base_uri": "https://localhost:8080/"
        },
        "outputId": "22b53f36-6dce-49fc-ea11-a7147c35f890"
      },
      "source": [
        "y = data['Label']\n",
        "X_train, X_test, y_train, y_test = train_test_split(data['content'], y,test_size=0.33,random_state=53)"
      ],
      "execution_count": 14,
      "outputs": [
        {
          "output_type": "stream",
          "name": "stdout",
          "text": [
            "time: 14.7 ms (started: 2021-09-06 10:23:18 +00:00)\n"
          ]
        }
      ]
    },
    {
      "cell_type": "code",
      "metadata": {
        "colab": {
          "base_uri": "https://localhost:8080/"
        },
        "id": "s-iIarNYfm7B",
        "outputId": "34eab5e2-ca71-403b-e5d2-880c59604e61"
      },
      "source": [
        "count_vectorizer = CountVectorizer(stop_words = frozenset([\"অবশ্য\", \"অনেক\", \"অনেকে\", \"অনেকেই\", \"অন্তত\", \"অথবা\", \"অথচ\",\n",
        "\"অর্থাত\",\n",
        "\"অন্য\",\n",
        "\"আজ\",\n",
        "\"আছে\",\n",
        "\"আপনার\",\n",
        "\"আপনি\",\n",
        "\"আবার\",\n",
        "\"আমরা\",\n",
        "\"আমাকে\",\n",
        "\"আমাদের\",\n",
        "\"আমার\",\n",
        "\"আমি\",\n",
        "\"আরও\",\n",
        "\"আর\",\n",
        "\"আগে\",\n",
        "\"আগেই\",\n",
        "\"আই\",\n",
        "\"অতএব\",\n",
        "\"আগামী\",\n",
        "\"অবধি\",\n",
        "\"অনুযায়ী\",\n",
        "\"আদ্যভাগে\",\n",
        "\"এই\",\n",
        "\"একই\",\n",
        "\"একে\",\n",
        "\"একটি\",\n",
        "\"এখন\",\n",
        "\"এখনও\",\n",
        "\"এখানে\",\n",
        "\"এখানেই\",\n",
        "\"এটি\",\n",
        "\"এটা\",\n",
        "\"এটাই\",\n",
        "\"এতটাই\",\n",
        "\"এবং\",\n",
        "\"একবার\",\n",
        "\"এবার\",\n",
        "\"এদের\",\n",
        "\"এঁদের\",\n",
        "\"এমন\",\n",
        "\"এমনকী\",\n",
        "\"এল\",\n",
        "\"এর\",\n",
        "\"এরা\",\n",
        "\"এঁরা\",\n",
        "\"এস\",\n",
        "\"এত\",\n",
        "\"এতে\",\n",
        "\"এসে\",\n",
        "\"একে\",\n",
        "\"এ\",\n",
        "\"ঐ\",\n",
        "\"ই\",\n",
        "\"ইহা\",\n",
        "\"ইত্যাদি\",\n",
        "\"উনি\",\n",
        "\"উপর\",\n",
        "\"উপরে\",\n",
        "\"উচিত\",\n",
        "\"ও\",\n",
        "\"ওই\",\n",
        "\"ওর\",\n",
        "\"ওরা\",\n",
        "\"ওঁর\",\n",
        "\"ওঁরা\",\n",
        "\"ওকে\",\n",
        "\"ওদের\",\n",
        "\"ওঁদের\"\n",
        "\"ওখানে\",\n",
        "\"কত\",\n",
        "\"কবে\",\n",
        "\"করতে\",\n",
        "\"কয়েক\",\n",
        "\"কয়েকটি\",\n",
        "\"করবে\",\n",
        "\"করলেন\",\n",
        "\"করার\",\n",
        "\"কারও\",\n",
        "\"করা\",\n",
        "\"করি\",\n",
        "\"করিয়ে\",\n",
        "\"করার\",\n",
        "\"করাই\",\n",
        "\"করলে\",\n",
        "\"করলেন\",\n",
        "\"করিতে\",\n",
        "\"করিয়া\",\n",
        "\"করেছিলেন\",\n",
        "\"করছে\",\n",
        "\"করছেন\",\n",
        "\"করেছেন\",\n",
        "\"করেছে\",\n",
        "\"করেন\",\n",
        "\"করবেন\",\n",
        "\"করায়\",\n",
        "\"করে\",\n",
        "\"করেই\",\n",
        "\"কাছ\",\n",
        "\"কাছে\",\n",
        "\"কাজে\",\n",
        "\"কারণ\",\n",
        "\"কিছু\",\n",
        "\"কিছুই\",\n",
        "\"কিন্তু\",\n",
        "\"কিংবা\",\n",
        "\"কি\",\n",
        "\"কী\",\n",
        "\"কেউ\",\n",
        "\"কেউই\",\n",
        "\"কাউকে\",\n",
        "\"কেন\",\n",
        "\"কে\",\n",
        "\"কোনও\",\n",
        "\"কোনো\",\n",
        "\"কোন\",\n",
        "\"কখনও\",\n",
        "\"ক্ষেত্রে\",\n",
        "\"খুব\",\t\n",
        "\"গুলি\",\n",
        "\"গিয়ে\",\n",
        "\"গিয়েছে\",\n",
        "\"গেছে\",\n",
        "\"গেল\",\n",
        "\"গেলে\",\n",
        "\"গোটা\",\n",
        "\"চলে\",\n",
        "\"ছাড়া\",\n",
        "\"ছাড়াও\",\n",
        "\"ছিলেন\",\n",
        "\"ছিল\",\n",
        "\"জন্য\",\n",
        "\"জানা\",\n",
        "\"ঠিক\",\n",
        "\"তিনি\",\n",
        "\"তিনঐ\",\n",
        "\"তিনিও\",\n",
        "\"তখন\",\n",
        "\"তবে\",\n",
        "\"তবু\",\n",
        "\"তাঁদের\",\n",
        "\"তাঁহারা\",\n",
        "\"তাঁরা\",\n",
        "\"তাঁর\",\n",
        "\"তাঁকে\",\n",
        "\"তাই\",\n",
        "\"তেমন\",\n",
        "\"তাকে\",\n",
        "\"তাহা\",\n",
        "\"তাহাতে\",\n",
        "\"তাহার\",\n",
        "\"তাদের\",\n",
        "\"তারপর\",\n",
        "\"তারা\",\n",
        "\"তারৈ\",\n",
        "\"তার\",\n",
        "\"তাহলে\",\n",
        "\"তিনি\",\n",
        "\"তা\",\n",
        "\"তাও\",\n",
        "\"তাতে\",\n",
        "\"তো\",\n",
        "\"তত\",\n",
        "\"তুমি\",\n",
        "\"তোমার\",\n",
        "\"তথা\",\n",
        "\"থাকে\",\n",
        "\"থাকা\",\n",
        "\"থাকায়\",\n",
        "\"থেকে\",\n",
        "\"থেকেও\",\n",
        "\"থাকবে\",\n",
        "\"থাকেন\",\n",
        "\"থাকবেন\",\n",
        "\"থেকেই\",\n",
        "\"দিকে\",\n",
        "\"দিতে\",\n",
        "\"দিয়ে\",\n",
        "\"দিয়েছে\",\n",
        "\"দিয়েছেন\",\n",
        "\"দিলেন\",\n",
        "\"দু\",\n",
        "\"দুটি\",\n",
        "\"দুটো\",\n",
        "\"দেয়\",\n",
        "\"দেওয়া\",\n",
        "\"দেওয়ার\",\n",
        "\"দেখা\",\n",
        "\"দেখে\",\n",
        "\"দেখতে\",\n",
        "\"দ্বারা\",\n",
        "\"ধরে\",\n",
        "\"ধরা\",\n",
        "\"নয়\",\n",
        "\"নানা\",\n",
        "\"না\",\n",
        "\"নাকি\",\n",
        "\"নাগাদ\",\n",
        "\"নিতে\",\n",
        "\"নিজে\",\n",
        "\"নিজেই\",\n",
        "\"নিজের\",\n",
        "\"নিজেদের\",\n",
        "\"নিয়ে\",\n",
        "\"নেওয়া\",\n",
        "\"নেওয়ার\",\n",
        "\"নেই\",\n",
        "\"নাই\",\n",
        "\"পক্ষে\",\n",
        "\"পর্যন্ত\",\n",
        "\"পাওয়া\",\n",
        "\"পারেন\",\n",
        "\"পারি\",\n",
        "\"পারে\",\n",
        "\"পরে\",\n",
        "\"পরেই\",\n",
        "\"পরেও\",\n",
        "\"পর\",\n",
        "\"পেয়ে\",\n",
        "\"প্রতি\",\n",
        "\"প্রভৃতি\",\n",
        "\"প্রায়\",\n",
        "\"ফের\",\n",
        "\"ফলে\",\n",
        "\"ফিরে\",\n",
        "\"ব্যবহার\",\n",
        "\"বলতে\",\n",
        "\"বললেন\",\n",
        "\"বলেছেন\",\n",
        "\"বলল\",\n",
        "\"বলা\",\n",
        "\"বলেন\",\n",
        "\"বলে\",\n",
        "\"বহু\",\n",
        "\"বসে\",\n",
        "\"বার\",\n",
        "\"বা\",\n",
        "\"বিনা\",\n",
        "\"বরং\",\n",
        "\"বদলে\",\n",
        "\"বাদে\",\n",
        "\"বার\",\n",
        "\"বিশেষ\",\n",
        "\"বিভিন্ন\tবিষয়টি\",\n",
        "\"ব্যবহার\",\n",
        "\"ব্যাপারে\",\n",
        "\"ভাবে\",\n",
        "\"ভাবেই\",\n",
        "\"মধ্যে\",\n",
        "\"মধ্যেই\",\n",
        "\"মধ্যেও\",\n",
        "\"মধ্যভাগে\",\n",
        "\"মাধ্যমে\",\n",
        "\"মাত্র\",\n",
        "\"মতো\",\n",
        "\"মতোই\",\n",
        "\"মোটেই\",\n",
        "\"যখন\",\n",
        "\"যদি\",\n",
        "\"যদিও\",\n",
        "\"যাবে\",\n",
        "\"যায়\",\n",
        "\"যাকে\",\n",
        "\"যাওয়া\",\n",
        "\"যাওয়ার\",\n",
        "\"যত\",\n",
        "\"যতটা\",\n",
        "\"যা\",\n",
        "\"যার\",\n",
        "\"যারা\",\n",
        "\"যাঁর\",\n",
        "\"যাঁরা\",\n",
        "\"যাদের\",\n",
        "\"যান\",\n",
        "\"যাচ্ছে\",\n",
        "\"যেতে\",\n",
        "\"যাতে\",\n",
        "\"যেন\",\n",
        "\"যেমন\",\n",
        "\"যেখানে\",\n",
        "\"যিনি\",\n",
        "\"যে\",\n",
        "\"রেখে\",\n",
        "\"রাখা\",\n",
        "\"রয়েছে\",\n",
        "\"রকম\",\n",
        "\"শুধু\",\n",
        "\"সঙ্গে\",\n",
        "\"সঙ্গেও\",\n",
        "\"সমস্ত\",\n",
        "\"সব\",\n",
        "\"সবার\",\n",
        "\"সহ\",\n",
        "\"সুতরাং\",\n",
        "\"সহিত\",\n",
        "\"সেই\",\n",
        "\"সেটা\",\n",
        "\"সেটি\",\n",
        "\"সেটাই\",\n",
        "\"সেটাও\",\n",
        "\"সম্প্রতি\",\n",
        "\"সেখান\",\n",
        "\"সেখানে\",\n",
        "\"সে\",\n",
        "\"স্পষ্ট\",\n",
        "\"স্বয়ং\",\n",
        "\"হইতে\",\n",
        "\"হইবে\",\n",
        "\"হৈলে\",\n",
        "\"হইয়া\",\n",
        "\"হচ্ছে\",\n",
        "\"হত\",\n",
        "\"হতে\",\n",
        "\"হতেই\",\n",
        "\"হবে\",\n",
        "\"হবেন\",\n",
        "\"হয়েছিল\",\n",
        "\"হয়েছে\",\n",
        "\"হয়েছেন\",\n",
        "\"হয়ে\",\n",
        "\"হয়নি\",\n",
        "\"হয়\",\n",
        "\"হয়েই\",\n",
        "\"হয়তো\",\n",
        "\"হল\",\n",
        "\"হলে\",\n",
        "\"হলেই\",\n",
        "\"হলেও\",\n",
        "\"হলো\",\n",
        "\"হিসাবে\",\n",
        "\"হওয়া\",\n",
        "\"হওয়ার\",\n",
        "\"হওয়ায়\",\n",
        "\"হন\",\n",
        "\"হোক\",\n",
        "\"জন\",\n",
        "\"জনকে\",\n",
        "\"জনের\",\n",
        "\"জানতে\",\n",
        "\"জানায়\",\n",
        "\"জানিয়ে\",\n",
        "\"জানানো\",\n",
        "\"জানিয়েছে\",\n",
        "\"জন্য\", \"জন্যওজে\", \"জে\", \"বেশ\", \"দেন\", \"তুলে\", \"ছিলেন\", \"চান\", \"চায়\", \"চেয়ে\", \"মোট\", \"যথেষ্ট\", \"টি\"]))\n",
        "\n",
        "count_train = count_vectorizer.fit_transform(X_train.values)\n",
        "count_test = count_vectorizer.transform(X_test.values)\n",
        "print(count_train.shape)"
      ],
      "execution_count": 15,
      "outputs": [
        {
          "output_type": "stream",
          "name": "stderr",
          "text": [
            "/usr/local/lib/python3.7/dist-packages/sklearn/feature_extraction/text.py:385: UserWarning: Your stop_words may be inconsistent with your preprocessing. Tokenizing the stop words generated tokens ['অথব', 'অন', 'অবধ', 'অবশ', 'অর', 'আগ', 'আছ', 'আদ', 'আপন', 'আব', 'আম', 'আমর', 'ইত', 'ইহ', 'উই', 'উক', 'উচ', 'উন', 'এক', 'একট', 'একব', 'এখ', 'এট', 'এতট', 'এদ', 'এব', 'এমনক', 'ওক', 'ওদ', 'ওয়', 'কট', 'কব', 'কর', 'করছ', 'করত', 'করব', 'করল', 'কয়', 'খত', 'চল', 'জনক', 'তথ', 'তব', 'তর', 'ধর', 'নঐ', 'নও', 'নত', 'পক', 'পষ', 'ফল', 'বদল', 'বর', 'বল', 'বলত', 'বস', 'বহ', 'বয়', 'মত', 'মধ', 'মন', 'যওজ', 'যতট', 'যথ', 'যদ', 'যন', 'যবহ', 'যভ', 'যম', 'রও', 'রওখ', 'রণ', 'রত', 'রপর', 'রভ', 'রয়', 'ষয়ট', 'সঙ', 'সম', 'সমস', 'হইত', 'হইব', 'হইয়', 'হওয়', 'হচ', 'হব', 'হয়ত', 'হয়ন'] not in stop_words.\n",
            "  'stop_words.' % sorted(inconsistent))\n"
          ]
        },
        {
          "output_type": "stream",
          "name": "stdout",
          "text": [
            "(33484, 28088)\n",
            "time: 11 s (started: 2021-09-06 10:23:21 +00:00)\n"
          ]
        }
      ]
    },
    {
      "cell_type": "markdown",
      "metadata": {
        "id": "54wjDMUDfxAz"
      },
      "source": [
        "# Training Model"
      ]
    },
    {
      "cell_type": "code",
      "metadata": {
        "id": "-JdlSUEl8ACA",
        "colab": {
          "base_uri": "https://localhost:8080/"
        },
        "outputId": "6834f438-63cf-4978-d4a9-1fd67f6525a6"
      },
      "source": [
        "from sklearn.svm import SVC\n",
        "from sklearn.metrics import classification_report"
      ],
      "execution_count": 16,
      "outputs": [
        {
          "output_type": "stream",
          "name": "stdout",
          "text": [
            "time: 1.51 ms (started: 2021-09-06 10:23:41 +00:00)\n"
          ]
        }
      ]
    },
    {
      "cell_type": "code",
      "metadata": {
        "colab": {
          "base_uri": "https://localhost:8080/"
        },
        "id": "bBPR_JGff1Ql",
        "outputId": "3a48fac8-b46f-4423-864c-285f7d461df3"
      },
      "source": [
        "\n",
        "svc_model1 = SVC(C=1, kernel='linear', gamma= 1)\n",
        "svc_model1.fit(count_train, y_train)\n",
        "\n",
        "prediction1 = svc_model1.predict(count_test)\n",
        "\n",
        "print(classification_report(y_test, prediction1, target_names = ['Fake','True']))\n"
      ],
      "execution_count": 18,
      "outputs": [
        {
          "output_type": "stream",
          "name": "stdout",
          "text": [
            "              precision    recall  f1-score   support\n",
            "\n",
            "        Fake       0.99      0.99      0.99     16101\n",
            "        True       0.63      0.63      0.63       392\n",
            "\n",
            "    accuracy                           0.98     16493\n",
            "   macro avg       0.81      0.81      0.81     16493\n",
            "weighted avg       0.98      0.98      0.98     16493\n",
            "\n",
            "time: 3min 59s (started: 2021-09-06 10:34:52 +00:00)\n"
          ]
        }
      ]
    },
    {
      "cell_type": "code",
      "metadata": {
        "colab": {
          "base_uri": "https://localhost:8080/",
          "height": 320
        },
        "id": "VYvOnx5CprS_",
        "outputId": "ceceb438-41d2-4629-d98f-2e0e1ae628e2"
      },
      "source": [
        "# plot ROC Curve\n",
        "\n",
        "from sklearn.metrics import roc_curve\n",
        "\n",
        "fpr, tpr, thresholds = roc_curve(y_test, prediction1)\n",
        "\n",
        "plt.figure(figsize=(6,4))\n",
        "\n",
        "plt.plot(fpr, tpr, linewidth=2)\n",
        "\n",
        "plt.plot([0,1], [0,1], 'k--' )\n",
        "\n",
        "plt.rcParams['font.size'] = 12\n",
        "\n",
        "plt.title('ROC curve for Predicting Bangla Fake News (SVM Linear Kernel)')\n",
        "\n",
        "plt.xlabel('False Positive Rate')\n",
        "\n",
        "plt.ylabel('True Positive Rate')\n",
        "\n",
        "plt.show()"
      ],
      "execution_count": 19,
      "outputs": [
        {
          "output_type": "display_data",
          "data": {
            "image/png": "[encoded data removed]",
            "text/plain": [
              "<Figure size 432x288 with 1 Axes>"
            ]
          },
          "metadata": {
            "needs_background": "light"
          }
        },
        {
          "output_type": "stream",
          "name": "stdout",
          "text": [
            "time: 182 ms (started: 2021-09-06 10:38:56 +00:00)\n"
          ]
        }
      ]
    },
    {
      "cell_type": "code",
      "metadata": {
        "colab": {
          "base_uri": "https://localhost:8080/"
        },
        "id": "Z2-HKvYGzCT1",
        "outputId": "4da0e26e-37b8-46ad-bedd-a26c7af6afc0"
      },
      "source": [
        "# compute ROC AUC\n",
        "\n",
        "from sklearn.metrics import roc_auc_score\n",
        "\n",
        "ROC_AUC = roc_auc_score(y_test, prediction1)\n",
        "\n",
        "print('ROC AUC : {:.4f}'.format(ROC_AUC))"
      ],
      "execution_count": 22,
      "outputs": [
        {
          "output_type": "stream",
          "name": "stdout",
          "text": [
            "ROC AUC : 0.8105\n",
            "time: 7.68 ms (started: 2021-09-06 11:09:23 +00:00)\n"
          ]
        }
      ]
    },
    {
      "cell_type": "code",
      "metadata": {
        "colab": {
          "base_uri": "https://localhost:8080/"
        },
        "id": "7I_s-3Buq_3v",
        "outputId": "881d1792-9d8a-4780-a198-5fa348faaa9e"
      },
      "source": [
        "# Print the Confusion Matrix and slice it into four pieces\n",
        "\n",
        "from sklearn.metrics import confusion_matrix\n",
        "\n",
        "cm = confusion_matrix(y_test, prediction1)\n",
        "\n",
        "print('Confusion matrix\\n\\n', cm)\n",
        "\n",
        "print('\\nTrue Positives(TP) = ', cm[0,0])\n",
        "\n",
        "print('\\nTrue Negatives(TN) = ', cm[1,1])\n",
        "\n",
        "print('\\nFalse Positives(FP) = ', cm[0,1])\n",
        "\n",
        "print('\\nFalse Negatives(FN) = ', cm[1,0])"
      ],
      "execution_count": 20,
      "outputs": [
        {
          "output_type": "stream",
          "name": "stdout",
          "text": [
            "Confusion matrix\n",
            "\n",
            " [[15954   147]\n",
            " [  145   247]]\n",
            "\n",
            "True Positives(TP) =  15954\n",
            "\n",
            "True Negatives(TN) =  247\n",
            "\n",
            "False Positives(FP) =  147\n",
            "\n",
            "False Negatives(FN) =  145\n",
            "time: 27.3 ms (started: 2021-09-06 10:39:06 +00:00)\n"
          ]
        }
      ]
    },
    {
      "cell_type": "code",
      "metadata": {
        "colab": {
          "base_uri": "https://localhost:8080/",
          "height": 336
        },
        "id": "SQ52ep5JrBUa",
        "outputId": "87ad190f-3304-46b8-c7dd-a90f5c7b5626"
      },
      "source": [
        "# visualize confusion matrix with seaborn heatmap\n",
        "\n",
        "cm_matrix = pd.DataFrame(data=cm, columns=['Actual Positive:1', 'Actual Negative:0'], \n",
        "                                 index=['Predict Positive:1', 'Predict Negative:0'])\n",
        "\n",
        "sns.heatmap(cm_matrix, annot=True, fmt='d', cmap='YlGnBu')"
      ],
      "execution_count": 21,
      "outputs": [
        {
          "output_type": "execute_result",
          "data": {
            "text/plain": [
              "<matplotlib.axes._subplots.AxesSubplot at 0x7fe902e52310>"
            ]
          },
          "metadata": {},
          "execution_count": 21
        },
        {
          "output_type": "display_data",
          "data": {
            "image/png": "[encoded data removed]",
            "text/plain": [
              "<Figure size 432x288 with 2 Axes>"
            ]
          },
          "metadata": {
            "needs_background": "light"
          }
        },
        {
          "output_type": "stream",
          "name": "stdout",
          "text": [
            "time: 255 ms (started: 2021-09-06 10:39:10 +00:00)\n"
          ]
        }
      ]
    },
    {
      "cell_type": "code",
      "metadata": {
        "colab": {
          "base_uri": "https://localhost:8080/"
        },
        "id": "6h_kadEH74jo",
        "outputId": "071574cc-7f8b-47e9-8668-72ccd5747f20"
      },
      "source": [
        "svc_model1 = SVC(C=1, kernel='poly', gamma= 1)\n",
        "svc_model1.fit(count_train, y_train)\n",
        "\n",
        "prediction2 = svc_model1.predict(count_test)\n",
        "\n",
        "print(classification_report(y_test, prediction2, target_names = ['Fake','True']))"
      ],
      "execution_count": 23,
      "outputs": [
        {
          "output_type": "stream",
          "name": "stdout",
          "text": [
            "              precision    recall  f1-score   support\n",
            "\n",
            "        Fake       0.99      0.98      0.98     16101\n",
            "        True       0.39      0.46      0.42       392\n",
            "\n",
            "    accuracy                           0.97     16493\n",
            "   macro avg       0.69      0.72      0.70     16493\n",
            "weighted avg       0.97      0.97      0.97     16493\n",
            "\n",
            "time: 11min 23s (started: 2021-09-06 11:12:52 +00:00)\n"
          ]
        }
      ]
    },
    {
      "cell_type": "code",
      "metadata": {
        "colab": {
          "base_uri": "https://localhost:8080/",
          "height": 320
        },
        "id": "uaImSO8EzUVl",
        "outputId": "a1d1d7d1-62ce-4495-bc9a-fc062ef84f37"
      },
      "source": [
        "# plot ROC Curve\n",
        "\n",
        "from sklearn.metrics import roc_curve\n",
        "\n",
        "fpr, tpr, thresholds = roc_curve(y_test, prediction2)\n",
        "\n",
        "plt.figure(figsize=(6,4))\n",
        "\n",
        "plt.plot(fpr, tpr, linewidth=2)\n",
        "\n",
        "plt.plot([0,1], [0,1], 'k--' )\n",
        "\n",
        "plt.rcParams['font.size'] = 12\n",
        "\n",
        "plt.title('ROC curve for Predicting Bangla Fake News (SVM Linear Kernel)')\n",
        "\n",
        "plt.xlabel('False Positive Rate')\n",
        "\n",
        "plt.ylabel('True Positive Rate')\n",
        "\n",
        "plt.show()"
      ],
      "execution_count": 24,
      "outputs": [
        {
          "output_type": "display_data",
          "data": {
            "image/png": "[encoded data removed]",
            "text/plain": [
              "<Figure size 432x288 with 1 Axes>"
            ]
          },
          "metadata": {
            "needs_background": "light"
          }
        },
        {
          "output_type": "stream",
          "name": "stdout",
          "text": [
            "time: 161 ms (started: 2021-09-06 11:24:38 +00:00)\n"
          ]
        }
      ]
    },
    {
      "cell_type": "code",
      "metadata": {
        "colab": {
          "base_uri": "https://localhost:8080/"
        },
        "id": "B8f6rvVqza7b",
        "outputId": "b1825130-4b16-49a8-e690-dfc30b60326b"
      },
      "source": [
        "# compute ROC AUC\n",
        "\n",
        "from sklearn.metrics import roc_auc_score\n",
        "\n",
        "ROC_AUC = roc_auc_score(y_test, prediction2)\n",
        "\n",
        "print('ROC AUC : {:.4f}'.format(ROC_AUC))"
      ],
      "execution_count": 25,
      "outputs": [
        {
          "output_type": "stream",
          "name": "stdout",
          "text": [
            "ROC AUC : 0.7221\n",
            "time: 8.51 ms (started: 2021-09-06 11:24:45 +00:00)\n"
          ]
        }
      ]
    },
    {
      "cell_type": "code",
      "metadata": {
        "colab": {
          "base_uri": "https://localhost:8080/"
        },
        "id": "9uI2SbKMzfzG",
        "outputId": "646aa89a-d8ab-4d91-8048-3a4c8833fd06"
      },
      "source": [
        "# Print the Confusion Matrix and slice it into four pieces\n",
        "\n",
        "from sklearn.metrics import confusion_matrix\n",
        "\n",
        "cm = confusion_matrix(y_test, prediction2)\n",
        "\n",
        "print('Confusion matrix\\n\\n', cm)\n",
        "\n",
        "print('\\nTrue Positives(TP) = ', cm[0,0])\n",
        "\n",
        "print('\\nTrue Negatives(TN) = ', cm[1,1])\n",
        "\n",
        "print('\\nFalse Positives(FP) = ', cm[0,1])\n",
        "\n",
        "print('\\nFalse Negatives(FN) = ', cm[1,0])"
      ],
      "execution_count": 26,
      "outputs": [
        {
          "output_type": "stream",
          "name": "stdout",
          "text": [
            "Confusion matrix\n",
            "\n",
            " [[15820   281]\n",
            " [  211   181]]\n",
            "\n",
            "True Positives(TP) =  15820\n",
            "\n",
            "True Negatives(TN) =  181\n",
            "\n",
            "False Positives(FP) =  281\n",
            "\n",
            "False Negatives(FN) =  211\n",
            "time: 31.3 ms (started: 2021-09-06 11:24:49 +00:00)\n"
          ]
        }
      ]
    },
    {
      "cell_type": "code",
      "metadata": {
        "colab": {
          "base_uri": "https://localhost:8080/",
          "height": 336
        },
        "id": "TLca3uDazmJM",
        "outputId": "2e7d5755-530c-4edf-ae68-87f925fc715f"
      },
      "source": [
        "# visualize confusion matrix with seaborn heatmap\n",
        "\n",
        "cm_matrix = pd.DataFrame(data=cm, columns=['Actual Positive:1', 'Actual Negative:0'], \n",
        "                                 index=['Predict Positive:1', 'Predict Negative:0'])\n",
        "\n",
        "sns.heatmap(cm_matrix, annot=True, fmt='d', cmap='YlGnBu')"
      ],
      "execution_count": 27,
      "outputs": [
        {
          "output_type": "execute_result",
          "data": {
            "text/plain": [
              "<matplotlib.axes._subplots.AxesSubplot at 0x7fe8fa4d15d0>"
            ]
          },
          "metadata": {},
          "execution_count": 27
        },
        {
          "output_type": "display_data",
          "data": {
            "image/png": "[encoded data removed]",
            "text/plain": [
              "<Figure size 432x288 with 2 Axes>"
            ]
          },
          "metadata": {
            "needs_background": "light"
          }
        },
        {
          "output_type": "stream",
          "name": "stdout",
          "text": [
            "time: 248 ms (started: 2021-09-06 11:24:53 +00:00)\n"
          ]
        }
      ]
    },
    {
      "cell_type": "code",
      "metadata": {
        "colab": {
          "base_uri": "https://localhost:8080/"
        },
        "id": "tQVoR5Lb3biv",
        "outputId": "9f75564a-18c3-4e41-b7a4-129cab325193"
      },
      "source": [
        "svc_model1 = SVC(C=1, kernel='rbf', gamma= 1)\n",
        "svc_model1.fit(count_train, y_train)\n",
        "\n",
        "prediction3 = svc_model1.predict(count_test)\n",
        "\n",
        "print(classification_report(y_test, prediction3, target_names = ['Fake','True']))"
      ],
      "execution_count": 31,
      "outputs": [
        {
          "output_type": "stream",
          "name": "stdout",
          "text": [
            "              precision    recall  f1-score   support\n",
            "\n",
            "        Fake       0.98      1.00      0.99     16101\n",
            "        True       1.00      0.02      0.04       392\n",
            "\n",
            "    accuracy                           0.98     16493\n",
            "   macro avg       0.99      0.51      0.52     16493\n",
            "weighted avg       0.98      0.98      0.97     16493\n",
            "\n",
            "time: 1h 18min 32s (started: 2021-09-06 11:28:53 +00:00)\n"
          ]
        }
      ]
    },
    {
      "cell_type": "code",
      "metadata": {
        "colab": {
          "base_uri": "https://localhost:8080/",
          "height": 320
        },
        "id": "SIEDYjyx2zdi",
        "outputId": "ba9c5048-d32f-48ac-8e39-ef8910af843e"
      },
      "source": [
        "# plot ROC Curve\n",
        "\n",
        "from sklearn.metrics import roc_curve\n",
        "\n",
        "fpr, tpr, thresholds = roc_curve(y_test, prediction3)\n",
        "\n",
        "plt.figure(figsize=(6,4))\n",
        "\n",
        "plt.plot(fpr, tpr, linewidth=2)\n",
        "\n",
        "plt.plot([0,1], [0,1], 'k--' )\n",
        "\n",
        "plt.rcParams['font.size'] = 12\n",
        "\n",
        "plt.title('ROC curve for Predicting Bangla Fake News (SVM Linear Kernel)')\n",
        "\n",
        "plt.xlabel('False Positive Rate')\n",
        "\n",
        "plt.ylabel('True Positive Rate')\n",
        "\n",
        "plt.show()"
      ],
      "execution_count": 32,
      "outputs": [
        {
          "output_type": "display_data",
          "data": {
            "image/png": "[encoded data removed]",
            "text/plain": [
              "<Figure size 432x288 with 1 Axes>"
            ]
          },
          "metadata": {
            "needs_background": "light"
          }
        },
        {
          "output_type": "stream",
          "name": "stdout",
          "text": [
            "time: 178 ms (started: 2021-09-06 12:47:38 +00:00)\n"
          ]
        }
      ]
    },
    {
      "cell_type": "code",
      "metadata": {
        "colab": {
          "base_uri": "https://localhost:8080/"
        },
        "id": "Dd6PogmN2000",
        "outputId": "eeddf11c-0d8d-4367-de0b-dfe189d17891"
      },
      "source": [
        "# compute ROC AUC\n",
        "\n",
        "from sklearn.metrics import roc_auc_score\n",
        "\n",
        "ROC_AUC = roc_auc_score(y_test, prediction3)\n",
        "\n",
        "print('ROC AUC : {:.4f}'.format(ROC_AUC))"
      ],
      "execution_count": 42,
      "outputs": [
        {
          "output_type": "stream",
          "name": "stdout",
          "text": [
            "ROC AUC : 0.5115\n",
            "time: 12.6 ms (started: 2021-09-06 12:52:04 +00:00)\n"
          ]
        }
      ]
    },
    {
      "cell_type": "code",
      "metadata": {
        "colab": {
          "base_uri": "https://localhost:8080/"
        },
        "id": "TyClOgfwKW8f",
        "outputId": "e6c46e3b-1166-4b67-80ac-5fa4dc59bc75"
      },
      "source": [
        "# Print the Confusion Matrix and slice it into four pieces\n",
        "\n",
        "from sklearn.metrics import confusion_matrix\n",
        "\n",
        "cm = confusion_matrix(y_test, prediction3)\n",
        "\n",
        "print('Confusion matrix\\n\\n', cm)\n",
        "\n",
        "print('\\nTrue Positives(TP) = ', cm[0,0])\n",
        "\n",
        "print('\\nTrue Negatives(TN) = ', cm[1,1])\n",
        "\n",
        "print('\\nFalse Positives(FP) = ', cm[0,1])\n",
        "\n",
        "print('\\nFalse Negatives(FN) = ', cm[1,0])"
      ],
      "execution_count": 43,
      "outputs": [
        {
          "output_type": "stream",
          "name": "stdout",
          "text": [
            "Confusion matrix\n",
            "\n",
            " [[16101     0]\n",
            " [  383     9]]\n",
            "\n",
            "True Positives(TP) =  16101\n",
            "\n",
            "True Negatives(TN) =  9\n",
            "\n",
            "False Positives(FP) =  0\n",
            "\n",
            "False Negatives(FN) =  383\n",
            "time: 26.7 ms (started: 2021-09-06 12:52:09 +00:00)\n"
          ]
        }
      ]
    },
    {
      "cell_type": "code",
      "metadata": {
        "colab": {
          "base_uri": "https://localhost:8080/",
          "height": 339
        },
        "id": "5BaNsV1I29OX",
        "outputId": "81fc7b11-3d60-4031-9d07-e324273b2530"
      },
      "source": [
        "# visualize confusion matrix with seaborn heatmap\n",
        "\n",
        "cm_matrix = pd.DataFrame(data=cm, columns=['Actual Positive:1', 'Actual Negative:0'], \n",
        "                                 index=['Predict Positive:1', 'Predict Negative:0'])\n",
        "\n",
        "sns.heatmap(cm_matrix, annot=True, fmt='d', cmap='YlGnBu')"
      ],
      "execution_count": 44,
      "outputs": [
        {
          "output_type": "execute_result",
          "data": {
            "text/plain": [
              "<matplotlib.axes._subplots.AxesSubplot at 0x7fe8fa068210>"
            ]
          },
          "metadata": {},
          "execution_count": 44
        },
        {
          "output_type": "display_data",
          "data": {
            "image/png": "[encoded data removed]",
            "text/plain": [
              "<Figure size 432x288 with 2 Axes>"
            ]
          },
          "metadata": {
            "needs_background": "light"
          }
        },
        {
          "output_type": "stream",
          "name": "stdout",
          "text": [
            "time: 260 ms (started: 2021-09-06 12:52:12 +00:00)\n"
          ]
        }
      ]
    },
    {
      "cell_type": "code",
      "metadata": {
        "colab": {
          "base_uri": "https://localhost:8080/"
        },
        "id": "_thb5WsE3ca0",
        "outputId": "077132e8-007f-4d43-b048-c88bec53c99b"
      },
      "source": [
        "svc_model1 = SVC(C=1, kernel='sigmoid', gamma= 1)\n",
        "svc_model1.fit(count_train, y_train)\n",
        "\n",
        "prediction4 = svc_model1.predict(count_test)\n",
        "\n",
        "print(classification_report(y_test, prediction4, target_names = ['Fake','True']))"
      ],
      "execution_count": 35,
      "outputs": [
        {
          "output_type": "stream",
          "name": "stdout",
          "text": [
            "              precision    recall  f1-score   support\n",
            "\n",
            "        Fake       0.98      0.98      0.98     16101\n",
            "        True       0.09      0.10      0.09       392\n",
            "\n",
            "    accuracy                           0.96     16493\n",
            "   macro avg       0.53      0.54      0.54     16493\n",
            "weighted avg       0.96      0.96      0.96     16493\n",
            "\n",
            "time: 1min (started: 2021-09-06 12:48:44 +00:00)\n"
          ]
        }
      ]
    },
    {
      "cell_type": "code",
      "metadata": {
        "colab": {
          "base_uri": "https://localhost:8080/",
          "height": 320
        },
        "id": "GlYEV3lYJuRK",
        "outputId": "8634970c-0c88-4c15-ccc3-31fbae4371af"
      },
      "source": [
        "# plot ROC Curve\n",
        "\n",
        "from sklearn.metrics import roc_curve\n",
        "\n",
        "fpr, tpr, thresholds = roc_curve(y_test, prediction4)\n",
        "\n",
        "plt.figure(figsize=(6,4))\n",
        "\n",
        "plt.plot(fpr, tpr, linewidth=2)\n",
        "\n",
        "plt.plot([0,1], [0,1], 'k--' )\n",
        "\n",
        "plt.rcParams['font.size'] = 12\n",
        "\n",
        "plt.title('ROC curve for Predicting Bangla Fake News (SVM Linear Kernel)')\n",
        "\n",
        "plt.xlabel('False Positive Rate')\n",
        "\n",
        "plt.ylabel('True Positive Rate')\n",
        "\n",
        "plt.show()"
      ],
      "execution_count": 38,
      "outputs": [
        {
          "output_type": "display_data",
          "data": {
            "image/png": "[encoded data removed]",
            "text/plain": [
              "<Figure size 432x288 with 1 Axes>"
            ]
          },
          "metadata": {
            "needs_background": "light"
          }
        },
        {
          "output_type": "stream",
          "name": "stdout",
          "text": [
            "time: 159 ms (started: 2021-09-06 12:50:09 +00:00)\n"
          ]
        }
      ]
    },
    {
      "cell_type": "code",
      "metadata": {
        "colab": {
          "base_uri": "https://localhost:8080/"
        },
        "id": "SR2tGEQtJwZA",
        "outputId": "ab8a0810-2f53-4a43-f788-2696911a804f"
      },
      "source": [
        "# compute ROC AUC\n",
        "\n",
        "from sklearn.metrics import roc_auc_score\n",
        "\n",
        "ROC_AUC = roc_auc_score(y_test, prediction4)\n",
        "\n",
        "print('ROC AUC : {:.4f}'.format(ROC_AUC))"
      ],
      "execution_count": 45,
      "outputs": [
        {
          "output_type": "stream",
          "name": "stdout",
          "text": [
            "ROC AUC : 0.5365\n",
            "time: 11.5 ms (started: 2021-09-06 12:52:54 +00:00)\n"
          ]
        }
      ]
    },
    {
      "cell_type": "code",
      "metadata": {
        "colab": {
          "base_uri": "https://localhost:8080/"
        },
        "id": "1IxY_HcRKshR",
        "outputId": "45524740-a6cd-4292-e851-a0c90a2ed32e"
      },
      "source": [
        "# Print the Confusion Matrix and slice it into four pieces\n",
        "\n",
        "from sklearn.metrics import confusion_matrix\n",
        "\n",
        "cm = confusion_matrix(y_test, prediction4)\n",
        "\n",
        "print('Confusion matrix\\n\\n', cm)\n",
        "\n",
        "print('\\nTrue Positives(TP) = ', cm[0,0])\n",
        "\n",
        "print('\\nTrue Negatives(TN) = ', cm[1,1])\n",
        "\n",
        "print('\\nFalse Positives(FP) = ', cm[0,1])\n",
        "\n",
        "print('\\nFalse Negatives(FN) = ', cm[1,0])"
      ],
      "execution_count": 46,
      "outputs": [
        {
          "output_type": "stream",
          "name": "stdout",
          "text": [
            "Confusion matrix\n",
            "\n",
            " [[15716   385]\n",
            " [  354    38]]\n",
            "\n",
            "True Positives(TP) =  15716\n",
            "\n",
            "True Negatives(TN) =  38\n",
            "\n",
            "False Positives(FP) =  385\n",
            "\n",
            "False Negatives(FN) =  354\n",
            "time: 29.8 ms (started: 2021-09-06 12:52:58 +00:00)\n"
          ]
        }
      ]
    },
    {
      "cell_type": "code",
      "metadata": {
        "colab": {
          "base_uri": "https://localhost:8080/",
          "height": 336
        },
        "id": "UIwkzNqSJy8T",
        "outputId": "03985cab-a9ff-4c81-a4b1-01449e9118f5"
      },
      "source": [
        "# visualize confusion matrix with seaborn heatmap\n",
        "\n",
        "cm_matrix = pd.DataFrame(data=cm, columns=['Actual Positive:1', 'Actual Negative:0'], \n",
        "                                 index=['Predict Positive:1', 'Predict Negative:0'])\n",
        "\n",
        "sns.heatmap(cm_matrix, annot=True, fmt='d', cmap='YlGnBu')"
      ],
      "execution_count": 47,
      "outputs": [
        {
          "output_type": "execute_result",
          "data": {
            "text/plain": [
              "<matplotlib.axes._subplots.AxesSubplot at 0x7fe8f9f92350>"
            ]
          },
          "metadata": {},
          "execution_count": 47
        },
        {
          "output_type": "display_data",
          "data": {
            "image/png": "[encoded data removed]",
            "text/plain": [
              "<Figure size 432x288 with 2 Axes>"
            ]
          },
          "metadata": {
            "needs_background": "light"
          }
        },
        {
          "output_type": "stream",
          "name": "stdout",
          "text": [
            "time: 240 ms (started: 2021-09-06 12:53:03 +00:00)\n"
          ]
        }
      ]
    }
  ]
}